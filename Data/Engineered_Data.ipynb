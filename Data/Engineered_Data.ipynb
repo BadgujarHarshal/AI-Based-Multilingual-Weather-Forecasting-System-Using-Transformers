{
  "cells": [
    {
      "cell_type": "code",
      "execution_count": null,
      "metadata": {
        "colab": {
          "base_uri": "https://localhost:8080/",
          "height": 1000
        },
        "id": "wAdd-so3RfOd",
        "outputId": "7b1c78b1-3997-431d-f547-c8afb39dae82"
      },
      "outputs": [
        {
          "name": "stdout",
          "output_type": "stream",
          "text": [
            "Created output directory: Engineered_Data_Output/\n",
            "\n",
            "--- Processing ahmedabad_hourly_weather_scaled.csv for Feature Engineering ---\n",
            "Loaded scaled data for ahmedabad_hourly_weather_scaled.csv. Head:\n",
            "                            temp      dwpt  rhum  prcp      wspd      pres\n",
            "time                                                                      \n",
            "2021-01-01 05:30:00+05:30  0.215  0.244582  0.54   0.0  0.045509  0.748649\n",
            "2021-01-01 06:30:00+05:30  0.175  0.176471  0.51   0.0  0.056287  0.756757\n",
            "2021-01-01 07:30:00+05:30  0.175  0.176471  0.51   0.0  0.056287  0.756757\n",
            "2021-01-01 08:30:00+05:30  0.210  0.250774  0.56   0.0  0.045509  0.797297\n",
            "2021-01-01 09:30:00+05:30  0.250  0.232198  0.45   0.0  0.067066  0.810811\n",
            "Engineered Data Sample for ahmedabad_hourly_weather_scaled.csv:\n",
            "                            temp      dwpt  rhum  prcp      wspd      pres  \\\n",
            "time                                                                         \n",
            "2021-01-01 05:30:00+05:30  0.215  0.244582  0.54   0.0  0.045509  0.748649   \n",
            "2021-01-01 06:30:00+05:30  0.175  0.176471  0.51   0.0  0.056287  0.756757   \n",
            "2021-01-01 07:30:00+05:30  0.175  0.176471  0.51   0.0  0.056287  0.756757   \n",
            "2021-01-01 08:30:00+05:30  0.210  0.250774  0.56   0.0  0.045509  0.797297   \n",
            "2021-01-01 09:30:00+05:30  0.250  0.232198  0.45   0.0  0.067066  0.810811   \n",
            "\n",
            "                           temp_lag1  rhum_lag1  wspd_lag1  wspd_lag2  \\\n",
            "time                                                                    \n",
            "2021-01-01 05:30:00+05:30      0.215       0.54   0.045509   0.045509   \n",
            "2021-01-01 06:30:00+05:30      0.215       0.54   0.045509   0.045509   \n",
            "2021-01-01 07:30:00+05:30      0.175       0.51   0.056287   0.045509   \n",
            "2021-01-01 08:30:00+05:30      0.175       0.51   0.056287   0.056287   \n",
            "2021-01-01 09:30:00+05:30      0.210       0.56   0.045509   0.056287   \n",
            "\n",
            "                           wspd_lag3  temp_roll_mean_3h  prcp_roll_sum_6h  \\\n",
            "time                                                                        \n",
            "2021-01-01 05:30:00+05:30   0.045509           0.215000               0.0   \n",
            "2021-01-01 06:30:00+05:30   0.045509           0.195000               0.0   \n",
            "2021-01-01 07:30:00+05:30   0.045509           0.188333               0.0   \n",
            "2021-01-01 08:30:00+05:30   0.045509           0.186667               0.0   \n",
            "2021-01-01 09:30:00+05:30   0.056287           0.211667               0.0   \n",
            "\n",
            "                           hour  month  weekday  \n",
            "time                                             \n",
            "2021-01-01 05:30:00+05:30     5      1        4  \n",
            "2021-01-01 06:30:00+05:30     6      1        4  \n",
            "2021-01-01 07:30:00+05:30     7      1        4  \n",
            "2021-01-01 08:30:00+05:30     8      1        4  \n",
            "2021-01-01 09:30:00+05:30     9      1        4  \n",
            "Engineered Data Columns: ['temp', 'dwpt', 'rhum', 'prcp', 'wspd', 'pres', 'temp_lag1', 'rhum_lag1', 'wspd_lag1', 'wspd_lag2', 'wspd_lag3', 'temp_roll_mean_3h', 'prcp_roll_sum_6h', 'hour', 'month', 'weekday']\n",
            "Engineered Data Shape: (35041, 16)\n"
          ]
        },
        {
          "name": "stderr",
          "output_type": "stream",
          "text": [
            "<ipython-input-2-9772d4a5e8cf>:96: FutureWarning: DataFrame.fillna with 'method' is deprecated and will raise in a future version. Use obj.ffill() or obj.bfill() instead.\n",
            "  df_engineered = df_engineered.fillna(method='ffill').fillna(method='bfill')\n"
          ]
        },
        {
          "name": "stdout",
          "output_type": "stream",
          "text": [
            "Successfully engineered and saved data for: ahmedabad_hourly_weather_scaled.csv to Engineered_Data_Output/ahmedabad_hourly_weather_engineered.csv\n"
          ]
        },
        {
          "data": {
            "application/javascript": "\n    async function download(id, filename, size) {\n      if (!google.colab.kernel.accessAllowed) {\n        return;\n      }\n      const div = document.createElement('div');\n      const label = document.createElement('label');\n      label.textContent = `Downloading \"${filename}\": `;\n      div.appendChild(label);\n      const progress = document.createElement('progress');\n      progress.max = size;\n      div.appendChild(progress);\n      document.body.appendChild(div);\n\n      const buffers = [];\n      let downloaded = 0;\n\n      const channel = await google.colab.kernel.comms.open(id);\n      // Send a message to notify the kernel that we're ready.\n      channel.send({})\n\n      for await (const message of channel.messages) {\n        // Send a message to notify the kernel that we're ready.\n        channel.send({})\n        if (message.buffers) {\n          for (const buffer of message.buffers) {\n            buffers.push(buffer);\n            downloaded += buffer.byteLength;\n            progress.value = downloaded;\n          }\n        }\n      }\n      const blob = new Blob(buffers, {type: 'application/binary'});\n      const a = document.createElement('a');\n      a.href = window.URL.createObjectURL(blob);\n      a.download = filename;\n      div.appendChild(a);\n      a.click();\n      div.remove();\n    }\n  ",
            "text/plain": [
              "<IPython.core.display.Javascript object>"
            ]
          },
          "metadata": {},
          "output_type": "display_data"
        },
        {
          "data": {
            "application/javascript": "download(\"download_0f2e9d7d-1268-4af7-8914-d8401416e12b\", \"ahmedabad_hourly_weather_engineered.csv\", 7041333)",
            "text/plain": [
              "<IPython.core.display.Javascript object>"
            ]
          },
          "metadata": {},
          "output_type": "display_data"
        },
        {
          "name": "stdout",
          "output_type": "stream",
          "text": [
            "\n",
            "--- Processing bengaluru_hourly_weather_scaled.csv for Feature Engineering ---\n",
            "Loaded scaled data for bengaluru_hourly_weather_scaled.csv. Head:\n",
            "                               temp      dwpt      rhum  prcp      wspd  \\\n",
            "time                                                                      \n",
            "2021-01-01 05:30:00+05:30  0.228873  0.539823  0.888889   0.0  0.024275   \n",
            "2021-01-01 06:30:00+05:30  0.235915  0.637168  1.000000   0.0  0.051247   \n",
            "2021-01-01 07:30:00+05:30  0.235915  0.637168  1.000000   0.0  0.051247   \n",
            "2021-01-01 08:30:00+05:30  0.271127  0.504425  0.777778   0.0  0.036413   \n",
            "2021-01-01 09:30:00+05:30  0.341549  0.530973  0.700000   0.0  0.099798   \n",
            "\n",
            "                               pres  \n",
            "time                                 \n",
            "2021-01-01 05:30:00+05:30  0.616080  \n",
            "2021-01-01 06:30:00+05:30  0.626131  \n",
            "2021-01-01 07:30:00+05:30  0.636181  \n",
            "2021-01-01 08:30:00+05:30  0.646231  \n",
            "2021-01-01 09:30:00+05:30  0.646231  \n",
            "Engineered Data Sample for bengaluru_hourly_weather_scaled.csv:\n",
            "                               temp      dwpt      rhum  prcp      wspd  \\\n",
            "time                                                                      \n",
            "2021-01-01 05:30:00+05:30  0.228873  0.539823  0.888889   0.0  0.024275   \n",
            "2021-01-01 06:30:00+05:30  0.235915  0.637168  1.000000   0.0  0.051247   \n",
            "2021-01-01 07:30:00+05:30  0.235915  0.637168  1.000000   0.0  0.051247   \n",
            "2021-01-01 08:30:00+05:30  0.271127  0.504425  0.777778   0.0  0.036413   \n",
            "2021-01-01 09:30:00+05:30  0.341549  0.530973  0.700000   0.0  0.099798   \n",
            "\n",
            "                               pres  temp_lag1  rhum_lag1  wspd_lag1  \\\n",
            "time                                                                   \n",
            "2021-01-01 05:30:00+05:30  0.616080   0.228873   0.888889   0.024275   \n",
            "2021-01-01 06:30:00+05:30  0.626131   0.228873   0.888889   0.024275   \n",
            "2021-01-01 07:30:00+05:30  0.636181   0.235915   1.000000   0.051247   \n",
            "2021-01-01 08:30:00+05:30  0.646231   0.235915   1.000000   0.051247   \n",
            "2021-01-01 09:30:00+05:30  0.646231   0.271127   0.777778   0.036413   \n",
            "\n",
            "                           wspd_lag2  wspd_lag3  temp_roll_mean_3h  \\\n",
            "time                                                                 \n",
            "2021-01-01 05:30:00+05:30   0.024275   0.024275           0.228873   \n",
            "2021-01-01 06:30:00+05:30   0.024275   0.024275           0.232394   \n",
            "2021-01-01 07:30:00+05:30   0.024275   0.024275           0.233568   \n",
            "2021-01-01 08:30:00+05:30   0.051247   0.024275           0.247653   \n",
            "2021-01-01 09:30:00+05:30   0.051247   0.051247           0.282864   \n",
            "\n",
            "                           prcp_roll_sum_6h  hour  month  weekday  \n",
            "time                                                               \n",
            "2021-01-01 05:30:00+05:30               0.0     5      1        4  \n",
            "2021-01-01 06:30:00+05:30               0.0     6      1        4  \n",
            "2021-01-01 07:30:00+05:30               0.0     7      1        4  \n",
            "2021-01-01 08:30:00+05:30               0.0     8      1        4  \n",
            "2021-01-01 09:30:00+05:30               0.0     9      1        4  \n",
            "Engineered Data Columns: ['temp', 'dwpt', 'rhum', 'prcp', 'wspd', 'pres', 'temp_lag1', 'rhum_lag1', 'wspd_lag1', 'wspd_lag2', 'wspd_lag3', 'temp_roll_mean_3h', 'prcp_roll_sum_6h', 'hour', 'month', 'weekday']\n",
            "Engineered Data Shape: (35041, 16)\n"
          ]
        },
        {
          "name": "stderr",
          "output_type": "stream",
          "text": [
            "<ipython-input-2-9772d4a5e8cf>:96: FutureWarning: DataFrame.fillna with 'method' is deprecated and will raise in a future version. Use obj.ffill() or obj.bfill() instead.\n",
            "  df_engineered = df_engineered.fillna(method='ffill').fillna(method='bfill')\n"
          ]
        },
        {
          "name": "stdout",
          "output_type": "stream",
          "text": [
            "Successfully engineered and saved data for: bengaluru_hourly_weather_scaled.csv to Engineered_Data_Output/bengaluru_hourly_weather_engineered.csv\n"
          ]
        },
        {
          "data": {
            "application/javascript": "\n    async function download(id, filename, size) {\n      if (!google.colab.kernel.accessAllowed) {\n        return;\n      }\n      const div = document.createElement('div');\n      const label = document.createElement('label');\n      label.textContent = `Downloading \"${filename}\": `;\n      div.appendChild(label);\n      const progress = document.createElement('progress');\n      progress.max = size;\n      div.appendChild(progress);\n      document.body.appendChild(div);\n\n      const buffers = [];\n      let downloaded = 0;\n\n      const channel = await google.colab.kernel.comms.open(id);\n      // Send a message to notify the kernel that we're ready.\n      channel.send({})\n\n      for await (const message of channel.messages) {\n        // Send a message to notify the kernel that we're ready.\n        channel.send({})\n        if (message.buffers) {\n          for (const buffer of message.buffers) {\n            buffers.push(buffer);\n            downloaded += buffer.byteLength;\n            progress.value = downloaded;\n          }\n        }\n      }\n      const blob = new Blob(buffers, {type: 'application/binary'});\n      const a = document.createElement('a');\n      a.href = window.URL.createObjectURL(blob);\n      a.download = filename;\n      div.appendChild(a);\n      a.click();\n      div.remove();\n    }\n  ",
            "text/plain": [
              "<IPython.core.display.Javascript object>"
            ]
          },
          "metadata": {},
          "output_type": "display_data"
        },
        {
          "data": {
            "application/javascript": "download(\"download_98fb79ea-05e9-4915-8424-f15df01cb720\", \"bengaluru_hourly_weather_engineered.csv\", 8833118)",
            "text/plain": [
              "<IPython.core.display.Javascript object>"
            ]
          },
          "metadata": {},
          "output_type": "display_data"
        },
        {
          "name": "stdout",
          "output_type": "stream",
          "text": [
            "\n",
            "--- Processing bhopal_hourly_weather_scaled.csv for Feature Engineering ---\n",
            "Loaded scaled data for bhopal_hourly_weather_scaled.csv. Head:\n",
            "                               temp   dwpt      rhum  prcp   wspd      pres\n",
            "time                                                                       \n",
            "2021-01-01 05:30:00+05:30  0.116732  0.290  0.926316   0.0  0.018  0.759420\n",
            "2021-01-01 06:30:00+05:30  0.124514  0.305  0.936842   0.0  0.038  0.768116\n",
            "2021-01-01 07:30:00+05:30  0.105058  0.280  0.936842   0.0  0.030  0.797101\n",
            "2021-01-01 08:30:00+05:30  0.124514  0.275  0.873684   0.0  0.038  0.823188\n",
            "2021-01-01 09:30:00+05:30  0.280156  0.315  0.536842   0.0  0.035  0.855072\n",
            "Engineered Data Sample for bhopal_hourly_weather_scaled.csv:\n",
            "                               temp   dwpt      rhum  prcp   wspd      pres  \\\n",
            "time                                                                          \n",
            "2021-01-01 05:30:00+05:30  0.116732  0.290  0.926316   0.0  0.018  0.759420   \n",
            "2021-01-01 06:30:00+05:30  0.124514  0.305  0.936842   0.0  0.038  0.768116   \n",
            "2021-01-01 07:30:00+05:30  0.105058  0.280  0.936842   0.0  0.030  0.797101   \n",
            "2021-01-01 08:30:00+05:30  0.124514  0.275  0.873684   0.0  0.038  0.823188   \n",
            "2021-01-01 09:30:00+05:30  0.280156  0.315  0.536842   0.0  0.035  0.855072   \n",
            "\n",
            "                           temp_lag1  rhum_lag1  wspd_lag1  wspd_lag2  \\\n",
            "time                                                                    \n",
            "2021-01-01 05:30:00+05:30   0.116732   0.926316      0.018      0.018   \n",
            "2021-01-01 06:30:00+05:30   0.116732   0.926316      0.018      0.018   \n",
            "2021-01-01 07:30:00+05:30   0.124514   0.936842      0.038      0.018   \n",
            "2021-01-01 08:30:00+05:30   0.105058   0.936842      0.030      0.038   \n",
            "2021-01-01 09:30:00+05:30   0.124514   0.873684      0.038      0.030   \n",
            "\n",
            "                           wspd_lag3  temp_roll_mean_3h  prcp_roll_sum_6h  \\\n",
            "time                                                                        \n",
            "2021-01-01 05:30:00+05:30      0.018           0.116732               0.0   \n",
            "2021-01-01 06:30:00+05:30      0.018           0.120623               0.0   \n",
            "2021-01-01 07:30:00+05:30      0.018           0.115435               0.0   \n",
            "2021-01-01 08:30:00+05:30      0.018           0.118029               0.0   \n",
            "2021-01-01 09:30:00+05:30      0.038           0.169909               0.0   \n",
            "\n",
            "                           hour  month  weekday  \n",
            "time                                             \n",
            "2021-01-01 05:30:00+05:30     5      1        4  \n",
            "2021-01-01 06:30:00+05:30     6      1        4  \n",
            "2021-01-01 07:30:00+05:30     7      1        4  \n",
            "2021-01-01 08:30:00+05:30     8      1        4  \n",
            "2021-01-01 09:30:00+05:30     9      1        4  \n",
            "Engineered Data Columns: ['temp', 'dwpt', 'rhum', 'prcp', 'wspd', 'pres', 'temp_lag1', 'rhum_lag1', 'wspd_lag1', 'wspd_lag2', 'wspd_lag3', 'temp_roll_mean_3h', 'prcp_roll_sum_6h', 'hour', 'month', 'weekday']\n",
            "Engineered Data Shape: (35041, 16)\n"
          ]
        },
        {
          "name": "stderr",
          "output_type": "stream",
          "text": [
            "<ipython-input-2-9772d4a5e8cf>:96: FutureWarning: DataFrame.fillna with 'method' is deprecated and will raise in a future version. Use obj.ffill() or obj.bfill() instead.\n",
            "  df_engineered = df_engineered.fillna(method='ffill').fillna(method='bfill')\n"
          ]
        },
        {
          "name": "stdout",
          "output_type": "stream",
          "text": [
            "Successfully engineered and saved data for: bhopal_hourly_weather_scaled.csv to Engineered_Data_Output/bhopal_hourly_weather_engineered.csv\n"
          ]
        },
        {
          "data": {
            "application/javascript": "\n    async function download(id, filename, size) {\n      if (!google.colab.kernel.accessAllowed) {\n        return;\n      }\n      const div = document.createElement('div');\n      const label = document.createElement('label');\n      label.textContent = `Downloading \"${filename}\": `;\n      div.appendChild(label);\n      const progress = document.createElement('progress');\n      progress.max = size;\n      div.appendChild(progress);\n      document.body.appendChild(div);\n\n      const buffers = [];\n      let downloaded = 0;\n\n      const channel = await google.colab.kernel.comms.open(id);\n      // Send a message to notify the kernel that we're ready.\n      channel.send({})\n\n      for await (const message of channel.messages) {\n        // Send a message to notify the kernel that we're ready.\n        channel.send({})\n        if (message.buffers) {\n          for (const buffer of message.buffers) {\n            buffers.push(buffer);\n            downloaded += buffer.byteLength;\n            progress.value = downloaded;\n          }\n        }\n      }\n      const blob = new Blob(buffers, {type: 'application/binary'});\n      const a = document.createElement('a');\n      a.href = window.URL.createObjectURL(blob);\n      a.download = filename;\n      div.appendChild(a);\n      a.click();\n      div.remove();\n    }\n  ",
            "text/plain": [
              "<IPython.core.display.Javascript object>"
            ]
          },
          "metadata": {},
          "output_type": "display_data"
        },
        {
          "data": {
            "application/javascript": "download(\"download_fb7f8880-fc36-4a8b-9250-c76571e05cbd\", \"bhopal_hourly_weather_engineered.csv\", 6987645)",
            "text/plain": [
              "<IPython.core.display.Javascript object>"
            ]
          },
          "metadata": {},
          "output_type": "display_data"
        },
        {
          "name": "stdout",
          "output_type": "stream",
          "text": [
            "\n",
            "--- Processing bhubaneswar_hourly_weather_scaled.csv for Feature Engineering ---\n",
            "Loaded scaled data for bhubaneswar_hourly_weather_scaled.csv. Head:\n",
            "                               temp      dwpt      rhum  prcp      wspd  \\\n",
            "time                                                                      \n",
            "2021-01-01 05:30:00+05:30  0.156977  0.220472  0.879121   0.0  0.034615   \n",
            "2021-01-01 06:30:00+05:30  0.145349  0.244094  0.934066   0.0  0.034615   \n",
            "2021-01-01 07:30:00+05:30  0.203488  0.228346  0.802198   0.0  0.034615   \n",
            "2021-01-01 08:30:00+05:30  0.267442  0.165354  0.593407   0.0  0.034615   \n",
            "2021-01-01 09:30:00+05:30  0.319767  0.157480  0.483516   0.0  0.159615   \n",
            "\n",
            "                               pres  \n",
            "time                                 \n",
            "2021-01-01 05:30:00+05:30  0.777457  \n",
            "2021-01-01 06:30:00+05:30  0.797688  \n",
            "2021-01-01 07:30:00+05:30  0.826590  \n",
            "2021-01-01 08:30:00+05:30  0.861272  \n",
            "2021-01-01 09:30:00+05:30  0.855491  \n",
            "Engineered Data Sample for bhubaneswar_hourly_weather_scaled.csv:\n",
            "                               temp      dwpt      rhum  prcp      wspd  \\\n",
            "time                                                                      \n",
            "2021-01-01 05:30:00+05:30  0.156977  0.220472  0.879121   0.0  0.034615   \n",
            "2021-01-01 06:30:00+05:30  0.145349  0.244094  0.934066   0.0  0.034615   \n",
            "2021-01-01 07:30:00+05:30  0.203488  0.228346  0.802198   0.0  0.034615   \n",
            "2021-01-01 08:30:00+05:30  0.267442  0.165354  0.593407   0.0  0.034615   \n",
            "2021-01-01 09:30:00+05:30  0.319767  0.157480  0.483516   0.0  0.159615   \n",
            "\n",
            "                               pres  temp_lag1  rhum_lag1  wspd_lag1  \\\n",
            "time                                                                   \n",
            "2021-01-01 05:30:00+05:30  0.777457   0.156977   0.879121   0.034615   \n",
            "2021-01-01 06:30:00+05:30  0.797688   0.156977   0.879121   0.034615   \n",
            "2021-01-01 07:30:00+05:30  0.826590   0.145349   0.934066   0.034615   \n",
            "2021-01-01 08:30:00+05:30  0.861272   0.203488   0.802198   0.034615   \n",
            "2021-01-01 09:30:00+05:30  0.855491   0.267442   0.593407   0.034615   \n",
            "\n",
            "                           wspd_lag2  wspd_lag3  temp_roll_mean_3h  \\\n",
            "time                                                                 \n",
            "2021-01-01 05:30:00+05:30   0.034615   0.034615           0.156977   \n",
            "2021-01-01 06:30:00+05:30   0.034615   0.034615           0.151163   \n",
            "2021-01-01 07:30:00+05:30   0.034615   0.034615           0.168605   \n",
            "2021-01-01 08:30:00+05:30   0.034615   0.034615           0.205426   \n",
            "2021-01-01 09:30:00+05:30   0.034615   0.034615           0.263566   \n",
            "\n",
            "                           prcp_roll_sum_6h  hour  month  weekday  \n",
            "time                                                               \n",
            "2021-01-01 05:30:00+05:30               0.0     5      1        4  \n",
            "2021-01-01 06:30:00+05:30               0.0     6      1        4  \n",
            "2021-01-01 07:30:00+05:30               0.0     7      1        4  \n",
            "2021-01-01 08:30:00+05:30               0.0     8      1        4  \n",
            "2021-01-01 09:30:00+05:30               0.0     9      1        4  \n",
            "Engineered Data Columns: ['temp', 'dwpt', 'rhum', 'prcp', 'wspd', 'pres', 'temp_lag1', 'rhum_lag1', 'wspd_lag1', 'wspd_lag2', 'wspd_lag3', 'temp_roll_mean_3h', 'prcp_roll_sum_6h', 'hour', 'month', 'weekday']\n",
            "Engineered Data Shape: (35041, 16)\n"
          ]
        },
        {
          "name": "stderr",
          "output_type": "stream",
          "text": [
            "<ipython-input-2-9772d4a5e8cf>:96: FutureWarning: DataFrame.fillna with 'method' is deprecated and will raise in a future version. Use obj.ffill() or obj.bfill() instead.\n",
            "  df_engineered = df_engineered.fillna(method='ffill').fillna(method='bfill')\n"
          ]
        },
        {
          "name": "stdout",
          "output_type": "stream",
          "text": [
            "Successfully engineered and saved data for: bhubaneswar_hourly_weather_scaled.csv to Engineered_Data_Output/bhubaneswar_hourly_weather_engineered.csv\n"
          ]
        },
        {
          "data": {
            "application/javascript": "\n    async function download(id, filename, size) {\n      if (!google.colab.kernel.accessAllowed) {\n        return;\n      }\n      const div = document.createElement('div');\n      const label = document.createElement('label');\n      label.textContent = `Downloading \"${filename}\": `;\n      div.appendChild(label);\n      const progress = document.createElement('progress');\n      progress.max = size;\n      div.appendChild(progress);\n      document.body.appendChild(div);\n\n      const buffers = [];\n      let downloaded = 0;\n\n      const channel = await google.colab.kernel.comms.open(id);\n      // Send a message to notify the kernel that we're ready.\n      channel.send({})\n\n      for await (const message of channel.messages) {\n        // Send a message to notify the kernel that we're ready.\n        channel.send({})\n        if (message.buffers) {\n          for (const buffer of message.buffers) {\n            buffers.push(buffer);\n            downloaded += buffer.byteLength;\n            progress.value = downloaded;\n          }\n        }\n      }\n      const blob = new Blob(buffers, {type: 'application/binary'});\n      const a = document.createElement('a');\n      a.href = window.URL.createObjectURL(blob);\n      a.download = filename;\n      div.appendChild(a);\n      a.click();\n      div.remove();\n    }\n  ",
            "text/plain": [
              "<IPython.core.display.Javascript object>"
            ]
          },
          "metadata": {},
          "output_type": "display_data"
        },
        {
          "data": {
            "application/javascript": "download(\"download_f56b29ae-8e88-495a-a3cc-2962918276a4\", \"bhubaneswar_hourly_weather_engineered.csv\", 8618789)",
            "text/plain": [
              "<IPython.core.display.Javascript object>"
            ]
          },
          "metadata": {},
          "output_type": "display_data"
        },
        {
          "name": "stdout",
          "output_type": "stream",
          "text": [
            "\n",
            "--- Processing bikaner_hourly_weather_scaled.csv for Feature Engineering ---\n",
            "Loaded scaled data for bikaner_hourly_weather_scaled.csv. Head:\n",
            "                               temp      dwpt      rhum  prcp      wspd  \\\n",
            "time                                                                      \n",
            "2021-01-01 11:30:00+05:30  0.318872  0.336683  0.397959   0.0  0.060606   \n",
            "2021-01-01 12:30:00+05:30  0.315401  0.332161  0.396939   0.0  0.084848   \n",
            "2021-01-01 13:30:00+05:30  0.311931  0.327638  0.395918   0.0  0.109091   \n",
            "2021-01-01 14:30:00+05:30  0.308460  0.323116  0.394898   0.0  0.133333   \n",
            "2021-01-01 15:30:00+05:30  0.304989  0.318593  0.393878   0.0  0.157576   \n",
            "\n",
            "                               pres  \n",
            "time                                 \n",
            "2021-01-01 11:30:00+05:30  0.717445  \n",
            "2021-01-01 12:30:00+05:30  0.714742  \n",
            "2021-01-01 13:30:00+05:30  0.712039  \n",
            "2021-01-01 14:30:00+05:30  0.709337  \n",
            "2021-01-01 15:30:00+05:30  0.706634  \n",
            "Engineered Data Sample for bikaner_hourly_weather_scaled.csv:\n",
            "                               temp      dwpt      rhum  prcp      wspd  \\\n",
            "time                                                                      \n",
            "2021-01-01 11:30:00+05:30  0.318872  0.336683  0.397959   0.0  0.060606   \n",
            "2021-01-01 12:30:00+05:30  0.315401  0.332161  0.396939   0.0  0.084848   \n",
            "2021-01-01 13:30:00+05:30  0.311931  0.327638  0.395918   0.0  0.109091   \n",
            "2021-01-01 14:30:00+05:30  0.308460  0.323116  0.394898   0.0  0.133333   \n",
            "2021-01-01 15:30:00+05:30  0.304989  0.318593  0.393878   0.0  0.157576   \n",
            "\n",
            "                               pres  temp_lag1  rhum_lag1  wspd_lag1  \\\n",
            "time                                                                   \n",
            "2021-01-01 11:30:00+05:30  0.717445   0.318872   0.397959   0.060606   \n",
            "2021-01-01 12:30:00+05:30  0.714742   0.318872   0.397959   0.060606   \n",
            "2021-01-01 13:30:00+05:30  0.712039   0.315401   0.396939   0.084848   \n",
            "2021-01-01 14:30:00+05:30  0.709337   0.311931   0.395918   0.109091   \n",
            "2021-01-01 15:30:00+05:30  0.706634   0.308460   0.394898   0.133333   \n",
            "\n",
            "                           wspd_lag2  wspd_lag3  temp_roll_mean_3h  \\\n",
            "time                                                                 \n",
            "2021-01-01 11:30:00+05:30   0.060606   0.060606           0.318872   \n",
            "2021-01-01 12:30:00+05:30   0.060606   0.060606           0.317137   \n",
            "2021-01-01 13:30:00+05:30   0.060606   0.060606           0.315401   \n",
            "2021-01-01 14:30:00+05:30   0.084848   0.060606           0.311931   \n",
            "2021-01-01 15:30:00+05:30   0.109091   0.084848           0.308460   \n",
            "\n",
            "                           prcp_roll_sum_6h  hour  month  weekday  \n",
            "time                                                               \n",
            "2021-01-01 11:30:00+05:30               0.0    11      1        4  \n",
            "2021-01-01 12:30:00+05:30               0.0    12      1        4  \n",
            "2021-01-01 13:30:00+05:30               0.0    13      1        4  \n",
            "2021-01-01 14:30:00+05:30               0.0    14      1        4  \n",
            "2021-01-01 15:30:00+05:30               0.0    15      1        4  \n",
            "Engineered Data Columns: ['temp', 'dwpt', 'rhum', 'prcp', 'wspd', 'pres', 'temp_lag1', 'rhum_lag1', 'wspd_lag1', 'wspd_lag2', 'wspd_lag3', 'temp_roll_mean_3h', 'prcp_roll_sum_6h', 'hour', 'month', 'weekday']\n",
            "Engineered Data Shape: (35035, 16)\n"
          ]
        },
        {
          "name": "stderr",
          "output_type": "stream",
          "text": [
            "<ipython-input-2-9772d4a5e8cf>:96: FutureWarning: DataFrame.fillna with 'method' is deprecated and will raise in a future version. Use obj.ffill() or obj.bfill() instead.\n",
            "  df_engineered = df_engineered.fillna(method='ffill').fillna(method='bfill')\n"
          ]
        },
        {
          "name": "stdout",
          "output_type": "stream",
          "text": [
            "Successfully engineered and saved data for: bikaner_hourly_weather_scaled.csv to Engineered_Data_Output/bikaner_hourly_weather_engineered.csv\n"
          ]
        },
        {
          "data": {
            "application/javascript": "\n    async function download(id, filename, size) {\n      if (!google.colab.kernel.accessAllowed) {\n        return;\n      }\n      const div = document.createElement('div');\n      const label = document.createElement('label');\n      label.textContent = `Downloading \"${filename}\": `;\n      div.appendChild(label);\n      const progress = document.createElement('progress');\n      progress.max = size;\n      div.appendChild(progress);\n      document.body.appendChild(div);\n\n      const buffers = [];\n      let downloaded = 0;\n\n      const channel = await google.colab.kernel.comms.open(id);\n      // Send a message to notify the kernel that we're ready.\n      channel.send({})\n\n      for await (const message of channel.messages) {\n        // Send a message to notify the kernel that we're ready.\n        channel.send({})\n        if (message.buffers) {\n          for (const buffer of message.buffers) {\n            buffers.push(buffer);\n            downloaded += buffer.byteLength;\n            progress.value = downloaded;\n          }\n        }\n      }\n      const blob = new Blob(buffers, {type: 'application/binary'});\n      const a = document.createElement('a');\n      a.href = window.URL.createObjectURL(blob);\n      a.download = filename;\n      div.appendChild(a);\n      a.click();\n      div.remove();\n    }\n  ",
            "text/plain": [
              "<IPython.core.display.Javascript object>"
            ]
          },
          "metadata": {},
          "output_type": "display_data"
        },
        {
          "data": {
            "application/javascript": "download(\"download_3503cc64-1195-42da-87b6-9be3c6fc7116\", \"bikaner_hourly_weather_engineered.csv\", 8474049)",
            "text/plain": [
              "<IPython.core.display.Javascript object>"
            ]
          },
          "metadata": {},
          "output_type": "display_data"
        },
        {
          "name": "stdout",
          "output_type": "stream",
          "text": [
            "\n",
            "--- Processing chandigarh_hourly_weather_scaled.csv for Feature Engineering ---\n",
            "Loaded scaled data for chandigarh_hourly_weather_scaled.csv. Head:\n",
            "                               temp      dwpt      rhum  prcp      wspd  \\\n",
            "time                                                                      \n",
            "2021-01-01 21:30:00+05:30  0.127907  0.260234  0.787234   0.0  0.141304   \n",
            "2021-01-01 22:30:00+05:30  0.137209  0.236842  0.723404   0.0  0.141304   \n",
            "2021-01-01 23:30:00+05:30  0.132558  0.213450  0.691489   0.0  0.126087   \n",
            "2021-01-02 00:30:00+05:30  0.132558  0.166667  0.606383   0.0  0.132609   \n",
            "2021-01-02 01:30:00+05:30  0.139535  0.128655  0.521277   0.0  0.102174   \n",
            "\n",
            "                               pres  \n",
            "time                                 \n",
            "2021-01-01 21:30:00+05:30  0.773109  \n",
            "2021-01-01 22:30:00+05:30  0.770308  \n",
            "2021-01-01 23:30:00+05:30  0.778711  \n",
            "2021-01-02 00:30:00+05:30  0.764706  \n",
            "2021-01-02 01:30:00+05:30  0.753501  \n",
            "Engineered Data Sample for chandigarh_hourly_weather_scaled.csv:\n",
            "                               temp      dwpt      rhum  prcp      wspd  \\\n",
            "time                                                                      \n",
            "2021-01-01 21:30:00+05:30  0.127907  0.260234  0.787234   0.0  0.141304   \n",
            "2021-01-01 22:30:00+05:30  0.137209  0.236842  0.723404   0.0  0.141304   \n",
            "2021-01-01 23:30:00+05:30  0.132558  0.213450  0.691489   0.0  0.126087   \n",
            "2021-01-02 00:30:00+05:30  0.132558  0.166667  0.606383   0.0  0.132609   \n",
            "2021-01-02 01:30:00+05:30  0.139535  0.128655  0.521277   0.0  0.102174   \n",
            "\n",
            "                               pres  temp_lag1  rhum_lag1  wspd_lag1  \\\n",
            "time                                                                   \n",
            "2021-01-01 21:30:00+05:30  0.773109   0.127907   0.787234   0.141304   \n",
            "2021-01-01 22:30:00+05:30  0.770308   0.127907   0.787234   0.141304   \n",
            "2021-01-01 23:30:00+05:30  0.778711   0.137209   0.723404   0.141304   \n",
            "2021-01-02 00:30:00+05:30  0.764706   0.132558   0.691489   0.126087   \n",
            "2021-01-02 01:30:00+05:30  0.753501   0.132558   0.606383   0.132609   \n",
            "\n",
            "                           wspd_lag2  wspd_lag3  temp_roll_mean_3h  \\\n",
            "time                                                                 \n",
            "2021-01-01 21:30:00+05:30   0.141304   0.141304           0.127907   \n",
            "2021-01-01 22:30:00+05:30   0.141304   0.141304           0.132558   \n",
            "2021-01-01 23:30:00+05:30   0.141304   0.141304           0.132558   \n",
            "2021-01-02 00:30:00+05:30   0.141304   0.141304           0.134109   \n",
            "2021-01-02 01:30:00+05:30   0.126087   0.141304           0.134884   \n",
            "\n",
            "                           prcp_roll_sum_6h  hour  month  weekday  \n",
            "time                                                               \n",
            "2021-01-01 21:30:00+05:30               0.0    21      1        4  \n",
            "2021-01-01 22:30:00+05:30               0.0    22      1        4  \n",
            "2021-01-01 23:30:00+05:30               0.0    23      1        4  \n",
            "2021-01-02 00:30:00+05:30               0.0     0      1        5  \n",
            "2021-01-02 01:30:00+05:30               0.0     1      1        5  \n",
            "Engineered Data Columns: ['temp', 'dwpt', 'rhum', 'prcp', 'wspd', 'pres', 'temp_lag1', 'rhum_lag1', 'wspd_lag1', 'wspd_lag2', 'wspd_lag3', 'temp_roll_mean_3h', 'prcp_roll_sum_6h', 'hour', 'month', 'weekday']\n",
            "Engineered Data Shape: (35025, 16)\n"
          ]
        },
        {
          "name": "stderr",
          "output_type": "stream",
          "text": [
            "<ipython-input-2-9772d4a5e8cf>:96: FutureWarning: DataFrame.fillna with 'method' is deprecated and will raise in a future version. Use obj.ffill() or obj.bfill() instead.\n",
            "  df_engineered = df_engineered.fillna(method='ffill').fillna(method='bfill')\n"
          ]
        },
        {
          "name": "stdout",
          "output_type": "stream",
          "text": [
            "Successfully engineered and saved data for: chandigarh_hourly_weather_scaled.csv to Engineered_Data_Output/chandigarh_hourly_weather_engineered.csv\n"
          ]
        },
        {
          "data": {
            "application/javascript": "\n    async function download(id, filename, size) {\n      if (!google.colab.kernel.accessAllowed) {\n        return;\n      }\n      const div = document.createElement('div');\n      const label = document.createElement('label');\n      label.textContent = `Downloading \"${filename}\": `;\n      div.appendChild(label);\n      const progress = document.createElement('progress');\n      progress.max = size;\n      div.appendChild(progress);\n      document.body.appendChild(div);\n\n      const buffers = [];\n      let downloaded = 0;\n\n      const channel = await google.colab.kernel.comms.open(id);\n      // Send a message to notify the kernel that we're ready.\n      channel.send({})\n\n      for await (const message of channel.messages) {\n        // Send a message to notify the kernel that we're ready.\n        channel.send({})\n        if (message.buffers) {\n          for (const buffer of message.buffers) {\n            buffers.push(buffer);\n            downloaded += buffer.byteLength;\n            progress.value = downloaded;\n          }\n        }\n      }\n      const blob = new Blob(buffers, {type: 'application/binary'});\n      const a = document.createElement('a');\n      a.href = window.URL.createObjectURL(blob);\n      a.download = filename;\n      div.appendChild(a);\n      a.click();\n      div.remove();\n    }\n  ",
            "text/plain": [
              "<IPython.core.display.Javascript object>"
            ]
          },
          "metadata": {},
          "output_type": "display_data"
        },
        {
          "data": {
            "application/javascript": "download(\"download_e953b265-d286-4616-aa12-6640f5fb0ee4\", \"chandigarh_hourly_weather_engineered.csv\", 8771613)",
            "text/plain": [
              "<IPython.core.display.Javascript object>"
            ]
          },
          "metadata": {},
          "output_type": "display_data"
        },
        {
          "name": "stdout",
          "output_type": "stream",
          "text": [
            "\n",
            "--- Processing chennai_hourly_weather_scaled.csv for Feature Engineering ---\n",
            "Loaded scaled data for chennai_hourly_weather_scaled.csv. Head:\n",
            "                               temp      dwpt      rhum  prcp      wspd  \\\n",
            "time                                                                      \n",
            "2021-01-01 05:30:00+05:30  0.251029  0.317972  0.842105   0.0  0.041667   \n",
            "2021-01-01 06:30:00+05:30  0.275720  0.354839  0.855263   0.0  0.027778   \n",
            "2021-01-01 07:30:00+05:30  0.275720  0.354839  0.855263   0.0  0.027778   \n",
            "2021-01-01 08:30:00+05:30  0.358025  0.299539  0.644737   0.0  0.041667   \n",
            "2021-01-01 09:30:00+05:30  0.358025  0.354839  0.723684   0.0  0.041667   \n",
            "\n",
            "                               pres  \n",
            "time                                 \n",
            "2021-01-01 05:30:00+05:30  0.710938  \n",
            "2021-01-01 06:30:00+05:30  0.742188  \n",
            "2021-01-01 07:30:00+05:30  0.742188  \n",
            "2021-01-01 08:30:00+05:30  0.765625  \n",
            "2021-01-01 09:30:00+05:30  0.820312  \n",
            "Engineered Data Sample for chennai_hourly_weather_scaled.csv:\n",
            "                               temp      dwpt      rhum  prcp      wspd  \\\n",
            "time                                                                      \n",
            "2021-01-01 05:30:00+05:30  0.251029  0.317972  0.842105   0.0  0.041667   \n",
            "2021-01-01 06:30:00+05:30  0.275720  0.354839  0.855263   0.0  0.027778   \n",
            "2021-01-01 07:30:00+05:30  0.275720  0.354839  0.855263   0.0  0.027778   \n",
            "2021-01-01 08:30:00+05:30  0.358025  0.299539  0.644737   0.0  0.041667   \n",
            "2021-01-01 09:30:00+05:30  0.358025  0.354839  0.723684   0.0  0.041667   \n",
            "\n",
            "                               pres  temp_lag1  rhum_lag1  wspd_lag1  \\\n",
            "time                                                                   \n",
            "2021-01-01 05:30:00+05:30  0.710938   0.251029   0.842105   0.041667   \n",
            "2021-01-01 06:30:00+05:30  0.742188   0.251029   0.842105   0.041667   \n",
            "2021-01-01 07:30:00+05:30  0.742188   0.275720   0.855263   0.027778   \n",
            "2021-01-01 08:30:00+05:30  0.765625   0.275720   0.855263   0.027778   \n",
            "2021-01-01 09:30:00+05:30  0.820312   0.358025   0.644737   0.041667   \n",
            "\n",
            "                           wspd_lag2  wspd_lag3  temp_roll_mean_3h  \\\n",
            "time                                                                 \n",
            "2021-01-01 05:30:00+05:30   0.041667   0.041667           0.251029   \n",
            "2021-01-01 06:30:00+05:30   0.041667   0.041667           0.263374   \n",
            "2021-01-01 07:30:00+05:30   0.041667   0.041667           0.267490   \n",
            "2021-01-01 08:30:00+05:30   0.027778   0.041667           0.303155   \n",
            "2021-01-01 09:30:00+05:30   0.027778   0.027778           0.330590   \n",
            "\n",
            "                           prcp_roll_sum_6h  hour  month  weekday  \n",
            "time                                                               \n",
            "2021-01-01 05:30:00+05:30               0.0     5      1        4  \n",
            "2021-01-01 06:30:00+05:30               0.0     6      1        4  \n",
            "2021-01-01 07:30:00+05:30               0.0     7      1        4  \n",
            "2021-01-01 08:30:00+05:30               0.0     8      1        4  \n",
            "2021-01-01 09:30:00+05:30               0.0     9      1        4  \n",
            "Engineered Data Columns: ['temp', 'dwpt', 'rhum', 'prcp', 'wspd', 'pres', 'temp_lag1', 'rhum_lag1', 'wspd_lag1', 'wspd_lag2', 'wspd_lag3', 'temp_roll_mean_3h', 'prcp_roll_sum_6h', 'hour', 'month', 'weekday']\n",
            "Engineered Data Shape: (35041, 16)\n"
          ]
        },
        {
          "name": "stderr",
          "output_type": "stream",
          "text": [
            "<ipython-input-2-9772d4a5e8cf>:96: FutureWarning: DataFrame.fillna with 'method' is deprecated and will raise in a future version. Use obj.ffill() or obj.bfill() instead.\n",
            "  df_engineered = df_engineered.fillna(method='ffill').fillna(method='bfill')\n"
          ]
        },
        {
          "name": "stdout",
          "output_type": "stream",
          "text": [
            "Successfully engineered and saved data for: chennai_hourly_weather_scaled.csv to Engineered_Data_Output/chennai_hourly_weather_engineered.csv\n"
          ]
        },
        {
          "data": {
            "application/javascript": "\n    async function download(id, filename, size) {\n      if (!google.colab.kernel.accessAllowed) {\n        return;\n      }\n      const div = document.createElement('div');\n      const label = document.createElement('label');\n      label.textContent = `Downloading \"${filename}\": `;\n      div.appendChild(label);\n      const progress = document.createElement('progress');\n      progress.max = size;\n      div.appendChild(progress);\n      document.body.appendChild(div);\n\n      const buffers = [];\n      let downloaded = 0;\n\n      const channel = await google.colab.kernel.comms.open(id);\n      // Send a message to notify the kernel that we're ready.\n      channel.send({})\n\n      for await (const message of channel.messages) {\n        // Send a message to notify the kernel that we're ready.\n        channel.send({})\n        if (message.buffers) {\n          for (const buffer of message.buffers) {\n            buffers.push(buffer);\n            downloaded += buffer.byteLength;\n            progress.value = downloaded;\n          }\n        }\n      }\n      const blob = new Blob(buffers, {type: 'application/binary'});\n      const a = document.createElement('a');\n      a.href = window.URL.createObjectURL(blob);\n      a.download = filename;\n      div.appendChild(a);\n      a.click();\n      div.remove();\n    }\n  ",
            "text/plain": [
              "<IPython.core.display.Javascript object>"
            ]
          },
          "metadata": {},
          "output_type": "display_data"
        },
        {
          "data": {
            "application/javascript": "download(\"download_d9ea4b6a-5b7e-4879-be4a-ed0dd6d48740\", \"chennai_hourly_weather_engineered.csv\", 8592705)",
            "text/plain": [
              "<IPython.core.display.Javascript object>"
            ]
          },
          "metadata": {},
          "output_type": "display_data"
        },
        {
          "name": "stdout",
          "output_type": "stream",
          "text": [
            "\n",
            "--- Processing coimbatore_hourly_weather_scaled.csv for Feature Engineering ---\n",
            "Loaded scaled data for coimbatore_hourly_weather_scaled.csv. Head:\n",
            "                               temp    dwpt      rhum  prcp      wspd  \\\n",
            "time                                                                    \n",
            "2021-01-01 05:30:00+05:30  0.150943  0.6125  0.978022   0.0  0.092157   \n",
            "2021-01-01 06:30:00+05:30  0.150943  0.5625  0.934066   0.0  0.074510   \n",
            "2021-01-01 07:30:00+05:30  0.150943  0.5625  0.934066   0.0  0.074510   \n",
            "2021-01-01 08:30:00+05:30  0.169811  0.6000  0.945055   0.0  0.092157   \n",
            "2021-01-01 09:30:00+05:30  0.245283  0.4875  0.758242   0.0  0.236275   \n",
            "\n",
            "                               pres  \n",
            "time                                 \n",
            "2021-01-01 05:30:00+05:30  0.575221  \n",
            "2021-01-01 06:30:00+05:30  0.646018  \n",
            "2021-01-01 07:30:00+05:30  0.690265  \n",
            "2021-01-01 08:30:00+05:30  0.685841  \n",
            "2021-01-01 09:30:00+05:30  0.778761  \n",
            "Engineered Data Sample for coimbatore_hourly_weather_scaled.csv:\n",
            "                               temp    dwpt      rhum  prcp      wspd  \\\n",
            "time                                                                    \n",
            "2021-01-01 05:30:00+05:30  0.150943  0.6125  0.978022   0.0  0.092157   \n",
            "2021-01-01 06:30:00+05:30  0.150943  0.5625  0.934066   0.0  0.074510   \n",
            "2021-01-01 07:30:00+05:30  0.150943  0.5625  0.934066   0.0  0.074510   \n",
            "2021-01-01 08:30:00+05:30  0.169811  0.6000  0.945055   0.0  0.092157   \n",
            "2021-01-01 09:30:00+05:30  0.245283  0.4875  0.758242   0.0  0.236275   \n",
            "\n",
            "                               pres  temp_lag1  rhum_lag1  wspd_lag1  \\\n",
            "time                                                                   \n",
            "2021-01-01 05:30:00+05:30  0.575221   0.150943   0.978022   0.092157   \n",
            "2021-01-01 06:30:00+05:30  0.646018   0.150943   0.978022   0.092157   \n",
            "2021-01-01 07:30:00+05:30  0.690265   0.150943   0.934066   0.074510   \n",
            "2021-01-01 08:30:00+05:30  0.685841   0.150943   0.934066   0.074510   \n",
            "2021-01-01 09:30:00+05:30  0.778761   0.169811   0.945055   0.092157   \n",
            "\n",
            "                           wspd_lag2  wspd_lag3  temp_roll_mean_3h  \\\n",
            "time                                                                 \n",
            "2021-01-01 05:30:00+05:30   0.092157   0.092157           0.150943   \n",
            "2021-01-01 06:30:00+05:30   0.092157   0.092157           0.150943   \n",
            "2021-01-01 07:30:00+05:30   0.092157   0.092157           0.150943   \n",
            "2021-01-01 08:30:00+05:30   0.074510   0.092157           0.157233   \n",
            "2021-01-01 09:30:00+05:30   0.074510   0.074510           0.188679   \n",
            "\n",
            "                           prcp_roll_sum_6h  hour  month  weekday  \n",
            "time                                                               \n",
            "2021-01-01 05:30:00+05:30               0.0     5      1        4  \n",
            "2021-01-01 06:30:00+05:30               0.0     6      1        4  \n",
            "2021-01-01 07:30:00+05:30               0.0     7      1        4  \n",
            "2021-01-01 08:30:00+05:30               0.0     8      1        4  \n",
            "2021-01-01 09:30:00+05:30               0.0     9      1        4  \n",
            "Engineered Data Columns: ['temp', 'dwpt', 'rhum', 'prcp', 'wspd', 'pres', 'temp_lag1', 'rhum_lag1', 'wspd_lag1', 'wspd_lag2', 'wspd_lag3', 'temp_roll_mean_3h', 'prcp_roll_sum_6h', 'hour', 'month', 'weekday']\n",
            "Engineered Data Shape: (35041, 16)\n"
          ]
        },
        {
          "name": "stderr",
          "output_type": "stream",
          "text": [
            "<ipython-input-2-9772d4a5e8cf>:96: FutureWarning: DataFrame.fillna with 'method' is deprecated and will raise in a future version. Use obj.ffill() or obj.bfill() instead.\n",
            "  df_engineered = df_engineered.fillna(method='ffill').fillna(method='bfill')\n"
          ]
        },
        {
          "name": "stdout",
          "output_type": "stream",
          "text": [
            "Successfully engineered and saved data for: coimbatore_hourly_weather_scaled.csv to Engineered_Data_Output/coimbatore_hourly_weather_engineered.csv\n"
          ]
        },
        {
          "data": {
            "application/javascript": "\n    async function download(id, filename, size) {\n      if (!google.colab.kernel.accessAllowed) {\n        return;\n      }\n      const div = document.createElement('div');\n      const label = document.createElement('label');\n      label.textContent = `Downloading \"${filename}\": `;\n      div.appendChild(label);\n      const progress = document.createElement('progress');\n      progress.max = size;\n      div.appendChild(progress);\n      document.body.appendChild(div);\n\n      const buffers = [];\n      let downloaded = 0;\n\n      const channel = await google.colab.kernel.comms.open(id);\n      // Send a message to notify the kernel that we're ready.\n      channel.send({})\n\n      for await (const message of channel.messages) {\n        // Send a message to notify the kernel that we're ready.\n        channel.send({})\n        if (message.buffers) {\n          for (const buffer of message.buffers) {\n            buffers.push(buffer);\n            downloaded += buffer.byteLength;\n            progress.value = downloaded;\n          }\n        }\n      }\n      const blob = new Blob(buffers, {type: 'application/binary'});\n      const a = document.createElement('a');\n      a.href = window.URL.createObjectURL(blob);\n      a.download = filename;\n      div.appendChild(a);\n      a.click();\n      div.remove();\n    }\n  ",
            "text/plain": [
              "<IPython.core.display.Javascript object>"
            ]
          },
          "metadata": {},
          "output_type": "display_data"
        },
        {
          "data": {
            "application/javascript": "download(\"download_11c51401-0ce2-4684-bdd8-fdbc00820975\", \"coimbatore_hourly_weather_engineered.csv\", 8561936)",
            "text/plain": [
              "<IPython.core.display.Javascript object>"
            ]
          },
          "metadata": {},
          "output_type": "display_data"
        },
        {
          "name": "stdout",
          "output_type": "stream",
          "text": [
            "\n",
            "--- Processing dehradun_hourly_weather_scaled.csv for Feature Engineering ---\n",
            "Loaded scaled data for dehradun_hourly_weather_scaled.csv. Head:\n",
            "                               temp      dwpt      rhum  prcp  wspd      pres\n",
            "time                                                                         \n",
            "2021-01-01 05:30:00+05:30  0.062035  0.291667  1.000000   0.0   0.0  0.831135\n",
            "2021-01-01 06:30:00+05:30  0.070306  0.289683  0.977273   0.0   0.0  0.839930\n",
            "2021-01-01 07:30:00+05:30  0.078577  0.287698  0.954545   0.0   0.0  0.848725\n",
            "2021-01-01 08:30:00+05:30  0.086849  0.285714  0.931818   0.0   0.0  0.857520\n",
            "2021-01-01 09:30:00+05:30  0.181141  0.313492  0.768939   0.0   0.0  0.842568\n",
            "Engineered Data Sample for dehradun_hourly_weather_scaled.csv:\n",
            "                               temp      dwpt      rhum  prcp  wspd      pres  \\\n",
            "time                                                                            \n",
            "2021-01-01 05:30:00+05:30  0.062035  0.291667  1.000000   0.0   0.0  0.831135   \n",
            "2021-01-01 06:30:00+05:30  0.070306  0.289683  0.977273   0.0   0.0  0.839930   \n",
            "2021-01-01 07:30:00+05:30  0.078577  0.287698  0.954545   0.0   0.0  0.848725   \n",
            "2021-01-01 08:30:00+05:30  0.086849  0.285714  0.931818   0.0   0.0  0.857520   \n",
            "2021-01-01 09:30:00+05:30  0.181141  0.313492  0.768939   0.0   0.0  0.842568   \n",
            "\n",
            "                           temp_lag1  rhum_lag1  wspd_lag1  wspd_lag2  \\\n",
            "time                                                                    \n",
            "2021-01-01 05:30:00+05:30   0.062035   1.000000        0.0        0.0   \n",
            "2021-01-01 06:30:00+05:30   0.062035   1.000000        0.0        0.0   \n",
            "2021-01-01 07:30:00+05:30   0.070306   0.977273        0.0        0.0   \n",
            "2021-01-01 08:30:00+05:30   0.078577   0.954545        0.0        0.0   \n",
            "2021-01-01 09:30:00+05:30   0.086849   0.931818        0.0        0.0   \n",
            "\n",
            "                           wspd_lag3  temp_roll_mean_3h  prcp_roll_sum_6h  \\\n",
            "time                                                                        \n",
            "2021-01-01 05:30:00+05:30        0.0           0.062035               0.0   \n",
            "2021-01-01 06:30:00+05:30        0.0           0.066170               0.0   \n",
            "2021-01-01 07:30:00+05:30        0.0           0.070306               0.0   \n",
            "2021-01-01 08:30:00+05:30        0.0           0.078577               0.0   \n",
            "2021-01-01 09:30:00+05:30        0.0           0.115522               0.0   \n",
            "\n",
            "                           hour  month  weekday  \n",
            "time                                             \n",
            "2021-01-01 05:30:00+05:30     5      1        4  \n",
            "2021-01-01 06:30:00+05:30     6      1        4  \n",
            "2021-01-01 07:30:00+05:30     7      1        4  \n",
            "2021-01-01 08:30:00+05:30     8      1        4  \n",
            "2021-01-01 09:30:00+05:30     9      1        4  \n",
            "Engineered Data Columns: ['temp', 'dwpt', 'rhum', 'prcp', 'wspd', 'pres', 'temp_lag1', 'rhum_lag1', 'wspd_lag1', 'wspd_lag2', 'wspd_lag3', 'temp_roll_mean_3h', 'prcp_roll_sum_6h', 'hour', 'month', 'weekday']\n",
            "Engineered Data Shape: (35041, 16)\n"
          ]
        },
        {
          "name": "stderr",
          "output_type": "stream",
          "text": [
            "<ipython-input-2-9772d4a5e8cf>:96: FutureWarning: DataFrame.fillna with 'method' is deprecated and will raise in a future version. Use obj.ffill() or obj.bfill() instead.\n",
            "  df_engineered = df_engineered.fillna(method='ffill').fillna(method='bfill')\n"
          ]
        },
        {
          "name": "stdout",
          "output_type": "stream",
          "text": [
            "Successfully engineered and saved data for: dehradun_hourly_weather_scaled.csv to Engineered_Data_Output/dehradun_hourly_weather_engineered.csv\n"
          ]
        },
        {
          "data": {
            "application/javascript": "\n    async function download(id, filename, size) {\n      if (!google.colab.kernel.accessAllowed) {\n        return;\n      }\n      const div = document.createElement('div');\n      const label = document.createElement('label');\n      label.textContent = `Downloading \"${filename}\": `;\n      div.appendChild(label);\n      const progress = document.createElement('progress');\n      progress.max = size;\n      div.appendChild(progress);\n      document.body.appendChild(div);\n\n      const buffers = [];\n      let downloaded = 0;\n\n      const channel = await google.colab.kernel.comms.open(id);\n      // Send a message to notify the kernel that we're ready.\n      channel.send({})\n\n      for await (const message of channel.messages) {\n        // Send a message to notify the kernel that we're ready.\n        channel.send({})\n        if (message.buffers) {\n          for (const buffer of message.buffers) {\n            buffers.push(buffer);\n            downloaded += buffer.byteLength;\n            progress.value = downloaded;\n          }\n        }\n      }\n      const blob = new Blob(buffers, {type: 'application/binary'});\n      const a = document.createElement('a');\n      a.href = window.URL.createObjectURL(blob);\n      a.download = filename;\n      div.appendChild(a);\n      a.click();\n      div.remove();\n    }\n  ",
            "text/plain": [
              "<IPython.core.display.Javascript object>"
            ]
          },
          "metadata": {},
          "output_type": "display_data"
        },
        {
          "data": {
            "application/javascript": "download(\"download_6d861a6e-23e1-4682-ac3c-ffe1eae6dcf0\", \"dehradun_hourly_weather_engineered.csv\", 8540072)",
            "text/plain": [
              "<IPython.core.display.Javascript object>"
            ]
          },
          "metadata": {},
          "output_type": "display_data"
        },
        {
          "name": "stdout",
          "output_type": "stream",
          "text": [
            "\n",
            "--- Processing guwahati_hourly_weather_scaled.csv for Feature Engineering ---\n",
            "Loaded scaled data for guwahati_hourly_weather_scaled.csv. Head:\n",
            "                               temp      dwpt      rhum  prcp      wspd  \\\n",
            "time                                                                      \n",
            "2021-01-01 05:30:00+05:30  0.062112  0.176056  0.943820   0.0  0.000000   \n",
            "2021-01-01 06:30:00+05:30  0.006211  0.105634  0.932584   0.0  0.000000   \n",
            "2021-01-01 07:30:00+05:30  0.037267  0.140845  0.932584   0.0  0.000000   \n",
            "2021-01-01 08:30:00+05:30  0.211180  0.288732  0.853933   0.0  0.000000   \n",
            "2021-01-01 09:30:00+05:30  0.223602  0.232394  0.741573   0.0  0.081081   \n",
            "\n",
            "                               pres  \n",
            "time                                 \n",
            "2021-01-01 05:30:00+05:30  0.799401  \n",
            "2021-01-01 06:30:00+05:30  0.808383  \n",
            "2021-01-01 07:30:00+05:30  0.838323  \n",
            "2021-01-01 08:30:00+05:30  0.862275  \n",
            "2021-01-01 09:30:00+05:30  0.838323  \n",
            "Engineered Data Sample for guwahati_hourly_weather_scaled.csv:\n",
            "                               temp      dwpt      rhum  prcp      wspd  \\\n",
            "time                                                                      \n",
            "2021-01-01 05:30:00+05:30  0.062112  0.176056  0.943820   0.0  0.000000   \n",
            "2021-01-01 06:30:00+05:30  0.006211  0.105634  0.932584   0.0  0.000000   \n",
            "2021-01-01 07:30:00+05:30  0.037267  0.140845  0.932584   0.0  0.000000   \n",
            "2021-01-01 08:30:00+05:30  0.211180  0.288732  0.853933   0.0  0.000000   \n",
            "2021-01-01 09:30:00+05:30  0.223602  0.232394  0.741573   0.0  0.081081   \n",
            "\n",
            "                               pres  temp_lag1  rhum_lag1  wspd_lag1  \\\n",
            "time                                                                   \n",
            "2021-01-01 05:30:00+05:30  0.799401   0.062112   0.943820        0.0   \n",
            "2021-01-01 06:30:00+05:30  0.808383   0.062112   0.943820        0.0   \n",
            "2021-01-01 07:30:00+05:30  0.838323   0.006211   0.932584        0.0   \n",
            "2021-01-01 08:30:00+05:30  0.862275   0.037267   0.932584        0.0   \n",
            "2021-01-01 09:30:00+05:30  0.838323   0.211180   0.853933        0.0   \n",
            "\n",
            "                           wspd_lag2  wspd_lag3  temp_roll_mean_3h  \\\n",
            "time                                                                 \n",
            "2021-01-01 05:30:00+05:30        0.0        0.0           0.062112   \n",
            "2021-01-01 06:30:00+05:30        0.0        0.0           0.034161   \n",
            "2021-01-01 07:30:00+05:30        0.0        0.0           0.035197   \n",
            "2021-01-01 08:30:00+05:30        0.0        0.0           0.084886   \n",
            "2021-01-01 09:30:00+05:30        0.0        0.0           0.157350   \n",
            "\n",
            "                           prcp_roll_sum_6h  hour  month  weekday  \n",
            "time                                                               \n",
            "2021-01-01 05:30:00+05:30               0.0     5      1        4  \n",
            "2021-01-01 06:30:00+05:30               0.0     6      1        4  \n",
            "2021-01-01 07:30:00+05:30               0.0     7      1        4  \n",
            "2021-01-01 08:30:00+05:30               0.0     8      1        4  \n",
            "2021-01-01 09:30:00+05:30               0.0     9      1        4  \n",
            "Engineered Data Columns: ['temp', 'dwpt', 'rhum', 'prcp', 'wspd', 'pres', 'temp_lag1', 'rhum_lag1', 'wspd_lag1', 'wspd_lag2', 'wspd_lag3', 'temp_roll_mean_3h', 'prcp_roll_sum_6h', 'hour', 'month', 'weekday']\n",
            "Engineered Data Shape: (35041, 16)\n"
          ]
        },
        {
          "name": "stderr",
          "output_type": "stream",
          "text": [
            "<ipython-input-2-9772d4a5e8cf>:96: FutureWarning: DataFrame.fillna with 'method' is deprecated and will raise in a future version. Use obj.ffill() or obj.bfill() instead.\n",
            "  df_engineered = df_engineered.fillna(method='ffill').fillna(method='bfill')\n"
          ]
        },
        {
          "name": "stdout",
          "output_type": "stream",
          "text": [
            "Successfully engineered and saved data for: guwahati_hourly_weather_scaled.csv to Engineered_Data_Output/guwahati_hourly_weather_engineered.csv\n"
          ]
        },
        {
          "data": {
            "application/javascript": "\n    async function download(id, filename, size) {\n      if (!google.colab.kernel.accessAllowed) {\n        return;\n      }\n      const div = document.createElement('div');\n      const label = document.createElement('label');\n      label.textContent = `Downloading \"${filename}\": `;\n      div.appendChild(label);\n      const progress = document.createElement('progress');\n      progress.max = size;\n      div.appendChild(progress);\n      document.body.appendChild(div);\n\n      const buffers = [];\n      let downloaded = 0;\n\n      const channel = await google.colab.kernel.comms.open(id);\n      // Send a message to notify the kernel that we're ready.\n      channel.send({})\n\n      for await (const message of channel.messages) {\n        // Send a message to notify the kernel that we're ready.\n        channel.send({})\n        if (message.buffers) {\n          for (const buffer of message.buffers) {\n            buffers.push(buffer);\n            downloaded += buffer.byteLength;\n            progress.value = downloaded;\n          }\n        }\n      }\n      const blob = new Blob(buffers, {type: 'application/binary'});\n      const a = document.createElement('a');\n      a.href = window.URL.createObjectURL(blob);\n      a.download = filename;\n      div.appendChild(a);\n      a.click();\n      div.remove();\n    }\n  ",
            "text/plain": [
              "<IPython.core.display.Javascript object>"
            ]
          },
          "metadata": {},
          "output_type": "display_data"
        },
        {
          "data": {
            "application/javascript": "download(\"download_c4ad08b3-064d-4bec-a1af-6855c9d22e00\", \"guwahati_hourly_weather_engineered.csv\", 8047989)",
            "text/plain": [
              "<IPython.core.display.Javascript object>"
            ]
          },
          "metadata": {},
          "output_type": "display_data"
        },
        {
          "name": "stdout",
          "output_type": "stream",
          "text": [
            "\n",
            "--- Processing hyderabad_hourly_weather_scaled.csv for Feature Engineering ---\n",
            "Loaded scaled data for hyderabad_hourly_weather_scaled.csv. Head:\n",
            "                               temp      dwpt      rhum  prcp      wspd  \\\n",
            "time                                                                      \n",
            "2021-01-01 05:30:00+05:30  0.224551  0.468182  0.879121   0.0  0.008824   \n",
            "2021-01-01 06:30:00+05:30  0.239521  0.590909  1.000000   0.0  0.000000   \n",
            "2021-01-01 07:30:00+05:30  0.239521  0.590909  1.000000   0.0  0.000000   \n",
            "2021-01-01 08:30:00+05:30  0.299401  0.545455  0.835165   0.0  0.017647   \n",
            "2021-01-01 09:30:00+05:30  0.299401  0.572727  0.868132   0.0  0.000000   \n",
            "\n",
            "                               pres  \n",
            "time                                 \n",
            "2021-01-01 05:30:00+05:30  0.871053  \n",
            "2021-01-01 06:30:00+05:30  0.921053  \n",
            "2021-01-01 07:30:00+05:30  0.921053  \n",
            "2021-01-01 08:30:00+05:30  0.902632  \n",
            "2021-01-01 09:30:00+05:30  0.947368  \n",
            "Engineered Data Sample for hyderabad_hourly_weather_scaled.csv:\n",
            "                               temp      dwpt      rhum  prcp      wspd  \\\n",
            "time                                                                      \n",
            "2021-01-01 05:30:00+05:30  0.224551  0.468182  0.879121   0.0  0.008824   \n",
            "2021-01-01 06:30:00+05:30  0.239521  0.590909  1.000000   0.0  0.000000   \n",
            "2021-01-01 07:30:00+05:30  0.239521  0.590909  1.000000   0.0  0.000000   \n",
            "2021-01-01 08:30:00+05:30  0.299401  0.545455  0.835165   0.0  0.017647   \n",
            "2021-01-01 09:30:00+05:30  0.299401  0.572727  0.868132   0.0  0.000000   \n",
            "\n",
            "                               pres  temp_lag1  rhum_lag1  wspd_lag1  \\\n",
            "time                                                                   \n",
            "2021-01-01 05:30:00+05:30  0.871053   0.224551   0.879121   0.008824   \n",
            "2021-01-01 06:30:00+05:30  0.921053   0.224551   0.879121   0.008824   \n",
            "2021-01-01 07:30:00+05:30  0.921053   0.239521   1.000000   0.000000   \n",
            "2021-01-01 08:30:00+05:30  0.902632   0.239521   1.000000   0.000000   \n",
            "2021-01-01 09:30:00+05:30  0.947368   0.299401   0.835165   0.017647   \n",
            "\n",
            "                           wspd_lag2  wspd_lag3  temp_roll_mean_3h  \\\n",
            "time                                                                 \n",
            "2021-01-01 05:30:00+05:30   0.008824   0.008824           0.224551   \n",
            "2021-01-01 06:30:00+05:30   0.008824   0.008824           0.232036   \n",
            "2021-01-01 07:30:00+05:30   0.008824   0.008824           0.234531   \n",
            "2021-01-01 08:30:00+05:30   0.000000   0.008824           0.259481   \n",
            "2021-01-01 09:30:00+05:30   0.000000   0.000000           0.279441   \n",
            "\n",
            "                           prcp_roll_sum_6h  hour  month  weekday  \n",
            "time                                                               \n",
            "2021-01-01 05:30:00+05:30               0.0     5      1        4  \n",
            "2021-01-01 06:30:00+05:30               0.0     6      1        4  \n",
            "2021-01-01 07:30:00+05:30               0.0     7      1        4  \n",
            "2021-01-01 08:30:00+05:30               0.0     8      1        4  \n",
            "2021-01-01 09:30:00+05:30               0.0     9      1        4  \n",
            "Engineered Data Columns: ['temp', 'dwpt', 'rhum', 'prcp', 'wspd', 'pres', 'temp_lag1', 'rhum_lag1', 'wspd_lag1', 'wspd_lag2', 'wspd_lag3', 'temp_roll_mean_3h', 'prcp_roll_sum_6h', 'hour', 'month', 'weekday']\n",
            "Engineered Data Shape: (35041, 16)\n"
          ]
        },
        {
          "name": "stderr",
          "output_type": "stream",
          "text": [
            "<ipython-input-2-9772d4a5e8cf>:96: FutureWarning: DataFrame.fillna with 'method' is deprecated and will raise in a future version. Use obj.ffill() or obj.bfill() instead.\n",
            "  df_engineered = df_engineered.fillna(method='ffill').fillna(method='bfill')\n"
          ]
        },
        {
          "name": "stdout",
          "output_type": "stream",
          "text": [
            "Successfully engineered and saved data for: hyderabad_hourly_weather_scaled.csv to Engineered_Data_Output/hyderabad_hourly_weather_engineered.csv\n"
          ]
        },
        {
          "data": {
            "application/javascript": "\n    async function download(id, filename, size) {\n      if (!google.colab.kernel.accessAllowed) {\n        return;\n      }\n      const div = document.createElement('div');\n      const label = document.createElement('label');\n      label.textContent = `Downloading \"${filename}\": `;\n      div.appendChild(label);\n      const progress = document.createElement('progress');\n      progress.max = size;\n      div.appendChild(progress);\n      document.body.appendChild(div);\n\n      const buffers = [];\n      let downloaded = 0;\n\n      const channel = await google.colab.kernel.comms.open(id);\n      // Send a message to notify the kernel that we're ready.\n      channel.send({})\n\n      for await (const message of channel.messages) {\n        // Send a message to notify the kernel that we're ready.\n        channel.send({})\n        if (message.buffers) {\n          for (const buffer of message.buffers) {\n            buffers.push(buffer);\n            downloaded += buffer.byteLength;\n            progress.value = downloaded;\n          }\n        }\n      }\n      const blob = new Blob(buffers, {type: 'application/binary'});\n      const a = document.createElement('a');\n      a.href = window.URL.createObjectURL(blob);\n      a.download = filename;\n      div.appendChild(a);\n      a.click();\n      div.remove();\n    }\n  ",
            "text/plain": [
              "<IPython.core.display.Javascript object>"
            ]
          },
          "metadata": {},
          "output_type": "display_data"
        },
        {
          "data": {
            "application/javascript": "download(\"download_2c817b82-080e-48c4-b9cb-56940d6e5bc9\", \"hyderabad_hourly_weather_engineered.csv\", 8556433)",
            "text/plain": [
              "<IPython.core.display.Javascript object>"
            ]
          },
          "metadata": {},
          "output_type": "display_data"
        },
        {
          "name": "stdout",
          "output_type": "stream",
          "text": [
            "\n",
            "--- Processing imphal_hourly_weather_scaled.csv for Feature Engineering ---\n",
            "Loaded scaled data for imphal_hourly_weather_scaled.csv. Head:\n",
            "                               temp      dwpt      rhum  prcp      wspd  \\\n",
            "time                                                                      \n",
            "2021-01-01 05:30:00+05:30  0.155556  0.283951  0.965909   0.0  0.000000   \n",
            "2021-01-01 06:30:00+05:30  0.083333  0.200000  0.920455   0.0  0.027551   \n",
            "2021-01-01 07:30:00+05:30  0.111111  0.224691  0.920455   0.0  0.000000   \n",
            "2021-01-01 08:30:00+05:30  0.238889  0.288889  0.806818   0.0  0.009184   \n",
            "2021-01-01 09:30:00+05:30  0.222222  0.214815  0.670455   0.0  0.038776   \n",
            "\n",
            "                               pres  \n",
            "time                                 \n",
            "2021-01-01 05:30:00+05:30  0.825658  \n",
            "2021-01-01 06:30:00+05:30  0.868421  \n",
            "2021-01-01 07:30:00+05:30  0.868421  \n",
            "2021-01-01 08:30:00+05:30  0.888158  \n",
            "2021-01-01 09:30:00+05:30  0.901316  \n",
            "Engineered Data Sample for imphal_hourly_weather_scaled.csv:\n",
            "                               temp      dwpt      rhum  prcp      wspd  \\\n",
            "time                                                                      \n",
            "2021-01-01 05:30:00+05:30  0.155556  0.283951  0.965909   0.0  0.000000   \n",
            "2021-01-01 06:30:00+05:30  0.083333  0.200000  0.920455   0.0  0.027551   \n",
            "2021-01-01 07:30:00+05:30  0.111111  0.224691  0.920455   0.0  0.000000   \n",
            "2021-01-01 08:30:00+05:30  0.238889  0.288889  0.806818   0.0  0.009184   \n",
            "2021-01-01 09:30:00+05:30  0.222222  0.214815  0.670455   0.0  0.038776   \n",
            "\n",
            "                               pres  temp_lag1  rhum_lag1  wspd_lag1  \\\n",
            "time                                                                   \n",
            "2021-01-01 05:30:00+05:30  0.825658   0.155556   0.965909   0.000000   \n",
            "2021-01-01 06:30:00+05:30  0.868421   0.155556   0.965909   0.000000   \n",
            "2021-01-01 07:30:00+05:30  0.868421   0.083333   0.920455   0.027551   \n",
            "2021-01-01 08:30:00+05:30  0.888158   0.111111   0.920455   0.000000   \n",
            "2021-01-01 09:30:00+05:30  0.901316   0.238889   0.806818   0.009184   \n",
            "\n",
            "                           wspd_lag2  wspd_lag3  temp_roll_mean_3h  \\\n",
            "time                                                                 \n",
            "2021-01-01 05:30:00+05:30   0.000000   0.000000           0.155556   \n",
            "2021-01-01 06:30:00+05:30   0.000000   0.000000           0.119444   \n",
            "2021-01-01 07:30:00+05:30   0.000000   0.000000           0.116667   \n",
            "2021-01-01 08:30:00+05:30   0.027551   0.000000           0.144444   \n",
            "2021-01-01 09:30:00+05:30   0.000000   0.027551           0.190741   \n",
            "\n",
            "                           prcp_roll_sum_6h  hour  month  weekday  \n",
            "time                                                               \n",
            "2021-01-01 05:30:00+05:30               0.0     5      1        4  \n",
            "2021-01-01 06:30:00+05:30               0.0     6      1        4  \n",
            "2021-01-01 07:30:00+05:30               0.0     7      1        4  \n",
            "2021-01-01 08:30:00+05:30               0.0     8      1        4  \n",
            "2021-01-01 09:30:00+05:30               0.0     9      1        4  \n",
            "Engineered Data Columns: ['temp', 'dwpt', 'rhum', 'prcp', 'wspd', 'pres', 'temp_lag1', 'rhum_lag1', 'wspd_lag1', 'wspd_lag2', 'wspd_lag3', 'temp_roll_mean_3h', 'prcp_roll_sum_6h', 'hour', 'month', 'weekday']\n",
            "Engineered Data Shape: (35041, 16)\n"
          ]
        },
        {
          "name": "stderr",
          "output_type": "stream",
          "text": [
            "<ipython-input-2-9772d4a5e8cf>:96: FutureWarning: DataFrame.fillna with 'method' is deprecated and will raise in a future version. Use obj.ffill() or obj.bfill() instead.\n",
            "  df_engineered = df_engineered.fillna(method='ffill').fillna(method='bfill')\n"
          ]
        },
        {
          "name": "stdout",
          "output_type": "stream",
          "text": [
            "Successfully engineered and saved data for: imphal_hourly_weather_scaled.csv to Engineered_Data_Output/imphal_hourly_weather_engineered.csv\n"
          ]
        },
        {
          "data": {
            "application/javascript": "\n    async function download(id, filename, size) {\n      if (!google.colab.kernel.accessAllowed) {\n        return;\n      }\n      const div = document.createElement('div');\n      const label = document.createElement('label');\n      label.textContent = `Downloading \"${filename}\": `;\n      div.appendChild(label);\n      const progress = document.createElement('progress');\n      progress.max = size;\n      div.appendChild(progress);\n      document.body.appendChild(div);\n\n      const buffers = [];\n      let downloaded = 0;\n\n      const channel = await google.colab.kernel.comms.open(id);\n      // Send a message to notify the kernel that we're ready.\n      channel.send({})\n\n      for await (const message of channel.messages) {\n        // Send a message to notify the kernel that we're ready.\n        channel.send({})\n        if (message.buffers) {\n          for (const buffer of message.buffers) {\n            buffers.push(buffer);\n            downloaded += buffer.byteLength;\n            progress.value = downloaded;\n          }\n        }\n      }\n      const blob = new Blob(buffers, {type: 'application/binary'});\n      const a = document.createElement('a');\n      a.href = window.URL.createObjectURL(blob);\n      a.download = filename;\n      div.appendChild(a);\n      a.click();\n      div.remove();\n    }\n  ",
            "text/plain": [
              "<IPython.core.display.Javascript object>"
            ]
          },
          "metadata": {},
          "output_type": "display_data"
        },
        {
          "data": {
            "application/javascript": "download(\"download_094704b2-8d4b-48ec-b51c-be7a67ad9f8b\", \"imphal_hourly_weather_engineered.csv\", 8595094)",
            "text/plain": [
              "<IPython.core.display.Javascript object>"
            ]
          },
          "metadata": {},
          "output_type": "display_data"
        },
        {
          "name": "stdout",
          "output_type": "stream",
          "text": [
            "\n",
            "--- Processing jaipur_hourly_weather_scaled.csv for Feature Engineering ---\n",
            "Loaded scaled data for jaipur_hourly_weather_scaled.csv. Head:\n",
            "                               temp      dwpt  rhum  prcp      wspd      pres\n",
            "time                                                                         \n",
            "2021-01-01 05:30:00+05:30  0.177273  0.335135  0.74   0.0  0.033645  0.747945\n",
            "2021-01-01 06:30:00+05:30  0.181818  0.297297  0.66   0.0  0.050467  0.698630\n",
            "2021-01-01 07:30:00+05:30  0.181818  0.275676  0.62   0.0  0.050467  0.726027\n",
            "2021-01-01 08:30:00+05:30  0.213636  0.302703  0.60   0.0  0.050467  0.786301\n",
            "2021-01-01 09:30:00+05:30  0.250000  0.259459  0.44   0.0  0.087850  0.780822\n",
            "Engineered Data Sample for jaipur_hourly_weather_scaled.csv:\n",
            "                               temp      dwpt  rhum  prcp      wspd      pres  \\\n",
            "time                                                                            \n",
            "2021-01-01 05:30:00+05:30  0.177273  0.335135  0.74   0.0  0.033645  0.747945   \n",
            "2021-01-01 06:30:00+05:30  0.181818  0.297297  0.66   0.0  0.050467  0.698630   \n",
            "2021-01-01 07:30:00+05:30  0.181818  0.275676  0.62   0.0  0.050467  0.726027   \n",
            "2021-01-01 08:30:00+05:30  0.213636  0.302703  0.60   0.0  0.050467  0.786301   \n",
            "2021-01-01 09:30:00+05:30  0.250000  0.259459  0.44   0.0  0.087850  0.780822   \n",
            "\n",
            "                           temp_lag1  rhum_lag1  wspd_lag1  wspd_lag2  \\\n",
            "time                                                                    \n",
            "2021-01-01 05:30:00+05:30   0.177273       0.74   0.033645   0.033645   \n",
            "2021-01-01 06:30:00+05:30   0.177273       0.74   0.033645   0.033645   \n",
            "2021-01-01 07:30:00+05:30   0.181818       0.66   0.050467   0.033645   \n",
            "2021-01-01 08:30:00+05:30   0.181818       0.62   0.050467   0.050467   \n",
            "2021-01-01 09:30:00+05:30   0.213636       0.60   0.050467   0.050467   \n",
            "\n",
            "                           wspd_lag3  temp_roll_mean_3h  prcp_roll_sum_6h  \\\n",
            "time                                                                        \n",
            "2021-01-01 05:30:00+05:30   0.033645           0.177273               0.0   \n",
            "2021-01-01 06:30:00+05:30   0.033645           0.179545               0.0   \n",
            "2021-01-01 07:30:00+05:30   0.033645           0.180303               0.0   \n",
            "2021-01-01 08:30:00+05:30   0.033645           0.192424               0.0   \n",
            "2021-01-01 09:30:00+05:30   0.050467           0.215152               0.0   \n",
            "\n",
            "                           hour  month  weekday  \n",
            "time                                             \n",
            "2021-01-01 05:30:00+05:30     5      1        4  \n",
            "2021-01-01 06:30:00+05:30     6      1        4  \n",
            "2021-01-01 07:30:00+05:30     7      1        4  \n",
            "2021-01-01 08:30:00+05:30     8      1        4  \n",
            "2021-01-01 09:30:00+05:30     9      1        4  \n",
            "Engineered Data Columns: ['temp', 'dwpt', 'rhum', 'prcp', 'wspd', 'pres', 'temp_lag1', 'rhum_lag1', 'wspd_lag1', 'wspd_lag2', 'wspd_lag3', 'temp_roll_mean_3h', 'prcp_roll_sum_6h', 'hour', 'month', 'weekday']\n",
            "Engineered Data Shape: (35041, 16)\n"
          ]
        },
        {
          "name": "stderr",
          "output_type": "stream",
          "text": [
            "<ipython-input-2-9772d4a5e8cf>:96: FutureWarning: DataFrame.fillna with 'method' is deprecated and will raise in a future version. Use obj.ffill() or obj.bfill() instead.\n",
            "  df_engineered = df_engineered.fillna(method='ffill').fillna(method='bfill')\n"
          ]
        },
        {
          "name": "stdout",
          "output_type": "stream",
          "text": [
            "Successfully engineered and saved data for: jaipur_hourly_weather_scaled.csv to Engineered_Data_Output/jaipur_hourly_weather_engineered.csv\n"
          ]
        },
        {
          "data": {
            "application/javascript": "\n    async function download(id, filename, size) {\n      if (!google.colab.kernel.accessAllowed) {\n        return;\n      }\n      const div = document.createElement('div');\n      const label = document.createElement('label');\n      label.textContent = `Downloading \"${filename}\": `;\n      div.appendChild(label);\n      const progress = document.createElement('progress');\n      progress.max = size;\n      div.appendChild(progress);\n      document.body.appendChild(div);\n\n      const buffers = [];\n      let downloaded = 0;\n\n      const channel = await google.colab.kernel.comms.open(id);\n      // Send a message to notify the kernel that we're ready.\n      channel.send({})\n\n      for await (const message of channel.messages) {\n        // Send a message to notify the kernel that we're ready.\n        channel.send({})\n        if (message.buffers) {\n          for (const buffer of message.buffers) {\n            buffers.push(buffer);\n            downloaded += buffer.byteLength;\n            progress.value = downloaded;\n          }\n        }\n      }\n      const blob = new Blob(buffers, {type: 'application/binary'});\n      const a = document.createElement('a');\n      a.href = window.URL.createObjectURL(blob);\n      a.download = filename;\n      div.appendChild(a);\n      a.click();\n      div.remove();\n    }\n  ",
            "text/plain": [
              "<IPython.core.display.Javascript object>"
            ]
          },
          "metadata": {},
          "output_type": "display_data"
        },
        {
          "data": {
            "application/javascript": "download(\"download_6f17cf83-9a51-49c0-94cf-5cf3181fd989\", \"jaipur_hourly_weather_engineered.csv\", 7639143)",
            "text/plain": [
              "<IPython.core.display.Javascript object>"
            ]
          },
          "metadata": {},
          "output_type": "display_data"
        },
        {
          "name": "stdout",
          "output_type": "stream",
          "text": [
            "\n",
            "--- Processing jaisalmer_hourly_weather_scaled.csv for Feature Engineering ---\n",
            "Loaded scaled data for jaisalmer_hourly_weather_scaled.csv. Head:\n",
            "                               temp      dwpt      rhum  prcp      wspd  \\\n",
            "time                                                                      \n",
            "2021-01-01 05:30:00+05:30  0.065022  0.155844  0.639175   0.0  0.032491   \n",
            "2021-01-01 06:30:00+05:30  0.069507  0.157576  0.632302   0.0  0.043321   \n",
            "2021-01-01 07:30:00+05:30  0.073991  0.159307  0.625430   0.0  0.054152   \n",
            "2021-01-01 08:30:00+05:30  0.078475  0.161039  0.618557   0.0  0.064982   \n",
            "2021-01-01 09:30:00+05:30  0.145740  0.185281  0.512027   0.0  0.089049   \n",
            "\n",
            "                               pres  \n",
            "time                                 \n",
            "2021-01-01 05:30:00+05:30  0.725888  \n",
            "2021-01-01 06:30:00+05:30  0.736041  \n",
            "2021-01-01 07:30:00+05:30  0.746193  \n",
            "2021-01-01 08:30:00+05:30  0.756345  \n",
            "2021-01-01 09:30:00+05:30  0.752115  \n",
            "Engineered Data Sample for jaisalmer_hourly_weather_scaled.csv:\n",
            "                               temp      dwpt      rhum  prcp      wspd  \\\n",
            "time                                                                      \n",
            "2021-01-01 05:30:00+05:30  0.065022  0.155844  0.639175   0.0  0.032491   \n",
            "2021-01-01 06:30:00+05:30  0.069507  0.157576  0.632302   0.0  0.043321   \n",
            "2021-01-01 07:30:00+05:30  0.073991  0.159307  0.625430   0.0  0.054152   \n",
            "2021-01-01 08:30:00+05:30  0.078475  0.161039  0.618557   0.0  0.064982   \n",
            "2021-01-01 09:30:00+05:30  0.145740  0.185281  0.512027   0.0  0.089049   \n",
            "\n",
            "                               pres  temp_lag1  rhum_lag1  wspd_lag1  \\\n",
            "time                                                                   \n",
            "2021-01-01 05:30:00+05:30  0.725888   0.065022   0.639175   0.032491   \n",
            "2021-01-01 06:30:00+05:30  0.736041   0.065022   0.639175   0.032491   \n",
            "2021-01-01 07:30:00+05:30  0.746193   0.069507   0.632302   0.043321   \n",
            "2021-01-01 08:30:00+05:30  0.756345   0.073991   0.625430   0.054152   \n",
            "2021-01-01 09:30:00+05:30  0.752115   0.078475   0.618557   0.064982   \n",
            "\n",
            "                           wspd_lag2  wspd_lag3  temp_roll_mean_3h  \\\n",
            "time                                                                 \n",
            "2021-01-01 05:30:00+05:30   0.032491   0.032491           0.065022   \n",
            "2021-01-01 06:30:00+05:30   0.032491   0.032491           0.067265   \n",
            "2021-01-01 07:30:00+05:30   0.032491   0.032491           0.069507   \n",
            "2021-01-01 08:30:00+05:30   0.043321   0.032491           0.073991   \n",
            "2021-01-01 09:30:00+05:30   0.054152   0.043321           0.099402   \n",
            "\n",
            "                           prcp_roll_sum_6h  hour  month  weekday  \n",
            "time                                                               \n",
            "2021-01-01 05:30:00+05:30               0.0     5      1        4  \n",
            "2021-01-01 06:30:00+05:30               0.0     6      1        4  \n",
            "2021-01-01 07:30:00+05:30               0.0     7      1        4  \n",
            "2021-01-01 08:30:00+05:30               0.0     8      1        4  \n",
            "2021-01-01 09:30:00+05:30               0.0     9      1        4  \n",
            "Engineered Data Columns: ['temp', 'dwpt', 'rhum', 'prcp', 'wspd', 'pres', 'temp_lag1', 'rhum_lag1', 'wspd_lag1', 'wspd_lag2', 'wspd_lag3', 'temp_roll_mean_3h', 'prcp_roll_sum_6h', 'hour', 'month', 'weekday']\n",
            "Engineered Data Shape: (35041, 16)\n"
          ]
        },
        {
          "name": "stderr",
          "output_type": "stream",
          "text": [
            "<ipython-input-2-9772d4a5e8cf>:96: FutureWarning: DataFrame.fillna with 'method' is deprecated and will raise in a future version. Use obj.ffill() or obj.bfill() instead.\n",
            "  df_engineered = df_engineered.fillna(method='ffill').fillna(method='bfill')\n"
          ]
        },
        {
          "name": "stdout",
          "output_type": "stream",
          "text": [
            "Successfully engineered and saved data for: jaisalmer_hourly_weather_scaled.csv to Engineered_Data_Output/jaisalmer_hourly_weather_engineered.csv\n"
          ]
        },
        {
          "data": {
            "application/javascript": "\n    async function download(id, filename, size) {\n      if (!google.colab.kernel.accessAllowed) {\n        return;\n      }\n      const div = document.createElement('div');\n      const label = document.createElement('label');\n      label.textContent = `Downloading \"${filename}\": `;\n      div.appendChild(label);\n      const progress = document.createElement('progress');\n      progress.max = size;\n      div.appendChild(progress);\n      document.body.appendChild(div);\n\n      const buffers = [];\n      let downloaded = 0;\n\n      const channel = await google.colab.kernel.comms.open(id);\n      // Send a message to notify the kernel that we're ready.\n      channel.send({})\n\n      for await (const message of channel.messages) {\n        // Send a message to notify the kernel that we're ready.\n        channel.send({})\n        if (message.buffers) {\n          for (const buffer of message.buffers) {\n            buffers.push(buffer);\n            downloaded += buffer.byteLength;\n            progress.value = downloaded;\n          }\n        }\n      }\n      const blob = new Blob(buffers, {type: 'application/binary'});\n      const a = document.createElement('a');\n      a.href = window.URL.createObjectURL(blob);\n      a.download = filename;\n      div.appendChild(a);\n      a.click();\n      div.remove();\n    }\n  ",
            "text/plain": [
              "<IPython.core.display.Javascript object>"
            ]
          },
          "metadata": {},
          "output_type": "display_data"
        },
        {
          "data": {
            "application/javascript": "download(\"download_8937536c-e8b5-4099-9695-ca4a44beef64\", \"jaisalmer_hourly_weather_engineered.csv\", 8697641)",
            "text/plain": [
              "<IPython.core.display.Javascript object>"
            ]
          },
          "metadata": {},
          "output_type": "display_data"
        },
        {
          "name": "stdout",
          "output_type": "stream",
          "text": [
            "\n",
            "--- Processing kochi_hourly_weather_scaled.csv for Feature Engineering ---\n",
            "Loaded scaled data for kochi_hourly_weather_scaled.csv. Head:\n",
            "                               temp      dwpt      rhum  prcp      wspd  \\\n",
            "time                                                                      \n",
            "2021-01-01 05:30:00+05:30  0.263158  0.615385  0.927536   0.0  0.000000   \n",
            "2021-01-01 06:30:00+05:30  0.204678  0.538462  0.913043   0.0  0.000000   \n",
            "2021-01-01 07:30:00+05:30  0.263158  0.602564  0.913043   0.0  0.000000   \n",
            "2021-01-01 08:30:00+05:30  0.415205  0.512821  0.623188   0.0  0.055100   \n",
            "2021-01-01 09:30:00+05:30  0.438596  0.487179  0.565217   0.0  0.076202   \n",
            "\n",
            "                               pres  \n",
            "time                                 \n",
            "2021-01-01 05:30:00+05:30  0.449735  \n",
            "2021-01-01 06:30:00+05:30  0.449735  \n",
            "2021-01-01 07:30:00+05:30  0.502646  \n",
            "2021-01-01 08:30:00+05:30  0.576720  \n",
            "2021-01-01 09:30:00+05:30  0.555556  \n",
            "Engineered Data Sample for kochi_hourly_weather_scaled.csv:\n",
            "                               temp      dwpt      rhum  prcp      wspd  \\\n",
            "time                                                                      \n",
            "2021-01-01 05:30:00+05:30  0.263158  0.615385  0.927536   0.0  0.000000   \n",
            "2021-01-01 06:30:00+05:30  0.204678  0.538462  0.913043   0.0  0.000000   \n",
            "2021-01-01 07:30:00+05:30  0.263158  0.602564  0.913043   0.0  0.000000   \n",
            "2021-01-01 08:30:00+05:30  0.415205  0.512821  0.623188   0.0  0.055100   \n",
            "2021-01-01 09:30:00+05:30  0.438596  0.487179  0.565217   0.0  0.076202   \n",
            "\n",
            "                               pres  temp_lag1  rhum_lag1  wspd_lag1  \\\n",
            "time                                                                   \n",
            "2021-01-01 05:30:00+05:30  0.449735   0.263158   0.927536     0.0000   \n",
            "2021-01-01 06:30:00+05:30  0.449735   0.263158   0.927536     0.0000   \n",
            "2021-01-01 07:30:00+05:30  0.502646   0.204678   0.913043     0.0000   \n",
            "2021-01-01 08:30:00+05:30  0.576720   0.263158   0.913043     0.0000   \n",
            "2021-01-01 09:30:00+05:30  0.555556   0.415205   0.623188     0.0551   \n",
            "\n",
            "                           wspd_lag2  wspd_lag3  temp_roll_mean_3h  \\\n",
            "time                                                                 \n",
            "2021-01-01 05:30:00+05:30        0.0        0.0           0.263158   \n",
            "2021-01-01 06:30:00+05:30        0.0        0.0           0.233918   \n",
            "2021-01-01 07:30:00+05:30        0.0        0.0           0.243665   \n",
            "2021-01-01 08:30:00+05:30        0.0        0.0           0.294347   \n",
            "2021-01-01 09:30:00+05:30        0.0        0.0           0.372320   \n",
            "\n",
            "                           prcp_roll_sum_6h  hour  month  weekday  \n",
            "time                                                               \n",
            "2021-01-01 05:30:00+05:30               0.0     5      1        4  \n",
            "2021-01-01 06:30:00+05:30               0.0     6      1        4  \n",
            "2021-01-01 07:30:00+05:30               0.0     7      1        4  \n",
            "2021-01-01 08:30:00+05:30               0.0     8      1        4  \n",
            "2021-01-01 09:30:00+05:30               0.0     9      1        4  \n",
            "Engineered Data Columns: ['temp', 'dwpt', 'rhum', 'prcp', 'wspd', 'pres', 'temp_lag1', 'rhum_lag1', 'wspd_lag1', 'wspd_lag2', 'wspd_lag3', 'temp_roll_mean_3h', 'prcp_roll_sum_6h', 'hour', 'month', 'weekday']\n",
            "Engineered Data Shape: (35041, 16)\n"
          ]
        },
        {
          "name": "stderr",
          "output_type": "stream",
          "text": [
            "<ipython-input-2-9772d4a5e8cf>:96: FutureWarning: DataFrame.fillna with 'method' is deprecated and will raise in a future version. Use obj.ffill() or obj.bfill() instead.\n",
            "  df_engineered = df_engineered.fillna(method='ffill').fillna(method='bfill')\n"
          ]
        },
        {
          "name": "stdout",
          "output_type": "stream",
          "text": [
            "Successfully engineered and saved data for: kochi_hourly_weather_scaled.csv to Engineered_Data_Output/kochi_hourly_weather_engineered.csv\n"
          ]
        },
        {
          "data": {
            "application/javascript": "\n    async function download(id, filename, size) {\n      if (!google.colab.kernel.accessAllowed) {\n        return;\n      }\n      const div = document.createElement('div');\n      const label = document.createElement('label');\n      label.textContent = `Downloading \"${filename}\": `;\n      div.appendChild(label);\n      const progress = document.createElement('progress');\n      progress.max = size;\n      div.appendChild(progress);\n      document.body.appendChild(div);\n\n      const buffers = [];\n      let downloaded = 0;\n\n      const channel = await google.colab.kernel.comms.open(id);\n      // Send a message to notify the kernel that we're ready.\n      channel.send({})\n\n      for await (const message of channel.messages) {\n        // Send a message to notify the kernel that we're ready.\n        channel.send({})\n        if (message.buffers) {\n          for (const buffer of message.buffers) {\n            buffers.push(buffer);\n            downloaded += buffer.byteLength;\n            progress.value = downloaded;\n          }\n        }\n      }\n      const blob = new Blob(buffers, {type: 'application/binary'});\n      const a = document.createElement('a');\n      a.href = window.URL.createObjectURL(blob);\n      a.download = filename;\n      div.appendChild(a);\n      a.click();\n      div.remove();\n    }\n  ",
            "text/plain": [
              "<IPython.core.display.Javascript object>"
            ]
          },
          "metadata": {},
          "output_type": "display_data"
        },
        {
          "data": {
            "application/javascript": "download(\"download_4e1ca6db-9764-44d3-a05a-f16923083869\", \"kochi_hourly_weather_engineered.csv\", 9217010)",
            "text/plain": [
              "<IPython.core.display.Javascript object>"
            ]
          },
          "metadata": {},
          "output_type": "display_data"
        },
        {
          "name": "stdout",
          "output_type": "stream",
          "text": [
            "\n",
            "--- Processing kolkata_hourly_weather_scaled.csv for Feature Engineering ---\n",
            "Loaded scaled data for kolkata_hourly_weather_scaled.csv. Head:\n",
            "                               temp      dwpt      rhum  prcp      wspd  \\\n",
            "time                                                                      \n",
            "2021-01-01 05:30:00+05:30  0.164671  0.169231  0.640449   0.0  0.048518   \n",
            "2021-01-01 06:30:00+05:30  0.092814  0.184615  0.797753   0.0  0.102426   \n",
            "2021-01-01 07:30:00+05:30  0.092814  0.184615  0.797753   0.0  0.072776   \n",
            "2021-01-01 08:30:00+05:30  0.194611  0.192308  0.617978   0.0  0.048518   \n",
            "2021-01-01 09:30:00+05:30  0.242515  0.207692  0.550562   0.0  0.072776   \n",
            "\n",
            "                               pres  \n",
            "time                                 \n",
            "2021-01-01 05:30:00+05:30  0.868201  \n",
            "2021-01-01 06:30:00+05:30  0.843096  \n",
            "2021-01-01 07:30:00+05:30  0.884937  \n",
            "2021-01-01 08:30:00+05:30  0.912134  \n",
            "2021-01-01 09:30:00+05:30  0.905858  \n",
            "Engineered Data Sample for kolkata_hourly_weather_scaled.csv:\n",
            "                               temp      dwpt      rhum  prcp      wspd  \\\n",
            "time                                                                      \n",
            "2021-01-01 05:30:00+05:30  0.164671  0.169231  0.640449   0.0  0.048518   \n",
            "2021-01-01 06:30:00+05:30  0.092814  0.184615  0.797753   0.0  0.102426   \n",
            "2021-01-01 07:30:00+05:30  0.092814  0.184615  0.797753   0.0  0.072776   \n",
            "2021-01-01 08:30:00+05:30  0.194611  0.192308  0.617978   0.0  0.048518   \n",
            "2021-01-01 09:30:00+05:30  0.242515  0.207692  0.550562   0.0  0.072776   \n",
            "\n",
            "                               pres  temp_lag1  rhum_lag1  wspd_lag1  \\\n",
            "time                                                                   \n",
            "2021-01-01 05:30:00+05:30  0.868201   0.164671   0.640449   0.048518   \n",
            "2021-01-01 06:30:00+05:30  0.843096   0.164671   0.640449   0.048518   \n",
            "2021-01-01 07:30:00+05:30  0.884937   0.092814   0.797753   0.102426   \n",
            "2021-01-01 08:30:00+05:30  0.912134   0.092814   0.797753   0.072776   \n",
            "2021-01-01 09:30:00+05:30  0.905858   0.194611   0.617978   0.048518   \n",
            "\n",
            "                           wspd_lag2  wspd_lag3  temp_roll_mean_3h  \\\n",
            "time                                                                 \n",
            "2021-01-01 05:30:00+05:30   0.048518   0.048518           0.164671   \n",
            "2021-01-01 06:30:00+05:30   0.048518   0.048518           0.128743   \n",
            "2021-01-01 07:30:00+05:30   0.048518   0.048518           0.116766   \n",
            "2021-01-01 08:30:00+05:30   0.102426   0.048518           0.126747   \n",
            "2021-01-01 09:30:00+05:30   0.072776   0.102426           0.176647   \n",
            "\n",
            "                           prcp_roll_sum_6h  hour  month  weekday  \n",
            "time                                                               \n",
            "2021-01-01 05:30:00+05:30               0.0     5      1        4  \n",
            "2021-01-01 06:30:00+05:30               0.0     6      1        4  \n",
            "2021-01-01 07:30:00+05:30               0.0     7      1        4  \n",
            "2021-01-01 08:30:00+05:30               0.0     8      1        4  \n",
            "2021-01-01 09:30:00+05:30               0.0     9      1        4  \n",
            "Engineered Data Columns: ['temp', 'dwpt', 'rhum', 'prcp', 'wspd', 'pres', 'temp_lag1', 'rhum_lag1', 'wspd_lag1', 'wspd_lag2', 'wspd_lag3', 'temp_roll_mean_3h', 'prcp_roll_sum_6h', 'hour', 'month', 'weekday']\n",
            "Engineered Data Shape: (35041, 16)\n"
          ]
        },
        {
          "name": "stderr",
          "output_type": "stream",
          "text": [
            "<ipython-input-2-9772d4a5e8cf>:96: FutureWarning: DataFrame.fillna with 'method' is deprecated and will raise in a future version. Use obj.ffill() or obj.bfill() instead.\n",
            "  df_engineered = df_engineered.fillna(method='ffill').fillna(method='bfill')\n"
          ]
        },
        {
          "name": "stdout",
          "output_type": "stream",
          "text": [
            "Successfully engineered and saved data for: kolkata_hourly_weather_scaled.csv to Engineered_Data_Output/kolkata_hourly_weather_engineered.csv\n"
          ]
        },
        {
          "data": {
            "application/javascript": "\n    async function download(id, filename, size) {\n      if (!google.colab.kernel.accessAllowed) {\n        return;\n      }\n      const div = document.createElement('div');\n      const label = document.createElement('label');\n      label.textContent = `Downloading \"${filename}\": `;\n      div.appendChild(label);\n      const progress = document.createElement('progress');\n      progress.max = size;\n      div.appendChild(progress);\n      document.body.appendChild(div);\n\n      const buffers = [];\n      let downloaded = 0;\n\n      const channel = await google.colab.kernel.comms.open(id);\n      // Send a message to notify the kernel that we're ready.\n      channel.send({})\n\n      for await (const message of channel.messages) {\n        // Send a message to notify the kernel that we're ready.\n        channel.send({})\n        if (message.buffers) {\n          for (const buffer of message.buffers) {\n            buffers.push(buffer);\n            downloaded += buffer.byteLength;\n            progress.value = downloaded;\n          }\n        }\n      }\n      const blob = new Blob(buffers, {type: 'application/binary'});\n      const a = document.createElement('a');\n      a.href = window.URL.createObjectURL(blob);\n      a.download = filename;\n      div.appendChild(a);\n      a.click();\n      div.remove();\n    }\n  ",
            "text/plain": [
              "<IPython.core.display.Javascript object>"
            ]
          },
          "metadata": {},
          "output_type": "display_data"
        },
        {
          "data": {
            "application/javascript": "download(\"download_fe4bd99e-8408-4443-84f0-e1739e0cf5e7\", \"kolkata_hourly_weather_engineered.csv\", 8697183)",
            "text/plain": [
              "<IPython.core.display.Javascript object>"
            ]
          },
          "metadata": {},
          "output_type": "display_data"
        },
        {
          "name": "stdout",
          "output_type": "stream",
          "text": [
            "\n",
            "--- Processing lucknow_hourly_weather_scaled.csv for Feature Engineering ---\n",
            "Loaded scaled data for lucknow_hourly_weather_scaled.csv. Head:\n",
            "                               temp      dwpt      rhum  prcp  wspd      pres\n",
            "time                                                                         \n",
            "2021-01-01 05:30:00+05:30  0.058036  0.084337  0.923913   0.0   0.0  0.776567\n",
            "2021-01-01 06:30:00+05:30  0.022321  0.000000  0.858696   0.0   0.0  0.738420\n",
            "2021-01-01 07:30:00+05:30  0.000000  0.006024  0.923913   0.0   0.0  0.765668\n",
            "2021-01-01 08:30:00+05:30  0.044643  0.048193  0.891304   0.0   0.0  0.850136\n",
            "2021-01-01 09:30:00+05:30  0.133929  0.084337  0.739130   0.0   0.0  0.847411\n",
            "Engineered Data Sample for lucknow_hourly_weather_scaled.csv:\n",
            "                               temp      dwpt      rhum  prcp  wspd      pres  \\\n",
            "time                                                                            \n",
            "2021-01-01 05:30:00+05:30  0.058036  0.084337  0.923913   0.0   0.0  0.776567   \n",
            "2021-01-01 06:30:00+05:30  0.022321  0.000000  0.858696   0.0   0.0  0.738420   \n",
            "2021-01-01 07:30:00+05:30  0.000000  0.006024  0.923913   0.0   0.0  0.765668   \n",
            "2021-01-01 08:30:00+05:30  0.044643  0.048193  0.891304   0.0   0.0  0.850136   \n",
            "2021-01-01 09:30:00+05:30  0.133929  0.084337  0.739130   0.0   0.0  0.847411   \n",
            "\n",
            "                           temp_lag1  rhum_lag1  wspd_lag1  wspd_lag2  \\\n",
            "time                                                                    \n",
            "2021-01-01 05:30:00+05:30   0.058036   0.923913        0.0        0.0   \n",
            "2021-01-01 06:30:00+05:30   0.058036   0.923913        0.0        0.0   \n",
            "2021-01-01 07:30:00+05:30   0.022321   0.858696        0.0        0.0   \n",
            "2021-01-01 08:30:00+05:30   0.000000   0.923913        0.0        0.0   \n",
            "2021-01-01 09:30:00+05:30   0.044643   0.891304        0.0        0.0   \n",
            "\n",
            "                           wspd_lag3  temp_roll_mean_3h  prcp_roll_sum_6h  \\\n",
            "time                                                                        \n",
            "2021-01-01 05:30:00+05:30        0.0           0.058036               0.0   \n",
            "2021-01-01 06:30:00+05:30        0.0           0.040179               0.0   \n",
            "2021-01-01 07:30:00+05:30        0.0           0.026786               0.0   \n",
            "2021-01-01 08:30:00+05:30        0.0           0.022321               0.0   \n",
            "2021-01-01 09:30:00+05:30        0.0           0.059524               0.0   \n",
            "\n",
            "                           hour  month  weekday  \n",
            "time                                             \n",
            "2021-01-01 05:30:00+05:30     5      1        4  \n",
            "2021-01-01 06:30:00+05:30     6      1        4  \n",
            "2021-01-01 07:30:00+05:30     7      1        4  \n",
            "2021-01-01 08:30:00+05:30     8      1        4  \n",
            "2021-01-01 09:30:00+05:30     9      1        4  \n",
            "Engineered Data Columns: ['temp', 'dwpt', 'rhum', 'prcp', 'wspd', 'pres', 'temp_lag1', 'rhum_lag1', 'wspd_lag1', 'wspd_lag2', 'wspd_lag3', 'temp_roll_mean_3h', 'prcp_roll_sum_6h', 'hour', 'month', 'weekday']\n",
            "Engineered Data Shape: (35041, 16)\n"
          ]
        },
        {
          "name": "stderr",
          "output_type": "stream",
          "text": [
            "<ipython-input-2-9772d4a5e8cf>:96: FutureWarning: DataFrame.fillna with 'method' is deprecated and will raise in a future version. Use obj.ffill() or obj.bfill() instead.\n",
            "  df_engineered = df_engineered.fillna(method='ffill').fillna(method='bfill')\n"
          ]
        },
        {
          "name": "stdout",
          "output_type": "stream",
          "text": [
            "Successfully engineered and saved data for: lucknow_hourly_weather_scaled.csv to Engineered_Data_Output/lucknow_hourly_weather_engineered.csv\n"
          ]
        },
        {
          "data": {
            "application/javascript": "\n    async function download(id, filename, size) {\n      if (!google.colab.kernel.accessAllowed) {\n        return;\n      }\n      const div = document.createElement('div');\n      const label = document.createElement('label');\n      label.textContent = `Downloading \"${filename}\": `;\n      div.appendChild(label);\n      const progress = document.createElement('progress');\n      progress.max = size;\n      div.appendChild(progress);\n      document.body.appendChild(div);\n\n      const buffers = [];\n      let downloaded = 0;\n\n      const channel = await google.colab.kernel.comms.open(id);\n      // Send a message to notify the kernel that we're ready.\n      channel.send({})\n\n      for await (const message of channel.messages) {\n        // Send a message to notify the kernel that we're ready.\n        channel.send({})\n        if (message.buffers) {\n          for (const buffer of message.buffers) {\n            buffers.push(buffer);\n            downloaded += buffer.byteLength;\n            progress.value = downloaded;\n          }\n        }\n      }\n      const blob = new Blob(buffers, {type: 'application/binary'});\n      const a = document.createElement('a');\n      a.href = window.URL.createObjectURL(blob);\n      a.download = filename;\n      div.appendChild(a);\n      a.click();\n      div.remove();\n    }\n  ",
            "text/plain": [
              "<IPython.core.display.Javascript object>"
            ]
          },
          "metadata": {},
          "output_type": "display_data"
        },
        {
          "data": {
            "application/javascript": "download(\"download_e31d4074-37bc-4e02-908b-0034305b1829\", \"lucknow_hourly_weather_engineered.csv\", 8037717)",
            "text/plain": [
              "<IPython.core.display.Javascript object>"
            ]
          },
          "metadata": {},
          "output_type": "display_data"
        },
        {
          "name": "stdout",
          "output_type": "stream",
          "text": [
            "\n",
            "--- Processing mumbai_hourly_weather_scaled.csv for Feature Engineering ---\n",
            "Loaded scaled data for mumbai_hourly_weather_scaled.csv. Head:\n",
            "                               temp      dwpt      rhum  prcp      wspd  \\\n",
            "time                                                                      \n",
            "2021-01-01 05:30:00+05:30  0.291045  0.564103  0.824176   0.0  0.000000   \n",
            "2021-01-01 06:30:00+05:30  0.365672  0.564103  0.714286   0.0  0.063866   \n",
            "2021-01-01 07:30:00+05:30  0.365672  0.564103  0.714286   0.0  0.063866   \n",
            "2021-01-01 08:30:00+05:30  0.291045  0.581197  0.846154   0.0  0.000000   \n",
            "2021-01-01 09:30:00+05:30  0.514925  0.598291  0.538462   0.0  0.000000   \n",
            "\n",
            "                               pres  \n",
            "time                                 \n",
            "2021-01-01 05:30:00+05:30  0.669231  \n",
            "2021-01-01 06:30:00+05:30  0.692308  \n",
            "2021-01-01 07:30:00+05:30  0.730769  \n",
            "2021-01-01 08:30:00+05:30  0.746154  \n",
            "2021-01-01 09:30:00+05:30  0.769231  \n",
            "Engineered Data Sample for mumbai_hourly_weather_scaled.csv:\n",
            "                               temp      dwpt      rhum  prcp      wspd  \\\n",
            "time                                                                      \n",
            "2021-01-01 05:30:00+05:30  0.291045  0.564103  0.824176   0.0  0.000000   \n",
            "2021-01-01 06:30:00+05:30  0.365672  0.564103  0.714286   0.0  0.063866   \n",
            "2021-01-01 07:30:00+05:30  0.365672  0.564103  0.714286   0.0  0.063866   \n",
            "2021-01-01 08:30:00+05:30  0.291045  0.581197  0.846154   0.0  0.000000   \n",
            "2021-01-01 09:30:00+05:30  0.514925  0.598291  0.538462   0.0  0.000000   \n",
            "\n",
            "                               pres  temp_lag1  rhum_lag1  wspd_lag1  \\\n",
            "time                                                                   \n",
            "2021-01-01 05:30:00+05:30  0.669231   0.291045   0.824176   0.000000   \n",
            "2021-01-01 06:30:00+05:30  0.692308   0.291045   0.824176   0.000000   \n",
            "2021-01-01 07:30:00+05:30  0.730769   0.365672   0.714286   0.063866   \n",
            "2021-01-01 08:30:00+05:30  0.746154   0.365672   0.714286   0.063866   \n",
            "2021-01-01 09:30:00+05:30  0.769231   0.291045   0.846154   0.000000   \n",
            "\n",
            "                           wspd_lag2  wspd_lag3  temp_roll_mean_3h  \\\n",
            "time                                                                 \n",
            "2021-01-01 05:30:00+05:30   0.000000   0.000000           0.291045   \n",
            "2021-01-01 06:30:00+05:30   0.000000   0.000000           0.328358   \n",
            "2021-01-01 07:30:00+05:30   0.000000   0.000000           0.340796   \n",
            "2021-01-01 08:30:00+05:30   0.063866   0.000000           0.340796   \n",
            "2021-01-01 09:30:00+05:30   0.063866   0.063866           0.390547   \n",
            "\n",
            "                           prcp_roll_sum_6h  hour  month  weekday  \n",
            "time                                                               \n",
            "2021-01-01 05:30:00+05:30               0.0     5      1        4  \n",
            "2021-01-01 06:30:00+05:30               0.0     6      1        4  \n",
            "2021-01-01 07:30:00+05:30               0.0     7      1        4  \n",
            "2021-01-01 08:30:00+05:30               0.0     8      1        4  \n",
            "2021-01-01 09:30:00+05:30               0.0     9      1        4  \n",
            "Engineered Data Columns: ['temp', 'dwpt', 'rhum', 'prcp', 'wspd', 'pres', 'temp_lag1', 'rhum_lag1', 'wspd_lag1', 'wspd_lag2', 'wspd_lag3', 'temp_roll_mean_3h', 'prcp_roll_sum_6h', 'hour', 'month', 'weekday']\n",
            "Engineered Data Shape: (35041, 16)\n"
          ]
        },
        {
          "name": "stderr",
          "output_type": "stream",
          "text": [
            "<ipython-input-2-9772d4a5e8cf>:96: FutureWarning: DataFrame.fillna with 'method' is deprecated and will raise in a future version. Use obj.ffill() or obj.bfill() instead.\n",
            "  df_engineered = df_engineered.fillna(method='ffill').fillna(method='bfill')\n"
          ]
        },
        {
          "name": "stdout",
          "output_type": "stream",
          "text": [
            "Successfully engineered and saved data for: mumbai_hourly_weather_scaled.csv to Engineered_Data_Output/mumbai_hourly_weather_engineered.csv\n"
          ]
        },
        {
          "data": {
            "application/javascript": "\n    async function download(id, filename, size) {\n      if (!google.colab.kernel.accessAllowed) {\n        return;\n      }\n      const div = document.createElement('div');\n      const label = document.createElement('label');\n      label.textContent = `Downloading \"${filename}\": `;\n      div.appendChild(label);\n      const progress = document.createElement('progress');\n      progress.max = size;\n      div.appendChild(progress);\n      document.body.appendChild(div);\n\n      const buffers = [];\n      let downloaded = 0;\n\n      const channel = await google.colab.kernel.comms.open(id);\n      // Send a message to notify the kernel that we're ready.\n      channel.send({})\n\n      for await (const message of channel.messages) {\n        // Send a message to notify the kernel that we're ready.\n        channel.send({})\n        if (message.buffers) {\n          for (const buffer of message.buffers) {\n            buffers.push(buffer);\n            downloaded += buffer.byteLength;\n            progress.value = downloaded;\n          }\n        }\n      }\n      const blob = new Blob(buffers, {type: 'application/binary'});\n      const a = document.createElement('a');\n      a.href = window.URL.createObjectURL(blob);\n      a.download = filename;\n      div.appendChild(a);\n      a.click();\n      div.remove();\n    }\n  ",
            "text/plain": [
              "<IPython.core.display.Javascript object>"
            ]
          },
          "metadata": {},
          "output_type": "display_data"
        },
        {
          "data": {
            "application/javascript": "download(\"download_c303a0bb-31b4-4a50-86e6-1f3a97478876\", \"mumbai_hourly_weather_engineered.csv\", 8774575)",
            "text/plain": [
              "<IPython.core.display.Javascript object>"
            ]
          },
          "metadata": {},
          "output_type": "display_data"
        },
        {
          "name": "stdout",
          "output_type": "stream",
          "text": [
            "\n",
            "--- Processing mysuru_hourly_weather_scaled.csv for Feature Engineering ---\n",
            "Loaded scaled data for mysuru_hourly_weather_scaled.csv. Head:\n",
            "                               temp      dwpt  rhum  prcp      wspd      pres\n",
            "time                                                                         \n",
            "2021-01-01 06:30:00+05:30  0.403226  0.631579  0.94   0.0  0.059250  0.201282\n",
            "2021-01-01 07:30:00+05:30  0.456989  0.654971  0.88   0.0  0.085583  0.201282\n",
            "2021-01-01 08:30:00+05:30  0.456989  0.654971  0.88   0.0  0.098749  0.214103\n",
            "2021-01-01 09:30:00+05:30  0.537634  0.654971  0.73   0.0  0.125082  0.214103\n",
            "2021-01-01 10:30:00+05:30  0.537634  0.654971  0.73   0.0  0.098749  0.226923\n",
            "Engineered Data Sample for mysuru_hourly_weather_scaled.csv:\n",
            "                               temp      dwpt  rhum  prcp      wspd      pres  \\\n",
            "time                                                                            \n",
            "2021-01-01 06:30:00+05:30  0.403226  0.631579  0.94   0.0  0.059250  0.201282   \n",
            "2021-01-01 07:30:00+05:30  0.456989  0.654971  0.88   0.0  0.085583  0.201282   \n",
            "2021-01-01 08:30:00+05:30  0.456989  0.654971  0.88   0.0  0.098749  0.214103   \n",
            "2021-01-01 09:30:00+05:30  0.537634  0.654971  0.73   0.0  0.125082  0.214103   \n",
            "2021-01-01 10:30:00+05:30  0.537634  0.654971  0.73   0.0  0.098749  0.226923   \n",
            "\n",
            "                           temp_lag1  rhum_lag1  wspd_lag1  wspd_lag2  \\\n",
            "time                                                                    \n",
            "2021-01-01 06:30:00+05:30   0.403226       0.94   0.059250   0.059250   \n",
            "2021-01-01 07:30:00+05:30   0.403226       0.94   0.059250   0.059250   \n",
            "2021-01-01 08:30:00+05:30   0.456989       0.88   0.085583   0.059250   \n",
            "2021-01-01 09:30:00+05:30   0.456989       0.88   0.098749   0.085583   \n",
            "2021-01-01 10:30:00+05:30   0.537634       0.73   0.125082   0.098749   \n",
            "\n",
            "                           wspd_lag3  temp_roll_mean_3h  prcp_roll_sum_6h  \\\n",
            "time                                                                        \n",
            "2021-01-01 06:30:00+05:30   0.059250           0.403226               0.0   \n",
            "2021-01-01 07:30:00+05:30   0.059250           0.430108               0.0   \n",
            "2021-01-01 08:30:00+05:30   0.059250           0.439068               0.0   \n",
            "2021-01-01 09:30:00+05:30   0.059250           0.483871               0.0   \n",
            "2021-01-01 10:30:00+05:30   0.085583           0.510753               0.0   \n",
            "\n",
            "                           hour  month  weekday  \n",
            "time                                             \n",
            "2021-01-01 06:30:00+05:30     6      1        4  \n",
            "2021-01-01 07:30:00+05:30     7      1        4  \n",
            "2021-01-01 08:30:00+05:30     8      1        4  \n",
            "2021-01-01 09:30:00+05:30     9      1        4  \n",
            "2021-01-01 10:30:00+05:30    10      1        4  \n",
            "Engineered Data Columns: ['temp', 'dwpt', 'rhum', 'prcp', 'wspd', 'pres', 'temp_lag1', 'rhum_lag1', 'wspd_lag1', 'wspd_lag2', 'wspd_lag3', 'temp_roll_mean_3h', 'prcp_roll_sum_6h', 'hour', 'month', 'weekday']\n",
            "Engineered Data Shape: (35040, 16)\n"
          ]
        },
        {
          "name": "stderr",
          "output_type": "stream",
          "text": [
            "<ipython-input-2-9772d4a5e8cf>:96: FutureWarning: DataFrame.fillna with 'method' is deprecated and will raise in a future version. Use obj.ffill() or obj.bfill() instead.\n",
            "  df_engineered = df_engineered.fillna(method='ffill').fillna(method='bfill')\n"
          ]
        },
        {
          "name": "stdout",
          "output_type": "stream",
          "text": [
            "Successfully engineered and saved data for: mysuru_hourly_weather_scaled.csv to Engineered_Data_Output/mysuru_hourly_weather_engineered.csv\n"
          ]
        },
        {
          "data": {
            "application/javascript": "\n    async function download(id, filename, size) {\n      if (!google.colab.kernel.accessAllowed) {\n        return;\n      }\n      const div = document.createElement('div');\n      const label = document.createElement('label');\n      label.textContent = `Downloading \"${filename}\": `;\n      div.appendChild(label);\n      const progress = document.createElement('progress');\n      progress.max = size;\n      div.appendChild(progress);\n      document.body.appendChild(div);\n\n      const buffers = [];\n      let downloaded = 0;\n\n      const channel = await google.colab.kernel.comms.open(id);\n      // Send a message to notify the kernel that we're ready.\n      channel.send({})\n\n      for await (const message of channel.messages) {\n        // Send a message to notify the kernel that we're ready.\n        channel.send({})\n        if (message.buffers) {\n          for (const buffer of message.buffers) {\n            buffers.push(buffer);\n            downloaded += buffer.byteLength;\n            progress.value = downloaded;\n          }\n        }\n      }\n      const blob = new Blob(buffers, {type: 'application/binary'});\n      const a = document.createElement('a');\n      a.href = window.URL.createObjectURL(blob);\n      a.download = filename;\n      div.appendChild(a);\n      a.click();\n      div.remove();\n    }\n  ",
            "text/plain": [
              "<IPython.core.display.Javascript object>"
            ]
          },
          "metadata": {},
          "output_type": "display_data"
        },
        {
          "data": {
            "application/javascript": "download(\"download_e692b1a8-8a2d-4c4f-bf61-20fccee665c4\", \"mysuru_hourly_weather_engineered.csv\", 8079408)",
            "text/plain": [
              "<IPython.core.display.Javascript object>"
            ]
          },
          "metadata": {},
          "output_type": "display_data"
        },
        {
          "name": "stdout",
          "output_type": "stream",
          "text": [
            "\n",
            "--- Processing nagpur_hourly_weather_scaled.csv for Feature Engineering ---\n",
            "Loaded scaled data for nagpur_hourly_weather_scaled.csv. Head:\n",
            "                               temp     dwpt  rhum  prcp      wspd      pres\n",
            "time                                                                        \n",
            "2021-01-01 05:30:00+05:30  0.254630  0.30625  0.88   0.0  0.000000  0.843137\n",
            "2021-01-01 06:30:00+05:30  0.277778  0.30000  0.82   0.0  0.000000  0.862745\n",
            "2021-01-01 07:30:00+05:30  0.300926  0.33125  0.82   0.0  0.063306  0.882353\n",
            "2021-01-01 08:30:00+05:30  0.347222  0.36250  0.77   0.0  0.000000  0.901961\n",
            "2021-01-01 09:30:00+05:30  0.439815  0.38125  0.60   0.0  0.089097  0.901961\n",
            "Engineered Data Sample for nagpur_hourly_weather_scaled.csv:\n",
            "                               temp     dwpt  rhum  prcp      wspd      pres  \\\n",
            "time                                                                           \n",
            "2021-01-01 05:30:00+05:30  0.254630  0.30625  0.88   0.0  0.000000  0.843137   \n",
            "2021-01-01 06:30:00+05:30  0.277778  0.30000  0.82   0.0  0.000000  0.862745   \n",
            "2021-01-01 07:30:00+05:30  0.300926  0.33125  0.82   0.0  0.063306  0.882353   \n",
            "2021-01-01 08:30:00+05:30  0.347222  0.36250  0.77   0.0  0.000000  0.901961   \n",
            "2021-01-01 09:30:00+05:30  0.439815  0.38125  0.60   0.0  0.089097  0.901961   \n",
            "\n",
            "                           temp_lag1  rhum_lag1  wspd_lag1  wspd_lag2  \\\n",
            "time                                                                    \n",
            "2021-01-01 05:30:00+05:30   0.254630       0.88   0.000000   0.000000   \n",
            "2021-01-01 06:30:00+05:30   0.254630       0.88   0.000000   0.000000   \n",
            "2021-01-01 07:30:00+05:30   0.277778       0.82   0.000000   0.000000   \n",
            "2021-01-01 08:30:00+05:30   0.300926       0.82   0.063306   0.000000   \n",
            "2021-01-01 09:30:00+05:30   0.347222       0.77   0.000000   0.063306   \n",
            "\n",
            "                           wspd_lag3  temp_roll_mean_3h  prcp_roll_sum_6h  \\\n",
            "time                                                                        \n",
            "2021-01-01 05:30:00+05:30        0.0           0.254630               0.0   \n",
            "2021-01-01 06:30:00+05:30        0.0           0.266204               0.0   \n",
            "2021-01-01 07:30:00+05:30        0.0           0.277778               0.0   \n",
            "2021-01-01 08:30:00+05:30        0.0           0.308642               0.0   \n",
            "2021-01-01 09:30:00+05:30        0.0           0.362654               0.0   \n",
            "\n",
            "                           hour  month  weekday  \n",
            "time                                             \n",
            "2021-01-01 05:30:00+05:30     5      1        4  \n",
            "2021-01-01 06:30:00+05:30     6      1        4  \n",
            "2021-01-01 07:30:00+05:30     7      1        4  \n",
            "2021-01-01 08:30:00+05:30     8      1        4  \n",
            "2021-01-01 09:30:00+05:30     9      1        4  \n",
            "Engineered Data Columns: ['temp', 'dwpt', 'rhum', 'prcp', 'wspd', 'pres', 'temp_lag1', 'rhum_lag1', 'wspd_lag1', 'wspd_lag2', 'wspd_lag3', 'temp_roll_mean_3h', 'prcp_roll_sum_6h', 'hour', 'month', 'weekday']\n",
            "Engineered Data Shape: (35041, 16)\n"
          ]
        },
        {
          "name": "stderr",
          "output_type": "stream",
          "text": [
            "<ipython-input-2-9772d4a5e8cf>:96: FutureWarning: DataFrame.fillna with 'method' is deprecated and will raise in a future version. Use obj.ffill() or obj.bfill() instead.\n",
            "  df_engineered = df_engineered.fillna(method='ffill').fillna(method='bfill')\n"
          ]
        },
        {
          "name": "stdout",
          "output_type": "stream",
          "text": [
            "Successfully engineered and saved data for: nagpur_hourly_weather_scaled.csv to Engineered_Data_Output/nagpur_hourly_weather_engineered.csv\n"
          ]
        },
        {
          "data": {
            "application/javascript": "\n    async function download(id, filename, size) {\n      if (!google.colab.kernel.accessAllowed) {\n        return;\n      }\n      const div = document.createElement('div');\n      const label = document.createElement('label');\n      label.textContent = `Downloading \"${filename}\": `;\n      div.appendChild(label);\n      const progress = document.createElement('progress');\n      progress.max = size;\n      div.appendChild(progress);\n      document.body.appendChild(div);\n\n      const buffers = [];\n      let downloaded = 0;\n\n      const channel = await google.colab.kernel.comms.open(id);\n      // Send a message to notify the kernel that we're ready.\n      channel.send({})\n\n      for await (const message of channel.messages) {\n        // Send a message to notify the kernel that we're ready.\n        channel.send({})\n        if (message.buffers) {\n          for (const buffer of message.buffers) {\n            buffers.push(buffer);\n            downloaded += buffer.byteLength;\n            progress.value = downloaded;\n          }\n        }\n      }\n      const blob = new Blob(buffers, {type: 'application/binary'});\n      const a = document.createElement('a');\n      a.href = window.URL.createObjectURL(blob);\n      a.download = filename;\n      div.appendChild(a);\n      a.click();\n      div.remove();\n    }\n  ",
            "text/plain": [
              "<IPython.core.display.Javascript object>"
            ]
          },
          "metadata": {},
          "output_type": "display_data"
        },
        {
          "data": {
            "application/javascript": "download(\"download_c741c977-3664-40f5-8022-8f31b97fdca3\", \"nagpur_hourly_weather_engineered.csv\", 7512633)",
            "text/plain": [
              "<IPython.core.display.Javascript object>"
            ]
          },
          "metadata": {},
          "output_type": "display_data"
        },
        {
          "name": "stdout",
          "output_type": "stream",
          "text": [
            "\n",
            "--- Processing nashik_hourly_weather_scaled.csv for Feature Engineering ---\n",
            "Loaded scaled data for nashik_hourly_weather_scaled.csv. Head:\n",
            "                               temp      dwpt      rhum  prcp      wspd  \\\n",
            "time                                                                      \n",
            "2021-01-01 05:30:00+05:30  0.308824  0.458333  0.763441   0.0  0.093366   \n",
            "2021-01-01 06:30:00+05:30  0.313725  0.461806  0.759857   0.0  0.076986   \n",
            "2021-01-01 07:30:00+05:30  0.318627  0.465278  0.756272   0.0  0.060606   \n",
            "2021-01-01 08:30:00+05:30  0.323529  0.468750  0.752688   0.0  0.044226   \n",
            "2021-01-01 09:30:00+05:30  0.384314  0.501157  0.691756   0.0  0.044226   \n",
            "\n",
            "                               pres  \n",
            "time                                 \n",
            "2021-01-01 05:30:00+05:30  0.706714  \n",
            "2021-01-01 06:30:00+05:30  0.731449  \n",
            "2021-01-01 07:30:00+05:30  0.756184  \n",
            "2021-01-01 08:30:00+05:30  0.780919  \n",
            "2021-01-01 09:30:00+05:30  0.777385  \n",
            "Engineered Data Sample for nashik_hourly_weather_scaled.csv:\n",
            "                               temp      dwpt      rhum  prcp      wspd  \\\n",
            "time                                                                      \n",
            "2021-01-01 05:30:00+05:30  0.308824  0.458333  0.763441   0.0  0.093366   \n",
            "2021-01-01 06:30:00+05:30  0.313725  0.461806  0.759857   0.0  0.076986   \n",
            "2021-01-01 07:30:00+05:30  0.318627  0.465278  0.756272   0.0  0.060606   \n",
            "2021-01-01 08:30:00+05:30  0.323529  0.468750  0.752688   0.0  0.044226   \n",
            "2021-01-01 09:30:00+05:30  0.384314  0.501157  0.691756   0.0  0.044226   \n",
            "\n",
            "                               pres  temp_lag1  rhum_lag1  wspd_lag1  \\\n",
            "time                                                                   \n",
            "2021-01-01 05:30:00+05:30  0.706714   0.308824   0.763441   0.093366   \n",
            "2021-01-01 06:30:00+05:30  0.731449   0.308824   0.763441   0.093366   \n",
            "2021-01-01 07:30:00+05:30  0.756184   0.313725   0.759857   0.076986   \n",
            "2021-01-01 08:30:00+05:30  0.780919   0.318627   0.756272   0.060606   \n",
            "2021-01-01 09:30:00+05:30  0.777385   0.323529   0.752688   0.044226   \n",
            "\n",
            "                           wspd_lag2  wspd_lag3  temp_roll_mean_3h  \\\n",
            "time                                                                 \n",
            "2021-01-01 05:30:00+05:30   0.093366   0.093366           0.308824   \n",
            "2021-01-01 06:30:00+05:30   0.093366   0.093366           0.311275   \n",
            "2021-01-01 07:30:00+05:30   0.093366   0.093366           0.313725   \n",
            "2021-01-01 08:30:00+05:30   0.076986   0.093366           0.318627   \n",
            "2021-01-01 09:30:00+05:30   0.060606   0.076986           0.342157   \n",
            "\n",
            "                           prcp_roll_sum_6h  hour  month  weekday  \n",
            "time                                                               \n",
            "2021-01-01 05:30:00+05:30               0.0     5      1        4  \n",
            "2021-01-01 06:30:00+05:30               0.0     6      1        4  \n",
            "2021-01-01 07:30:00+05:30               0.0     7      1        4  \n",
            "2021-01-01 08:30:00+05:30               0.0     8      1        4  \n",
            "2021-01-01 09:30:00+05:30               0.0     9      1        4  \n",
            "Engineered Data Columns: ['temp', 'dwpt', 'rhum', 'prcp', 'wspd', 'pres', 'temp_lag1', 'rhum_lag1', 'wspd_lag1', 'wspd_lag2', 'wspd_lag3', 'temp_roll_mean_3h', 'prcp_roll_sum_6h', 'hour', 'month', 'weekday']\n",
            "Engineered Data Shape: (35041, 16)\n"
          ]
        },
        {
          "name": "stderr",
          "output_type": "stream",
          "text": [
            "<ipython-input-2-9772d4a5e8cf>:96: FutureWarning: DataFrame.fillna with 'method' is deprecated and will raise in a future version. Use obj.ffill() or obj.bfill() instead.\n",
            "  df_engineered = df_engineered.fillna(method='ffill').fillna(method='bfill')\n"
          ]
        },
        {
          "name": "stdout",
          "output_type": "stream",
          "text": [
            "Successfully engineered and saved data for: nashik_hourly_weather_scaled.csv to Engineered_Data_Output/nashik_hourly_weather_engineered.csv\n"
          ]
        },
        {
          "data": {
            "application/javascript": "\n    async function download(id, filename, size) {\n      if (!google.colab.kernel.accessAllowed) {\n        return;\n      }\n      const div = document.createElement('div');\n      const label = document.createElement('label');\n      label.textContent = `Downloading \"${filename}\": `;\n      div.appendChild(label);\n      const progress = document.createElement('progress');\n      progress.max = size;\n      div.appendChild(progress);\n      document.body.appendChild(div);\n\n      const buffers = [];\n      let downloaded = 0;\n\n      const channel = await google.colab.kernel.comms.open(id);\n      // Send a message to notify the kernel that we're ready.\n      channel.send({})\n\n      for await (const message of channel.messages) {\n        // Send a message to notify the kernel that we're ready.\n        channel.send({})\n        if (message.buffers) {\n          for (const buffer of message.buffers) {\n            buffers.push(buffer);\n            downloaded += buffer.byteLength;\n            progress.value = downloaded;\n          }\n        }\n      }\n      const blob = new Blob(buffers, {type: 'application/binary'});\n      const a = document.createElement('a');\n      a.href = window.URL.createObjectURL(blob);\n      a.download = filename;\n      div.appendChild(a);\n      a.click();\n      div.remove();\n    }\n  ",
            "text/plain": [
              "<IPython.core.display.Javascript object>"
            ]
          },
          "metadata": {},
          "output_type": "display_data"
        },
        {
          "data": {
            "application/javascript": "download(\"download_fa08ef33-6ceb-49c9-9b5a-2464e46fdcfa\", \"nashik_hourly_weather_engineered.csv\", 8624198)",
            "text/plain": [
              "<IPython.core.display.Javascript object>"
            ]
          },
          "metadata": {},
          "output_type": "display_data"
        },
        {
          "name": "stdout",
          "output_type": "stream",
          "text": [
            "\n",
            "--- Processing new_delhi_hourly_weather_scaled.csv for Feature Engineering ---\n",
            "Loaded scaled data for new_delhi_hourly_weather_scaled.csv. Head:\n",
            "                               temp      dwpt      rhum  prcp  wspd      pres\n",
            "time                                                                         \n",
            "2021-01-01 05:30:00+05:30  0.000000  0.179191  1.000000   0.0   0.0  0.793651\n",
            "2021-01-01 06:30:00+05:30  0.044393  0.228324  0.988764   0.0   0.0  0.796296\n",
            "2021-01-01 07:30:00+05:30  0.051402  0.231214  0.977528   0.0   0.0  0.814815\n",
            "2021-01-01 08:30:00+05:30  0.004673  0.161850  0.955056   0.0   0.0  0.843915\n",
            "2021-01-01 09:30:00+05:30  0.105140  0.222543  0.831461   0.0   0.0  0.835979\n",
            "Engineered Data Sample for new_delhi_hourly_weather_scaled.csv:\n",
            "                               temp      dwpt      rhum  prcp  wspd      pres  \\\n",
            "time                                                                            \n",
            "2021-01-01 05:30:00+05:30  0.000000  0.179191  1.000000   0.0   0.0  0.793651   \n",
            "2021-01-01 06:30:00+05:30  0.044393  0.228324  0.988764   0.0   0.0  0.796296   \n",
            "2021-01-01 07:30:00+05:30  0.051402  0.231214  0.977528   0.0   0.0  0.814815   \n",
            "2021-01-01 08:30:00+05:30  0.004673  0.161850  0.955056   0.0   0.0  0.843915   \n",
            "2021-01-01 09:30:00+05:30  0.105140  0.222543  0.831461   0.0   0.0  0.835979   \n",
            "\n",
            "                           temp_lag1  rhum_lag1  wspd_lag1  wspd_lag2  \\\n",
            "time                                                                    \n",
            "2021-01-01 05:30:00+05:30   0.000000   1.000000        0.0        0.0   \n",
            "2021-01-01 06:30:00+05:30   0.000000   1.000000        0.0        0.0   \n",
            "2021-01-01 07:30:00+05:30   0.044393   0.988764        0.0        0.0   \n",
            "2021-01-01 08:30:00+05:30   0.051402   0.977528        0.0        0.0   \n",
            "2021-01-01 09:30:00+05:30   0.004673   0.955056        0.0        0.0   \n",
            "\n",
            "                           wspd_lag3  temp_roll_mean_3h  prcp_roll_sum_6h  \\\n",
            "time                                                                        \n",
            "2021-01-01 05:30:00+05:30        0.0           0.000000               0.0   \n",
            "2021-01-01 06:30:00+05:30        0.0           0.022196               0.0   \n",
            "2021-01-01 07:30:00+05:30        0.0           0.031931               0.0   \n",
            "2021-01-01 08:30:00+05:30        0.0           0.033489               0.0   \n",
            "2021-01-01 09:30:00+05:30        0.0           0.053738               0.0   \n",
            "\n",
            "                           hour  month  weekday  \n",
            "time                                             \n",
            "2021-01-01 05:30:00+05:30     5      1        4  \n",
            "2021-01-01 06:30:00+05:30     6      1        4  \n",
            "2021-01-01 07:30:00+05:30     7      1        4  \n",
            "2021-01-01 08:30:00+05:30     8      1        4  \n",
            "2021-01-01 09:30:00+05:30     9      1        4  \n",
            "Engineered Data Columns: ['temp', 'dwpt', 'rhum', 'prcp', 'wspd', 'pres', 'temp_lag1', 'rhum_lag1', 'wspd_lag1', 'wspd_lag2', 'wspd_lag3', 'temp_roll_mean_3h', 'prcp_roll_sum_6h', 'hour', 'month', 'weekday']\n",
            "Engineered Data Shape: (35041, 16)\n"
          ]
        },
        {
          "name": "stderr",
          "output_type": "stream",
          "text": [
            "<ipython-input-2-9772d4a5e8cf>:96: FutureWarning: DataFrame.fillna with 'method' is deprecated and will raise in a future version. Use obj.ffill() or obj.bfill() instead.\n",
            "  df_engineered = df_engineered.fillna(method='ffill').fillna(method='bfill')\n"
          ]
        },
        {
          "name": "stdout",
          "output_type": "stream",
          "text": [
            "Successfully engineered and saved data for: new_delhi_hourly_weather_scaled.csv to Engineered_Data_Output/new_delhi_hourly_weather_engineered.csv\n"
          ]
        },
        {
          "data": {
            "application/javascript": "\n    async function download(id, filename, size) {\n      if (!google.colab.kernel.accessAllowed) {\n        return;\n      }\n      const div = document.createElement('div');\n      const label = document.createElement('label');\n      label.textContent = `Downloading \"${filename}\": `;\n      div.appendChild(label);\n      const progress = document.createElement('progress');\n      progress.max = size;\n      div.appendChild(progress);\n      document.body.appendChild(div);\n\n      const buffers = [];\n      let downloaded = 0;\n\n      const channel = await google.colab.kernel.comms.open(id);\n      // Send a message to notify the kernel that we're ready.\n      channel.send({})\n\n      for await (const message of channel.messages) {\n        // Send a message to notify the kernel that we're ready.\n        channel.send({})\n        if (message.buffers) {\n          for (const buffer of message.buffers) {\n            buffers.push(buffer);\n            downloaded += buffer.byteLength;\n            progress.value = downloaded;\n          }\n        }\n      }\n      const blob = new Blob(buffers, {type: 'application/binary'});\n      const a = document.createElement('a');\n      a.href = window.URL.createObjectURL(blob);\n      a.download = filename;\n      div.appendChild(a);\n      a.click();\n      div.remove();\n    }\n  ",
            "text/plain": [
              "<IPython.core.display.Javascript object>"
            ]
          },
          "metadata": {},
          "output_type": "display_data"
        },
        {
          "data": {
            "application/javascript": "download(\"download_af8d4b16-81fe-4b7d-afb1-d97a16bbdae5\", \"new_delhi_hourly_weather_engineered.csv\", 8231363)",
            "text/plain": [
              "<IPython.core.display.Javascript object>"
            ]
          },
          "metadata": {},
          "output_type": "display_data"
        },
        {
          "name": "stdout",
          "output_type": "stream",
          "text": [
            "\n",
            "--- Processing ooty_hourly_weather_scaled.csv for Feature Engineering ---\n",
            "Loaded scaled data for ooty_hourly_weather_scaled.csv. Head:\n",
            "                               temp      dwpt      rhum  prcp      wspd  \\\n",
            "time                                                                      \n",
            "2021-01-01 08:30:00+05:30  0.311111  0.314985  0.376471   0.0  0.000000   \n",
            "2021-01-01 09:30:00+05:30  0.298860  0.328393  0.421719   0.0  0.001141   \n",
            "2021-01-01 10:30:00+05:30  0.286610  0.341802  0.466968   0.0  0.002283   \n",
            "2021-01-01 11:30:00+05:30  0.274359  0.355211  0.512217   0.0  0.003424   \n",
            "2021-01-01 12:30:00+05:30  0.262108  0.368619  0.557466   0.0  0.004565   \n",
            "\n",
            "                               pres  \n",
            "time                                 \n",
            "2021-01-01 08:30:00+05:30  0.700565  \n",
            "2021-01-01 09:30:00+05:30  0.700565  \n",
            "2021-01-01 10:30:00+05:30  0.700565  \n",
            "2021-01-01 11:30:00+05:30  0.700565  \n",
            "2021-01-01 12:30:00+05:30  0.700565  \n",
            "Engineered Data Sample for ooty_hourly_weather_scaled.csv:\n",
            "                               temp      dwpt      rhum  prcp      wspd  \\\n",
            "time                                                                      \n",
            "2021-01-01 08:30:00+05:30  0.311111  0.314985  0.376471   0.0  0.000000   \n",
            "2021-01-01 09:30:00+05:30  0.298860  0.328393  0.421719   0.0  0.001141   \n",
            "2021-01-01 10:30:00+05:30  0.286610  0.341802  0.466968   0.0  0.002283   \n",
            "2021-01-01 11:30:00+05:30  0.274359  0.355211  0.512217   0.0  0.003424   \n",
            "2021-01-01 12:30:00+05:30  0.262108  0.368619  0.557466   0.0  0.004565   \n",
            "\n",
            "                               pres  temp_lag1  rhum_lag1  wspd_lag1  \\\n",
            "time                                                                   \n",
            "2021-01-01 08:30:00+05:30  0.700565   0.311111   0.376471   0.000000   \n",
            "2021-01-01 09:30:00+05:30  0.700565   0.311111   0.376471   0.000000   \n",
            "2021-01-01 10:30:00+05:30  0.700565   0.298860   0.421719   0.001141   \n",
            "2021-01-01 11:30:00+05:30  0.700565   0.286610   0.466968   0.002283   \n",
            "2021-01-01 12:30:00+05:30  0.700565   0.274359   0.512217   0.003424   \n",
            "\n",
            "                           wspd_lag2  wspd_lag3  temp_roll_mean_3h  \\\n",
            "time                                                                 \n",
            "2021-01-01 08:30:00+05:30   0.000000   0.000000           0.311111   \n",
            "2021-01-01 09:30:00+05:30   0.000000   0.000000           0.304986   \n",
            "2021-01-01 10:30:00+05:30   0.000000   0.000000           0.298860   \n",
            "2021-01-01 11:30:00+05:30   0.001141   0.000000           0.286610   \n",
            "2021-01-01 12:30:00+05:30   0.002283   0.001141           0.274359   \n",
            "\n",
            "                           prcp_roll_sum_6h  hour  month  weekday  \n",
            "time                                                               \n",
            "2021-01-01 08:30:00+05:30               0.0     8      1        4  \n",
            "2021-01-01 09:30:00+05:30               0.0     9      1        4  \n",
            "2021-01-01 10:30:00+05:30               0.0    10      1        4  \n",
            "2021-01-01 11:30:00+05:30               0.0    11      1        4  \n",
            "2021-01-01 12:30:00+05:30               0.0    12      1        4  \n",
            "Engineered Data Columns: ['temp', 'dwpt', 'rhum', 'prcp', 'wspd', 'pres', 'temp_lag1', 'rhum_lag1', 'wspd_lag1', 'wspd_lag2', 'wspd_lag3', 'temp_roll_mean_3h', 'prcp_roll_sum_6h', 'hour', 'month', 'weekday']\n",
            "Engineered Data Shape: (35038, 16)\n"
          ]
        },
        {
          "name": "stderr",
          "output_type": "stream",
          "text": [
            "<ipython-input-2-9772d4a5e8cf>:96: FutureWarning: DataFrame.fillna with 'method' is deprecated and will raise in a future version. Use obj.ffill() or obj.bfill() instead.\n",
            "  df_engineered = df_engineered.fillna(method='ffill').fillna(method='bfill')\n"
          ]
        },
        {
          "name": "stdout",
          "output_type": "stream",
          "text": [
            "Successfully engineered and saved data for: ooty_hourly_weather_scaled.csv to Engineered_Data_Output/ooty_hourly_weather_engineered.csv\n"
          ]
        },
        {
          "data": {
            "application/javascript": "\n    async function download(id, filename, size) {\n      if (!google.colab.kernel.accessAllowed) {\n        return;\n      }\n      const div = document.createElement('div');\n      const label = document.createElement('label');\n      label.textContent = `Downloading \"${filename}\": `;\n      div.appendChild(label);\n      const progress = document.createElement('progress');\n      progress.max = size;\n      div.appendChild(progress);\n      document.body.appendChild(div);\n\n      const buffers = [];\n      let downloaded = 0;\n\n      const channel = await google.colab.kernel.comms.open(id);\n      // Send a message to notify the kernel that we're ready.\n      channel.send({})\n\n      for await (const message of channel.messages) {\n        // Send a message to notify the kernel that we're ready.\n        channel.send({})\n        if (message.buffers) {\n          for (const buffer of message.buffers) {\n            buffers.push(buffer);\n            downloaded += buffer.byteLength;\n            progress.value = downloaded;\n          }\n        }\n      }\n      const blob = new Blob(buffers, {type: 'application/binary'});\n      const a = document.createElement('a');\n      a.href = window.URL.createObjectURL(blob);\n      a.download = filename;\n      div.appendChild(a);\n      a.click();\n      div.remove();\n    }\n  ",
            "text/plain": [
              "<IPython.core.display.Javascript object>"
            ]
          },
          "metadata": {},
          "output_type": "display_data"
        },
        {
          "data": {
            "application/javascript": "download(\"download_01971124-b5e1-40b5-a0dc-88462609fe50\", \"ooty_hourly_weather_engineered.csv\", 8995743)",
            "text/plain": [
              "<IPython.core.display.Javascript object>"
            ]
          },
          "metadata": {},
          "output_type": "display_data"
        },
        {
          "name": "stdout",
          "output_type": "stream",
          "text": [
            "\n",
            "--- Processing patna_hourly_weather_scaled.csv for Feature Engineering ---\n",
            "Loaded scaled data for patna_hourly_weather_scaled.csv. Head:\n",
            "                               temp      dwpt      rhum  prcp      wspd  \\\n",
            "time                                                                      \n",
            "2021-01-01 05:30:00+05:30  0.157635  0.250000  0.946809   0.0  0.000000   \n",
            "2021-01-01 06:30:00+05:30  0.039409  0.095238  0.925532   0.0  0.000000   \n",
            "2021-01-01 07:30:00+05:30  0.064039  0.125000  0.925532   0.0  0.051923   \n",
            "2021-01-01 08:30:00+05:30  0.201970  0.261905  0.872340   0.0  0.034615   \n",
            "2021-01-01 09:30:00+05:30  0.261084  0.208333  0.648936   0.0  0.000000   \n",
            "\n",
            "                               pres  \n",
            "time                                 \n",
            "2021-01-01 05:30:00+05:30  0.748571  \n",
            "2021-01-01 06:30:00+05:30  0.771429  \n",
            "2021-01-01 07:30:00+05:30  0.800000  \n",
            "2021-01-01 08:30:00+05:30  0.842857  \n",
            "2021-01-01 09:30:00+05:30  0.857143  \n",
            "Engineered Data Sample for patna_hourly_weather_scaled.csv:\n",
            "                               temp      dwpt      rhum  prcp      wspd  \\\n",
            "time                                                                      \n",
            "2021-01-01 05:30:00+05:30  0.157635  0.250000  0.946809   0.0  0.000000   \n",
            "2021-01-01 06:30:00+05:30  0.039409  0.095238  0.925532   0.0  0.000000   \n",
            "2021-01-01 07:30:00+05:30  0.064039  0.125000  0.925532   0.0  0.051923   \n",
            "2021-01-01 08:30:00+05:30  0.201970  0.261905  0.872340   0.0  0.034615   \n",
            "2021-01-01 09:30:00+05:30  0.261084  0.208333  0.648936   0.0  0.000000   \n",
            "\n",
            "                               pres  temp_lag1  rhum_lag1  wspd_lag1  \\\n",
            "time                                                                   \n",
            "2021-01-01 05:30:00+05:30  0.748571   0.157635   0.946809   0.000000   \n",
            "2021-01-01 06:30:00+05:30  0.771429   0.157635   0.946809   0.000000   \n",
            "2021-01-01 07:30:00+05:30  0.800000   0.039409   0.925532   0.000000   \n",
            "2021-01-01 08:30:00+05:30  0.842857   0.064039   0.925532   0.051923   \n",
            "2021-01-01 09:30:00+05:30  0.857143   0.201970   0.872340   0.034615   \n",
            "\n",
            "                           wspd_lag2  wspd_lag3  temp_roll_mean_3h  \\\n",
            "time                                                                 \n",
            "2021-01-01 05:30:00+05:30   0.000000        0.0           0.157635   \n",
            "2021-01-01 06:30:00+05:30   0.000000        0.0           0.098522   \n",
            "2021-01-01 07:30:00+05:30   0.000000        0.0           0.087028   \n",
            "2021-01-01 08:30:00+05:30   0.000000        0.0           0.101806   \n",
            "2021-01-01 09:30:00+05:30   0.051923        0.0           0.175698   \n",
            "\n",
            "                           prcp_roll_sum_6h  hour  month  weekday  \n",
            "time                                                               \n",
            "2021-01-01 05:30:00+05:30               0.0     5      1        4  \n",
            "2021-01-01 06:30:00+05:30               0.0     6      1        4  \n",
            "2021-01-01 07:30:00+05:30               0.0     7      1        4  \n",
            "2021-01-01 08:30:00+05:30               0.0     8      1        4  \n",
            "2021-01-01 09:30:00+05:30               0.0     9      1        4  \n",
            "Engineered Data Columns: ['temp', 'dwpt', 'rhum', 'prcp', 'wspd', 'pres', 'temp_lag1', 'rhum_lag1', 'wspd_lag1', 'wspd_lag2', 'wspd_lag3', 'temp_roll_mean_3h', 'prcp_roll_sum_6h', 'hour', 'month', 'weekday']\n",
            "Engineered Data Shape: (35041, 16)\n"
          ]
        },
        {
          "name": "stderr",
          "output_type": "stream",
          "text": [
            "<ipython-input-2-9772d4a5e8cf>:96: FutureWarning: DataFrame.fillna with 'method' is deprecated and will raise in a future version. Use obj.ffill() or obj.bfill() instead.\n",
            "  df_engineered = df_engineered.fillna(method='ffill').fillna(method='bfill')\n"
          ]
        },
        {
          "name": "stdout",
          "output_type": "stream",
          "text": [
            "Successfully engineered and saved data for: patna_hourly_weather_scaled.csv to Engineered_Data_Output/patna_hourly_weather_engineered.csv\n"
          ]
        },
        {
          "data": {
            "application/javascript": "\n    async function download(id, filename, size) {\n      if (!google.colab.kernel.accessAllowed) {\n        return;\n      }\n      const div = document.createElement('div');\n      const label = document.createElement('label');\n      label.textContent = `Downloading \"${filename}\": `;\n      div.appendChild(label);\n      const progress = document.createElement('progress');\n      progress.max = size;\n      div.appendChild(progress);\n      document.body.appendChild(div);\n\n      const buffers = [];\n      let downloaded = 0;\n\n      const channel = await google.colab.kernel.comms.open(id);\n      // Send a message to notify the kernel that we're ready.\n      channel.send({})\n\n      for await (const message of channel.messages) {\n        // Send a message to notify the kernel that we're ready.\n        channel.send({})\n        if (message.buffers) {\n          for (const buffer of message.buffers) {\n            buffers.push(buffer);\n            downloaded += buffer.byteLength;\n            progress.value = downloaded;\n          }\n        }\n      }\n      const blob = new Blob(buffers, {type: 'application/binary'});\n      const a = document.createElement('a');\n      a.href = window.URL.createObjectURL(blob);\n      a.download = filename;\n      div.appendChild(a);\n      a.click();\n      div.remove();\n    }\n  ",
            "text/plain": [
              "<IPython.core.display.Javascript object>"
            ]
          },
          "metadata": {},
          "output_type": "display_data"
        },
        {
          "data": {
            "application/javascript": "download(\"download_e00187a8-4c89-4d6f-b864-6d251c2029f0\", \"patna_hourly_weather_engineered.csv\", 8326993)",
            "text/plain": [
              "<IPython.core.display.Javascript object>"
            ]
          },
          "metadata": {},
          "output_type": "display_data"
        },
        {
          "name": "stdout",
          "output_type": "stream",
          "text": [
            "\n",
            "--- Processing port_blair_hourly_weather_scaled.csv for Feature Engineering ---\n",
            "Loaded scaled data for port_blair_hourly_weather_scaled.csv. Head:\n",
            "                               temp      dwpt  rhum  prcp      wspd      pres\n",
            "time                                                                         \n",
            "2021-01-01 05:30:00+05:30  0.697368  0.841667  0.78   0.0  0.038776  0.325077\n",
            "2021-01-01 06:30:00+05:30  0.684211  0.833333  0.79   0.0  0.030612  0.349845\n",
            "2021-01-01 07:30:00+05:30  0.684211  0.833333  0.79   0.0  0.030612  0.380805\n",
            "2021-01-01 08:30:00+05:30  0.684211  0.833333  0.79   0.0  0.096939  0.411765\n",
            "2021-01-01 09:30:00+05:30  0.697368  0.847222  0.79   0.0  0.096939  0.380805\n",
            "Engineered Data Sample for port_blair_hourly_weather_scaled.csv:\n",
            "                               temp      dwpt  rhum  prcp      wspd      pres  \\\n",
            "time                                                                            \n",
            "2021-01-01 05:30:00+05:30  0.697368  0.841667  0.78   0.0  0.038776  0.325077   \n",
            "2021-01-01 06:30:00+05:30  0.684211  0.833333  0.79   0.0  0.030612  0.349845   \n",
            "2021-01-01 07:30:00+05:30  0.684211  0.833333  0.79   0.0  0.030612  0.380805   \n",
            "2021-01-01 08:30:00+05:30  0.684211  0.833333  0.79   0.0  0.096939  0.411765   \n",
            "2021-01-01 09:30:00+05:30  0.697368  0.847222  0.79   0.0  0.096939  0.380805   \n",
            "\n",
            "                           temp_lag1  rhum_lag1  wspd_lag1  wspd_lag2  \\\n",
            "time                                                                    \n",
            "2021-01-01 05:30:00+05:30   0.697368       0.78   0.038776   0.038776   \n",
            "2021-01-01 06:30:00+05:30   0.697368       0.78   0.038776   0.038776   \n",
            "2021-01-01 07:30:00+05:30   0.684211       0.79   0.030612   0.038776   \n",
            "2021-01-01 08:30:00+05:30   0.684211       0.79   0.030612   0.030612   \n",
            "2021-01-01 09:30:00+05:30   0.684211       0.79   0.096939   0.030612   \n",
            "\n",
            "                           wspd_lag3  temp_roll_mean_3h  prcp_roll_sum_6h  \\\n",
            "time                                                                        \n",
            "2021-01-01 05:30:00+05:30   0.038776           0.697368               0.0   \n",
            "2021-01-01 06:30:00+05:30   0.038776           0.690789               0.0   \n",
            "2021-01-01 07:30:00+05:30   0.038776           0.688596               0.0   \n",
            "2021-01-01 08:30:00+05:30   0.038776           0.684211               0.0   \n",
            "2021-01-01 09:30:00+05:30   0.030612           0.688596               0.0   \n",
            "\n",
            "                           hour  month  weekday  \n",
            "time                                             \n",
            "2021-01-01 05:30:00+05:30     5      1        4  \n",
            "2021-01-01 06:30:00+05:30     6      1        4  \n",
            "2021-01-01 07:30:00+05:30     7      1        4  \n",
            "2021-01-01 08:30:00+05:30     8      1        4  \n",
            "2021-01-01 09:30:00+05:30     9      1        4  \n",
            "Engineered Data Columns: ['temp', 'dwpt', 'rhum', 'prcp', 'wspd', 'pres', 'temp_lag1', 'rhum_lag1', 'wspd_lag1', 'wspd_lag2', 'wspd_lag3', 'temp_roll_mean_3h', 'prcp_roll_sum_6h', 'hour', 'month', 'weekday']\n",
            "Engineered Data Shape: (35041, 16)\n"
          ]
        },
        {
          "name": "stderr",
          "output_type": "stream",
          "text": [
            "<ipython-input-2-9772d4a5e8cf>:96: FutureWarning: DataFrame.fillna with 'method' is deprecated and will raise in a future version. Use obj.ffill() or obj.bfill() instead.\n",
            "  df_engineered = df_engineered.fillna(method='ffill').fillna(method='bfill')\n"
          ]
        },
        {
          "name": "stdout",
          "output_type": "stream",
          "text": [
            "Successfully engineered and saved data for: port_blair_hourly_weather_scaled.csv to Engineered_Data_Output/port_blair_hourly_weather_engineered.csv\n"
          ]
        },
        {
          "data": {
            "application/javascript": "\n    async function download(id, filename, size) {\n      if (!google.colab.kernel.accessAllowed) {\n        return;\n      }\n      const div = document.createElement('div');\n      const label = document.createElement('label');\n      label.textContent = `Downloading \"${filename}\": `;\n      div.appendChild(label);\n      const progress = document.createElement('progress');\n      progress.max = size;\n      div.appendChild(progress);\n      document.body.appendChild(div);\n\n      const buffers = [];\n      let downloaded = 0;\n\n      const channel = await google.colab.kernel.comms.open(id);\n      // Send a message to notify the kernel that we're ready.\n      channel.send({})\n\n      for await (const message of channel.messages) {\n        // Send a message to notify the kernel that we're ready.\n        channel.send({})\n        if (message.buffers) {\n          for (const buffer of message.buffers) {\n            buffers.push(buffer);\n            downloaded += buffer.byteLength;\n            progress.value = downloaded;\n          }\n        }\n      }\n      const blob = new Blob(buffers, {type: 'application/binary'});\n      const a = document.createElement('a');\n      a.href = window.URL.createObjectURL(blob);\n      a.download = filename;\n      div.appendChild(a);\n      a.click();\n      div.remove();\n    }\n  ",
            "text/plain": [
              "<IPython.core.display.Javascript object>"
            ]
          },
          "metadata": {},
          "output_type": "display_data"
        },
        {
          "data": {
            "application/javascript": "download(\"download_e765e81f-a71d-4abf-bbc8-e8238f9f8763\", \"port_blair_hourly_weather_engineered.csv\", 8308992)",
            "text/plain": [
              "<IPython.core.display.Javascript object>"
            ]
          },
          "metadata": {},
          "output_type": "display_data"
        },
        {
          "name": "stdout",
          "output_type": "stream",
          "text": [
            "\n",
            "--- Processing pune_hourly_weather_scaled.csv for Feature Engineering ---\n",
            "Loaded scaled data for pune_hourly_weather_scaled.csv. Head:\n",
            "                               temp      dwpt      rhum  prcp      wspd  \\\n",
            "time                                                                      \n",
            "2021-01-01 05:30:00+05:30  0.225610  0.483871  0.935484   0.0  0.000000   \n",
            "2021-01-01 06:30:00+05:30  0.239837  0.508065  0.942652   0.0  0.000000   \n",
            "2021-01-01 07:30:00+05:30  0.254065  0.532258  0.949821   0.0  0.000000   \n",
            "2021-01-01 08:30:00+05:30  0.268293  0.556452  0.956989   0.0  0.000000   \n",
            "2021-01-01 09:30:00+05:30  0.351626  0.583333  0.845878   0.0  0.008499   \n",
            "\n",
            "                               pres  \n",
            "time                                 \n",
            "2021-01-01 05:30:00+05:30  0.695489  \n",
            "2021-01-01 06:30:00+05:30  0.716792  \n",
            "2021-01-01 07:30:00+05:30  0.738095  \n",
            "2021-01-01 08:30:00+05:30  0.759398  \n",
            "2021-01-01 09:30:00+05:30  0.738095  \n",
            "Engineered Data Sample for pune_hourly_weather_scaled.csv:\n",
            "                               temp      dwpt      rhum  prcp      wspd  \\\n",
            "time                                                                      \n",
            "2021-01-01 05:30:00+05:30  0.225610  0.483871  0.935484   0.0  0.000000   \n",
            "2021-01-01 06:30:00+05:30  0.239837  0.508065  0.942652   0.0  0.000000   \n",
            "2021-01-01 07:30:00+05:30  0.254065  0.532258  0.949821   0.0  0.000000   \n",
            "2021-01-01 08:30:00+05:30  0.268293  0.556452  0.956989   0.0  0.000000   \n",
            "2021-01-01 09:30:00+05:30  0.351626  0.583333  0.845878   0.0  0.008499   \n",
            "\n",
            "                               pres  temp_lag1  rhum_lag1  wspd_lag1  \\\n",
            "time                                                                   \n",
            "2021-01-01 05:30:00+05:30  0.695489   0.225610   0.935484        0.0   \n",
            "2021-01-01 06:30:00+05:30  0.716792   0.225610   0.935484        0.0   \n",
            "2021-01-01 07:30:00+05:30  0.738095   0.239837   0.942652        0.0   \n",
            "2021-01-01 08:30:00+05:30  0.759398   0.254065   0.949821        0.0   \n",
            "2021-01-01 09:30:00+05:30  0.738095   0.268293   0.956989        0.0   \n",
            "\n",
            "                           wspd_lag2  wspd_lag3  temp_roll_mean_3h  \\\n",
            "time                                                                 \n",
            "2021-01-01 05:30:00+05:30        0.0        0.0           0.225610   \n",
            "2021-01-01 06:30:00+05:30        0.0        0.0           0.232724   \n",
            "2021-01-01 07:30:00+05:30        0.0        0.0           0.239837   \n",
            "2021-01-01 08:30:00+05:30        0.0        0.0           0.254065   \n",
            "2021-01-01 09:30:00+05:30        0.0        0.0           0.291328   \n",
            "\n",
            "                           prcp_roll_sum_6h  hour  month  weekday  \n",
            "time                                                               \n",
            "2021-01-01 05:30:00+05:30               0.0     5      1        4  \n",
            "2021-01-01 06:30:00+05:30               0.0     6      1        4  \n",
            "2021-01-01 07:30:00+05:30               0.0     7      1        4  \n",
            "2021-01-01 08:30:00+05:30               0.0     8      1        4  \n",
            "2021-01-01 09:30:00+05:30               0.0     9      1        4  \n",
            "Engineered Data Columns: ['temp', 'dwpt', 'rhum', 'prcp', 'wspd', 'pres', 'temp_lag1', 'rhum_lag1', 'wspd_lag1', 'wspd_lag2', 'wspd_lag3', 'temp_roll_mean_3h', 'prcp_roll_sum_6h', 'hour', 'month', 'weekday']\n",
            "Engineered Data Shape: (35041, 16)\n"
          ]
        },
        {
          "name": "stderr",
          "output_type": "stream",
          "text": [
            "<ipython-input-2-9772d4a5e8cf>:96: FutureWarning: DataFrame.fillna with 'method' is deprecated and will raise in a future version. Use obj.ffill() or obj.bfill() instead.\n",
            "  df_engineered = df_engineered.fillna(method='ffill').fillna(method='bfill')\n"
          ]
        },
        {
          "name": "stdout",
          "output_type": "stream",
          "text": [
            "Successfully engineered and saved data for: pune_hourly_weather_scaled.csv to Engineered_Data_Output/pune_hourly_weather_engineered.csv\n"
          ]
        },
        {
          "data": {
            "application/javascript": "\n    async function download(id, filename, size) {\n      if (!google.colab.kernel.accessAllowed) {\n        return;\n      }\n      const div = document.createElement('div');\n      const label = document.createElement('label');\n      label.textContent = `Downloading \"${filename}\": `;\n      div.appendChild(label);\n      const progress = document.createElement('progress');\n      progress.max = size;\n      div.appendChild(progress);\n      document.body.appendChild(div);\n\n      const buffers = [];\n      let downloaded = 0;\n\n      const channel = await google.colab.kernel.comms.open(id);\n      // Send a message to notify the kernel that we're ready.\n      channel.send({})\n\n      for await (const message of channel.messages) {\n        // Send a message to notify the kernel that we're ready.\n        channel.send({})\n        if (message.buffers) {\n          for (const buffer of message.buffers) {\n            buffers.push(buffer);\n            downloaded += buffer.byteLength;\n            progress.value = downloaded;\n          }\n        }\n      }\n      const blob = new Blob(buffers, {type: 'application/binary'});\n      const a = document.createElement('a');\n      a.href = window.URL.createObjectURL(blob);\n      a.download = filename;\n      div.appendChild(a);\n      a.click();\n      div.remove();\n    }\n  ",
            "text/plain": [
              "<IPython.core.display.Javascript object>"
            ]
          },
          "metadata": {},
          "output_type": "display_data"
        },
        {
          "data": {
            "application/javascript": "download(\"download_4b85e2eb-9c75-4b46-8358-60f3c18eb124\", \"pune_hourly_weather_engineered.csv\", 8625813)",
            "text/plain": [
              "<IPython.core.display.Javascript object>"
            ]
          },
          "metadata": {},
          "output_type": "display_data"
        },
        {
          "name": "stdout",
          "output_type": "stream",
          "text": [
            "\n",
            "--- Processing ranchi_hourly_weather_scaled.csv for Feature Engineering ---\n",
            "Loaded scaled data for ranchi_hourly_weather_scaled.csv. Head:\n",
            "                               temp      dwpt      rhum  prcp  wspd      pres\n",
            "time                                                                         \n",
            "2021-01-01 05:30:00+05:30  0.153846  0.207865  0.736264   0.0   0.0  0.797753\n",
            "2021-01-01 06:30:00+05:30  0.137363  0.191011  0.736264   0.0   0.0  0.803371\n",
            "2021-01-01 07:30:00+05:30  0.164835  0.219101  0.736264   0.0   0.0  0.831461\n",
            "2021-01-01 08:30:00+05:30  0.225275  0.297753  0.769231   0.0   0.0  0.851124\n",
            "2021-01-01 09:30:00+05:30  0.274725  0.308989  0.692308   0.0   0.0  0.887640\n",
            "Engineered Data Sample for ranchi_hourly_weather_scaled.csv:\n",
            "                               temp      dwpt      rhum  prcp  wspd      pres  \\\n",
            "time                                                                            \n",
            "2021-01-01 05:30:00+05:30  0.153846  0.207865  0.736264   0.0   0.0  0.797753   \n",
            "2021-01-01 06:30:00+05:30  0.137363  0.191011  0.736264   0.0   0.0  0.803371   \n",
            "2021-01-01 07:30:00+05:30  0.164835  0.219101  0.736264   0.0   0.0  0.831461   \n",
            "2021-01-01 08:30:00+05:30  0.225275  0.297753  0.769231   0.0   0.0  0.851124   \n",
            "2021-01-01 09:30:00+05:30  0.274725  0.308989  0.692308   0.0   0.0  0.887640   \n",
            "\n",
            "                           temp_lag1  rhum_lag1  wspd_lag1  wspd_lag2  \\\n",
            "time                                                                    \n",
            "2021-01-01 05:30:00+05:30   0.153846   0.736264        0.0        0.0   \n",
            "2021-01-01 06:30:00+05:30   0.153846   0.736264        0.0        0.0   \n",
            "2021-01-01 07:30:00+05:30   0.137363   0.736264        0.0        0.0   \n",
            "2021-01-01 08:30:00+05:30   0.164835   0.736264        0.0        0.0   \n",
            "2021-01-01 09:30:00+05:30   0.225275   0.769231        0.0        0.0   \n",
            "\n",
            "                           wspd_lag3  temp_roll_mean_3h  prcp_roll_sum_6h  \\\n",
            "time                                                                        \n",
            "2021-01-01 05:30:00+05:30        0.0           0.153846               0.0   \n",
            "2021-01-01 06:30:00+05:30        0.0           0.145604               0.0   \n",
            "2021-01-01 07:30:00+05:30        0.0           0.152015               0.0   \n",
            "2021-01-01 08:30:00+05:30        0.0           0.175824               0.0   \n",
            "2021-01-01 09:30:00+05:30        0.0           0.221612               0.0   \n",
            "\n",
            "                           hour  month  weekday  \n",
            "time                                             \n",
            "2021-01-01 05:30:00+05:30     5      1        4  \n",
            "2021-01-01 06:30:00+05:30     6      1        4  \n",
            "2021-01-01 07:30:00+05:30     7      1        4  \n",
            "2021-01-01 08:30:00+05:30     8      1        4  \n",
            "2021-01-01 09:30:00+05:30     9      1        4  \n",
            "Engineered Data Columns: ['temp', 'dwpt', 'rhum', 'prcp', 'wspd', 'pres', 'temp_lag1', 'rhum_lag1', 'wspd_lag1', 'wspd_lag2', 'wspd_lag3', 'temp_roll_mean_3h', 'prcp_roll_sum_6h', 'hour', 'month', 'weekday']\n",
            "Engineered Data Shape: (35041, 16)\n"
          ]
        },
        {
          "name": "stderr",
          "output_type": "stream",
          "text": [
            "<ipython-input-2-9772d4a5e8cf>:96: FutureWarning: DataFrame.fillna with 'method' is deprecated and will raise in a future version. Use obj.ffill() or obj.bfill() instead.\n",
            "  df_engineered = df_engineered.fillna(method='ffill').fillna(method='bfill')\n"
          ]
        },
        {
          "name": "stdout",
          "output_type": "stream",
          "text": [
            "Successfully engineered and saved data for: ranchi_hourly_weather_scaled.csv to Engineered_Data_Output/ranchi_hourly_weather_engineered.csv\n"
          ]
        },
        {
          "data": {
            "application/javascript": "\n    async function download(id, filename, size) {\n      if (!google.colab.kernel.accessAllowed) {\n        return;\n      }\n      const div = document.createElement('div');\n      const label = document.createElement('label');\n      label.textContent = `Downloading \"${filename}\": `;\n      div.appendChild(label);\n      const progress = document.createElement('progress');\n      progress.max = size;\n      div.appendChild(progress);\n      document.body.appendChild(div);\n\n      const buffers = [];\n      let downloaded = 0;\n\n      const channel = await google.colab.kernel.comms.open(id);\n      // Send a message to notify the kernel that we're ready.\n      channel.send({})\n\n      for await (const message of channel.messages) {\n        // Send a message to notify the kernel that we're ready.\n        channel.send({})\n        if (message.buffers) {\n          for (const buffer of message.buffers) {\n            buffers.push(buffer);\n            downloaded += buffer.byteLength;\n            progress.value = downloaded;\n          }\n        }\n      }\n      const blob = new Blob(buffers, {type: 'application/binary'});\n      const a = document.createElement('a');\n      a.href = window.URL.createObjectURL(blob);\n      a.download = filename;\n      div.appendChild(a);\n      a.click();\n      div.remove();\n    }\n  ",
            "text/plain": [
              "<IPython.core.display.Javascript object>"
            ]
          },
          "metadata": {},
          "output_type": "display_data"
        },
        {
          "data": {
            "application/javascript": "download(\"download_56317a2a-5a4d-4bc1-9c4a-8acbb151c9f1\", \"ranchi_hourly_weather_engineered.csv\", 8322839)",
            "text/plain": [
              "<IPython.core.display.Javascript object>"
            ]
          },
          "metadata": {},
          "output_type": "display_data"
        },
        {
          "name": "stdout",
          "output_type": "stream",
          "text": [
            "\n",
            "--- Processing shillong_hourly_weather_scaled.csv for Feature Engineering ---\n",
            "Loaded scaled data for shillong_hourly_weather_scaled.csv. Head:\n",
            "                               temp      dwpt      rhum  prcp  wspd      pres\n",
            "time                                                                         \n",
            "2021-01-01 08:30:00+05:30  0.435374  0.301075  0.149425   0.0   0.0  0.808307\n",
            "2021-01-01 09:30:00+05:30  0.454649  0.327957  0.174330   0.0   0.0  0.808307\n",
            "2021-01-01 10:30:00+05:30  0.473923  0.354839  0.199234   0.0   0.0  0.808307\n",
            "2021-01-01 11:30:00+05:30  0.493197  0.381720  0.224138   0.0   0.0  0.808307\n",
            "2021-01-01 12:30:00+05:30  0.512472  0.408602  0.249042   0.0   0.0  0.808307\n",
            "Engineered Data Sample for shillong_hourly_weather_scaled.csv:\n",
            "                               temp      dwpt      rhum  prcp  wspd      pres  \\\n",
            "time                                                                            \n",
            "2021-01-01 08:30:00+05:30  0.435374  0.301075  0.149425   0.0   0.0  0.808307   \n",
            "2021-01-01 09:30:00+05:30  0.454649  0.327957  0.174330   0.0   0.0  0.808307   \n",
            "2021-01-01 10:30:00+05:30  0.473923  0.354839  0.199234   0.0   0.0  0.808307   \n",
            "2021-01-01 11:30:00+05:30  0.493197  0.381720  0.224138   0.0   0.0  0.808307   \n",
            "2021-01-01 12:30:00+05:30  0.512472  0.408602  0.249042   0.0   0.0  0.808307   \n",
            "\n",
            "                           temp_lag1  rhum_lag1  wspd_lag1  wspd_lag2  \\\n",
            "time                                                                    \n",
            "2021-01-01 08:30:00+05:30   0.435374   0.149425        0.0        0.0   \n",
            "2021-01-01 09:30:00+05:30   0.435374   0.149425        0.0        0.0   \n",
            "2021-01-01 10:30:00+05:30   0.454649   0.174330        0.0        0.0   \n",
            "2021-01-01 11:30:00+05:30   0.473923   0.199234        0.0        0.0   \n",
            "2021-01-01 12:30:00+05:30   0.493197   0.224138        0.0        0.0   \n",
            "\n",
            "                           wspd_lag3  temp_roll_mean_3h  prcp_roll_sum_6h  \\\n",
            "time                                                                        \n",
            "2021-01-01 08:30:00+05:30        0.0           0.435374               0.0   \n",
            "2021-01-01 09:30:00+05:30        0.0           0.445011               0.0   \n",
            "2021-01-01 10:30:00+05:30        0.0           0.454649               0.0   \n",
            "2021-01-01 11:30:00+05:30        0.0           0.473923               0.0   \n",
            "2021-01-01 12:30:00+05:30        0.0           0.493197               0.0   \n",
            "\n",
            "                           hour  month  weekday  \n",
            "time                                             \n",
            "2021-01-01 08:30:00+05:30     8      1        4  \n",
            "2021-01-01 09:30:00+05:30     9      1        4  \n",
            "2021-01-01 10:30:00+05:30    10      1        4  \n",
            "2021-01-01 11:30:00+05:30    11      1        4  \n",
            "2021-01-01 12:30:00+05:30    12      1        4  \n",
            "Engineered Data Columns: ['temp', 'dwpt', 'rhum', 'prcp', 'wspd', 'pres', 'temp_lag1', 'rhum_lag1', 'wspd_lag1', 'wspd_lag2', 'wspd_lag3', 'temp_roll_mean_3h', 'prcp_roll_sum_6h', 'hour', 'month', 'weekday']\n",
            "Engineered Data Shape: (35038, 16)\n"
          ]
        },
        {
          "name": "stderr",
          "output_type": "stream",
          "text": [
            "<ipython-input-2-9772d4a5e8cf>:96: FutureWarning: DataFrame.fillna with 'method' is deprecated and will raise in a future version. Use obj.ffill() or obj.bfill() instead.\n",
            "  df_engineered = df_engineered.fillna(method='ffill').fillna(method='bfill')\n"
          ]
        },
        {
          "name": "stdout",
          "output_type": "stream",
          "text": [
            "Successfully engineered and saved data for: shillong_hourly_weather_scaled.csv to Engineered_Data_Output/shillong_hourly_weather_engineered.csv\n"
          ]
        },
        {
          "data": {
            "application/javascript": "\n    async function download(id, filename, size) {\n      if (!google.colab.kernel.accessAllowed) {\n        return;\n      }\n      const div = document.createElement('div');\n      const label = document.createElement('label');\n      label.textContent = `Downloading \"${filename}\": `;\n      div.appendChild(label);\n      const progress = document.createElement('progress');\n      progress.max = size;\n      div.appendChild(progress);\n      document.body.appendChild(div);\n\n      const buffers = [];\n      let downloaded = 0;\n\n      const channel = await google.colab.kernel.comms.open(id);\n      // Send a message to notify the kernel that we're ready.\n      channel.send({})\n\n      for await (const message of channel.messages) {\n        // Send a message to notify the kernel that we're ready.\n        channel.send({})\n        if (message.buffers) {\n          for (const buffer of message.buffers) {\n            buffers.push(buffer);\n            downloaded += buffer.byteLength;\n            progress.value = downloaded;\n          }\n        }\n      }\n      const blob = new Blob(buffers, {type: 'application/binary'});\n      const a = document.createElement('a');\n      a.href = window.URL.createObjectURL(blob);\n      a.download = filename;\n      div.appendChild(a);\n      a.click();\n      div.remove();\n    }\n  ",
            "text/plain": [
              "<IPython.core.display.Javascript object>"
            ]
          },
          "metadata": {},
          "output_type": "display_data"
        },
        {
          "data": {
            "application/javascript": "download(\"download_50f06d38-3e89-4956-8677-4753c89cb7c4\", \"shillong_hourly_weather_engineered.csv\", 8718378)",
            "text/plain": [
              "<IPython.core.display.Javascript object>"
            ]
          },
          "metadata": {},
          "output_type": "display_data"
        },
        {
          "name": "stdout",
          "output_type": "stream",
          "text": [
            "\n",
            "--- Processing shimla_hourly_weather_scaled.csv for Feature Engineering ---\n",
            "Loaded scaled data for shimla_hourly_weather_scaled.csv. Head:\n",
            "                               temp      dwpt      rhum  prcp  wspd      pres\n",
            "time                                                                         \n",
            "2021-01-01 08:30:00+05:30  0.464853  0.263158  0.173913   0.0   0.0  0.738676\n",
            "2021-01-01 09:30:00+05:30  0.498110  0.305873  0.195652   0.0   0.0  0.738676\n",
            "2021-01-01 10:30:00+05:30  0.531368  0.348589  0.217391   0.0   0.0  0.738676\n",
            "2021-01-01 11:30:00+05:30  0.564626  0.391304  0.239130   0.0   0.0  0.738676\n",
            "2021-01-01 12:30:00+05:30  0.584278  0.409611  0.235507   0.0   0.0  0.738676\n",
            "Engineered Data Sample for shimla_hourly_weather_scaled.csv:\n",
            "                               temp      dwpt      rhum  prcp  wspd      pres  \\\n",
            "time                                                                            \n",
            "2021-01-01 08:30:00+05:30  0.464853  0.263158  0.173913   0.0   0.0  0.738676   \n",
            "2021-01-01 09:30:00+05:30  0.498110  0.305873  0.195652   0.0   0.0  0.738676   \n",
            "2021-01-01 10:30:00+05:30  0.531368  0.348589  0.217391   0.0   0.0  0.738676   \n",
            "2021-01-01 11:30:00+05:30  0.564626  0.391304  0.239130   0.0   0.0  0.738676   \n",
            "2021-01-01 12:30:00+05:30  0.584278  0.409611  0.235507   0.0   0.0  0.738676   \n",
            "\n",
            "                           temp_lag1  rhum_lag1  wspd_lag1  wspd_lag2  \\\n",
            "time                                                                    \n",
            "2021-01-01 08:30:00+05:30   0.464853   0.173913        0.0        0.0   \n",
            "2021-01-01 09:30:00+05:30   0.464853   0.173913        0.0        0.0   \n",
            "2021-01-01 10:30:00+05:30   0.498110   0.195652        0.0        0.0   \n",
            "2021-01-01 11:30:00+05:30   0.531368   0.217391        0.0        0.0   \n",
            "2021-01-01 12:30:00+05:30   0.564626   0.239130        0.0        0.0   \n",
            "\n",
            "                           wspd_lag3  temp_roll_mean_3h  prcp_roll_sum_6h  \\\n",
            "time                                                                        \n",
            "2021-01-01 08:30:00+05:30        0.0           0.464853               0.0   \n",
            "2021-01-01 09:30:00+05:30        0.0           0.481481               0.0   \n",
            "2021-01-01 10:30:00+05:30        0.0           0.498110               0.0   \n",
            "2021-01-01 11:30:00+05:30        0.0           0.531368               0.0   \n",
            "2021-01-01 12:30:00+05:30        0.0           0.560091               0.0   \n",
            "\n",
            "                           hour  month  weekday  \n",
            "time                                             \n",
            "2021-01-01 08:30:00+05:30     8      1        4  \n",
            "2021-01-01 09:30:00+05:30     9      1        4  \n",
            "2021-01-01 10:30:00+05:30    10      1        4  \n",
            "2021-01-01 11:30:00+05:30    11      1        4  \n",
            "2021-01-01 12:30:00+05:30    12      1        4  \n",
            "Engineered Data Columns: ['temp', 'dwpt', 'rhum', 'prcp', 'wspd', 'pres', 'temp_lag1', 'rhum_lag1', 'wspd_lag1', 'wspd_lag2', 'wspd_lag3', 'temp_roll_mean_3h', 'prcp_roll_sum_6h', 'hour', 'month', 'weekday']\n",
            "Engineered Data Shape: (35038, 16)\n"
          ]
        },
        {
          "name": "stderr",
          "output_type": "stream",
          "text": [
            "<ipython-input-2-9772d4a5e8cf>:96: FutureWarning: DataFrame.fillna with 'method' is deprecated and will raise in a future version. Use obj.ffill() or obj.bfill() instead.\n",
            "  df_engineered = df_engineered.fillna(method='ffill').fillna(method='bfill')\n"
          ]
        },
        {
          "name": "stdout",
          "output_type": "stream",
          "text": [
            "Successfully engineered and saved data for: shimla_hourly_weather_scaled.csv to Engineered_Data_Output/shimla_hourly_weather_engineered.csv\n"
          ]
        },
        {
          "data": {
            "application/javascript": "\n    async function download(id, filename, size) {\n      if (!google.colab.kernel.accessAllowed) {\n        return;\n      }\n      const div = document.createElement('div');\n      const label = document.createElement('label');\n      label.textContent = `Downloading \"${filename}\": `;\n      div.appendChild(label);\n      const progress = document.createElement('progress');\n      progress.max = size;\n      div.appendChild(progress);\n      document.body.appendChild(div);\n\n      const buffers = [];\n      let downloaded = 0;\n\n      const channel = await google.colab.kernel.comms.open(id);\n      // Send a message to notify the kernel that we're ready.\n      channel.send({})\n\n      for await (const message of channel.messages) {\n        // Send a message to notify the kernel that we're ready.\n        channel.send({})\n        if (message.buffers) {\n          for (const buffer of message.buffers) {\n            buffers.push(buffer);\n            downloaded += buffer.byteLength;\n            progress.value = downloaded;\n          }\n        }\n      }\n      const blob = new Blob(buffers, {type: 'application/binary'});\n      const a = document.createElement('a');\n      a.href = window.URL.createObjectURL(blob);\n      a.download = filename;\n      div.appendChild(a);\n      a.click();\n      div.remove();\n    }\n  ",
            "text/plain": [
              "<IPython.core.display.Javascript object>"
            ]
          },
          "metadata": {},
          "output_type": "display_data"
        },
        {
          "data": {
            "application/javascript": "download(\"download_aac8c974-dd37-4b12-8ffd-3454741b90c8\", \"shimla_hourly_weather_engineered.csv\", 8648837)",
            "text/plain": [
              "<IPython.core.display.Javascript object>"
            ]
          },
          "metadata": {},
          "output_type": "display_data"
        },
        {
          "name": "stdout",
          "output_type": "stream",
          "text": [
            "\n",
            "--- Processing siliguri_hourly_weather_scaled.csv for Feature Engineering ---\n",
            "Loaded scaled data for siliguri_hourly_weather_scaled.csv. Head:\n",
            "                               temp      dwpt      rhum  prcp      wspd  \\\n",
            "time                                                                      \n",
            "2021-01-01 08:30:00+05:30  0.299363  0.318182  0.647727   0.0  0.021596   \n",
            "2021-01-01 09:30:00+05:30  0.299363  0.316628  0.645202   0.0  0.019196   \n",
            "2021-01-01 10:30:00+05:30  0.299363  0.315074  0.642677   0.0  0.016797   \n",
            "2021-01-01 11:30:00+05:30  0.299363  0.313520  0.640152   0.0  0.014397   \n",
            "2021-01-01 12:30:00+05:30  0.299363  0.311966  0.637626   0.0  0.011998   \n",
            "\n",
            "                               pres  \n",
            "time                                 \n",
            "2021-01-01 08:30:00+05:30  0.863924  \n",
            "2021-01-01 09:30:00+05:30  0.848453  \n",
            "2021-01-01 10:30:00+05:30  0.832982  \n",
            "2021-01-01 11:30:00+05:30  0.817511  \n",
            "2021-01-01 12:30:00+05:30  0.802039  \n",
            "Engineered Data Sample for siliguri_hourly_weather_scaled.csv:\n",
            "                               temp      dwpt      rhum  prcp      wspd  \\\n",
            "time                                                                      \n",
            "2021-01-01 08:30:00+05:30  0.299363  0.318182  0.647727   0.0  0.021596   \n",
            "2021-01-01 09:30:00+05:30  0.299363  0.316628  0.645202   0.0  0.019196   \n",
            "2021-01-01 10:30:00+05:30  0.299363  0.315074  0.642677   0.0  0.016797   \n",
            "2021-01-01 11:30:00+05:30  0.299363  0.313520  0.640152   0.0  0.014397   \n",
            "2021-01-01 12:30:00+05:30  0.299363  0.311966  0.637626   0.0  0.011998   \n",
            "\n",
            "                               pres  temp_lag1  rhum_lag1  wspd_lag1  \\\n",
            "time                                                                   \n",
            "2021-01-01 08:30:00+05:30  0.863924   0.299363   0.647727   0.021596   \n",
            "2021-01-01 09:30:00+05:30  0.848453   0.299363   0.647727   0.021596   \n",
            "2021-01-01 10:30:00+05:30  0.832982   0.299363   0.645202   0.019196   \n",
            "2021-01-01 11:30:00+05:30  0.817511   0.299363   0.642677   0.016797   \n",
            "2021-01-01 12:30:00+05:30  0.802039   0.299363   0.640152   0.014397   \n",
            "\n",
            "                           wspd_lag2  wspd_lag3  temp_roll_mean_3h  \\\n",
            "time                                                                 \n",
            "2021-01-01 08:30:00+05:30   0.021596   0.021596           0.299363   \n",
            "2021-01-01 09:30:00+05:30   0.021596   0.021596           0.299363   \n",
            "2021-01-01 10:30:00+05:30   0.021596   0.021596           0.299363   \n",
            "2021-01-01 11:30:00+05:30   0.019196   0.021596           0.299363   \n",
            "2021-01-01 12:30:00+05:30   0.016797   0.019196           0.299363   \n",
            "\n",
            "                           prcp_roll_sum_6h  hour  month  weekday  \n",
            "time                                                               \n",
            "2021-01-01 08:30:00+05:30               0.0     8      1        4  \n",
            "2021-01-01 09:30:00+05:30               0.0     9      1        4  \n",
            "2021-01-01 10:30:00+05:30               0.0    10      1        4  \n",
            "2021-01-01 11:30:00+05:30               0.0    11      1        4  \n",
            "2021-01-01 12:30:00+05:30               0.0    12      1        4  \n",
            "Engineered Data Columns: ['temp', 'dwpt', 'rhum', 'prcp', 'wspd', 'pres', 'temp_lag1', 'rhum_lag1', 'wspd_lag1', 'wspd_lag2', 'wspd_lag3', 'temp_roll_mean_3h', 'prcp_roll_sum_6h', 'hour', 'month', 'weekday']\n",
            "Engineered Data Shape: (35038, 16)\n"
          ]
        },
        {
          "name": "stderr",
          "output_type": "stream",
          "text": [
            "<ipython-input-2-9772d4a5e8cf>:96: FutureWarning: DataFrame.fillna with 'method' is deprecated and will raise in a future version. Use obj.ffill() or obj.bfill() instead.\n",
            "  df_engineered = df_engineered.fillna(method='ffill').fillna(method='bfill')\n"
          ]
        },
        {
          "name": "stdout",
          "output_type": "stream",
          "text": [
            "Successfully engineered and saved data for: siliguri_hourly_weather_scaled.csv to Engineered_Data_Output/siliguri_hourly_weather_engineered.csv\n"
          ]
        },
        {
          "data": {
            "application/javascript": "\n    async function download(id, filename, size) {\n      if (!google.colab.kernel.accessAllowed) {\n        return;\n      }\n      const div = document.createElement('div');\n      const label = document.createElement('label');\n      label.textContent = `Downloading \"${filename}\": `;\n      div.appendChild(label);\n      const progress = document.createElement('progress');\n      progress.max = size;\n      div.appendChild(progress);\n      document.body.appendChild(div);\n\n      const buffers = [];\n      let downloaded = 0;\n\n      const channel = await google.colab.kernel.comms.open(id);\n      // Send a message to notify the kernel that we're ready.\n      channel.send({})\n\n      for await (const message of channel.messages) {\n        // Send a message to notify the kernel that we're ready.\n        channel.send({})\n        if (message.buffers) {\n          for (const buffer of message.buffers) {\n            buffers.push(buffer);\n            downloaded += buffer.byteLength;\n            progress.value = downloaded;\n          }\n        }\n      }\n      const blob = new Blob(buffers, {type: 'application/binary'});\n      const a = document.createElement('a');\n      a.href = window.URL.createObjectURL(blob);\n      a.download = filename;\n      div.appendChild(a);\n      a.click();\n      div.remove();\n    }\n  ",
            "text/plain": [
              "<IPython.core.display.Javascript object>"
            ]
          },
          "metadata": {},
          "output_type": "display_data"
        },
        {
          "data": {
            "application/javascript": "download(\"download_fa2a75b4-7da7-4540-a4da-cc59e2568287\", \"siliguri_hourly_weather_engineered.csv\", 8997228)",
            "text/plain": [
              "<IPython.core.display.Javascript object>"
            ]
          },
          "metadata": {},
          "output_type": "display_data"
        },
        {
          "name": "stdout",
          "output_type": "stream",
          "text": [
            "\n",
            "--- Processing thiruvananthapuram_hourly_weather_scaled.csv for Feature Engineering ---\n",
            "Loaded scaled data for thiruvananthapuram_hourly_weather_scaled.csv. Head:\n",
            "                               temp      dwpt  rhum      prcp   wspd      pres\n",
            "time                                                                          \n",
            "2021-01-01 05:30:00+05:30  0.300752  0.759615  0.89  0.024793  0.000  0.467836\n",
            "2021-01-01 06:30:00+05:30  0.300752  0.759615  0.89  0.024793  0.045  0.467836\n",
            "2021-01-01 07:30:00+05:30  0.300752  0.759615  0.89  0.024793  0.045  0.526316\n",
            "2021-01-01 08:30:00+05:30  0.406015  0.673077  0.73  0.024793  0.045  0.608187\n",
            "2021-01-01 09:30:00+05:30  0.601504  0.663462  0.59  0.024793  0.045  0.643275\n",
            "Engineered Data Sample for thiruvananthapuram_hourly_weather_scaled.csv:\n",
            "                               temp      dwpt  rhum      prcp   wspd  \\\n",
            "time                                                                   \n",
            "2021-01-01 05:30:00+05:30  0.300752  0.759615  0.89  0.024793  0.000   \n",
            "2021-01-01 06:30:00+05:30  0.300752  0.759615  0.89  0.024793  0.045   \n",
            "2021-01-01 07:30:00+05:30  0.300752  0.759615  0.89  0.024793  0.045   \n",
            "2021-01-01 08:30:00+05:30  0.406015  0.673077  0.73  0.024793  0.045   \n",
            "2021-01-01 09:30:00+05:30  0.601504  0.663462  0.59  0.024793  0.045   \n",
            "\n",
            "                               pres  temp_lag1  rhum_lag1  wspd_lag1  \\\n",
            "time                                                                   \n",
            "2021-01-01 05:30:00+05:30  0.467836   0.300752       0.89      0.000   \n",
            "2021-01-01 06:30:00+05:30  0.467836   0.300752       0.89      0.000   \n",
            "2021-01-01 07:30:00+05:30  0.526316   0.300752       0.89      0.045   \n",
            "2021-01-01 08:30:00+05:30  0.608187   0.300752       0.89      0.045   \n",
            "2021-01-01 09:30:00+05:30  0.643275   0.406015       0.73      0.045   \n",
            "\n",
            "                           wspd_lag2  wspd_lag3  temp_roll_mean_3h  \\\n",
            "time                                                                 \n",
            "2021-01-01 05:30:00+05:30      0.000      0.000           0.300752   \n",
            "2021-01-01 06:30:00+05:30      0.000      0.000           0.300752   \n",
            "2021-01-01 07:30:00+05:30      0.000      0.000           0.300752   \n",
            "2021-01-01 08:30:00+05:30      0.045      0.000           0.335840   \n",
            "2021-01-01 09:30:00+05:30      0.045      0.045           0.436090   \n",
            "\n",
            "                           prcp_roll_sum_6h  hour  month  weekday  \n",
            "time                                                               \n",
            "2021-01-01 05:30:00+05:30          0.024793     5      1        4  \n",
            "2021-01-01 06:30:00+05:30          0.049587     6      1        4  \n",
            "2021-01-01 07:30:00+05:30          0.074380     7      1        4  \n",
            "2021-01-01 08:30:00+05:30          0.099174     8      1        4  \n",
            "2021-01-01 09:30:00+05:30          0.123967     9      1        4  \n",
            "Engineered Data Columns: ['temp', 'dwpt', 'rhum', 'prcp', 'wspd', 'pres', 'temp_lag1', 'rhum_lag1', 'wspd_lag1', 'wspd_lag2', 'wspd_lag3', 'temp_roll_mean_3h', 'prcp_roll_sum_6h', 'hour', 'month', 'weekday']\n",
            "Engineered Data Shape: (35041, 16)\n"
          ]
        },
        {
          "name": "stderr",
          "output_type": "stream",
          "text": [
            "<ipython-input-2-9772d4a5e8cf>:96: FutureWarning: DataFrame.fillna with 'method' is deprecated and will raise in a future version. Use obj.ffill() or obj.bfill() instead.\n",
            "  df_engineered = df_engineered.fillna(method='ffill').fillna(method='bfill')\n"
          ]
        },
        {
          "name": "stdout",
          "output_type": "stream",
          "text": [
            "Successfully engineered and saved data for: thiruvananthapuram_hourly_weather_scaled.csv to Engineered_Data_Output/thiruvananthapuram_hourly_weather_engineered.csv\n"
          ]
        },
        {
          "data": {
            "application/javascript": "\n    async function download(id, filename, size) {\n      if (!google.colab.kernel.accessAllowed) {\n        return;\n      }\n      const div = document.createElement('div');\n      const label = document.createElement('label');\n      label.textContent = `Downloading \"${filename}\": `;\n      div.appendChild(label);\n      const progress = document.createElement('progress');\n      progress.max = size;\n      div.appendChild(progress);\n      document.body.appendChild(div);\n\n      const buffers = [];\n      let downloaded = 0;\n\n      const channel = await google.colab.kernel.comms.open(id);\n      // Send a message to notify the kernel that we're ready.\n      channel.send({})\n\n      for await (const message of channel.messages) {\n        // Send a message to notify the kernel that we're ready.\n        channel.send({})\n        if (message.buffers) {\n          for (const buffer of message.buffers) {\n            buffers.push(buffer);\n            downloaded += buffer.byteLength;\n            progress.value = downloaded;\n          }\n        }\n      }\n      const blob = new Blob(buffers, {type: 'application/binary'});\n      const a = document.createElement('a');\n      a.href = window.URL.createObjectURL(blob);\n      a.download = filename;\n      div.appendChild(a);\n      a.click();\n      div.remove();\n    }\n  ",
            "text/plain": [
              "<IPython.core.display.Javascript object>"
            ]
          },
          "metadata": {},
          "output_type": "display_data"
        },
        {
          "data": {
            "application/javascript": "download(\"download_768b1627-9395-41fe-84b3-c4c28de0abdd\", \"thiruvananthapuram_hourly_weather_engineered.csv\", 6974242)",
            "text/plain": [
              "<IPython.core.display.Javascript object>"
            ]
          },
          "metadata": {},
          "output_type": "display_data"
        },
        {
          "name": "stdout",
          "output_type": "stream",
          "text": [
            "\n",
            "--- Processing vadodara_hourly_weather_scaled.csv for Feature Engineering ---\n",
            "Loaded scaled data for vadodara_hourly_weather_scaled.csv. Head:\n",
            "                               temp      dwpt  rhum  prcp      wspd      pres\n",
            "time                                                                         \n",
            "2021-01-01 05:30:00+05:30  0.285714  0.485981  0.80   0.0  0.063866  0.373770\n",
            "2021-01-01 06:30:00+05:30  0.285714  0.495327  0.82   0.0  0.092437  0.377049\n",
            "2021-01-01 07:30:00+05:30  0.309524  0.495327  0.77   0.0  0.075630  0.377049\n",
            "2021-01-01 08:30:00+05:30  0.333333  0.490654  0.71   0.0  0.063866  0.390164\n",
            "2021-01-01 09:30:00+05:30  0.380952  0.504673  0.64   0.0  0.058824  0.393443\n",
            "Engineered Data Sample for vadodara_hourly_weather_scaled.csv:\n",
            "                               temp      dwpt  rhum  prcp      wspd      pres  \\\n",
            "time                                                                            \n",
            "2021-01-01 05:30:00+05:30  0.285714  0.485981  0.80   0.0  0.063866  0.373770   \n",
            "2021-01-01 06:30:00+05:30  0.285714  0.495327  0.82   0.0  0.092437  0.377049   \n",
            "2021-01-01 07:30:00+05:30  0.309524  0.495327  0.77   0.0  0.075630  0.377049   \n",
            "2021-01-01 08:30:00+05:30  0.333333  0.490654  0.71   0.0  0.063866  0.390164   \n",
            "2021-01-01 09:30:00+05:30  0.380952  0.504673  0.64   0.0  0.058824  0.393443   \n",
            "\n",
            "                           temp_lag1  rhum_lag1  wspd_lag1  wspd_lag2  \\\n",
            "time                                                                    \n",
            "2021-01-01 05:30:00+05:30   0.285714       0.80   0.063866   0.063866   \n",
            "2021-01-01 06:30:00+05:30   0.285714       0.80   0.063866   0.063866   \n",
            "2021-01-01 07:30:00+05:30   0.285714       0.82   0.092437   0.063866   \n",
            "2021-01-01 08:30:00+05:30   0.309524       0.77   0.075630   0.092437   \n",
            "2021-01-01 09:30:00+05:30   0.333333       0.71   0.063866   0.075630   \n",
            "\n",
            "                           wspd_lag3  temp_roll_mean_3h  prcp_roll_sum_6h  \\\n",
            "time                                                                        \n",
            "2021-01-01 05:30:00+05:30   0.063866           0.285714               0.0   \n",
            "2021-01-01 06:30:00+05:30   0.063866           0.285714               0.0   \n",
            "2021-01-01 07:30:00+05:30   0.063866           0.293651               0.0   \n",
            "2021-01-01 08:30:00+05:30   0.063866           0.309524               0.0   \n",
            "2021-01-01 09:30:00+05:30   0.092437           0.341270               0.0   \n",
            "\n",
            "                           hour  month  weekday  \n",
            "time                                             \n",
            "2021-01-01 05:30:00+05:30     5      1        4  \n",
            "2021-01-01 06:30:00+05:30     6      1        4  \n",
            "2021-01-01 07:30:00+05:30     7      1        4  \n",
            "2021-01-01 08:30:00+05:30     8      1        4  \n",
            "2021-01-01 09:30:00+05:30     9      1        4  \n",
            "Engineered Data Columns: ['temp', 'dwpt', 'rhum', 'prcp', 'wspd', 'pres', 'temp_lag1', 'rhum_lag1', 'wspd_lag1', 'wspd_lag2', 'wspd_lag3', 'temp_roll_mean_3h', 'prcp_roll_sum_6h', 'hour', 'month', 'weekday']\n",
            "Engineered Data Shape: (35041, 16)\n"
          ]
        },
        {
          "name": "stderr",
          "output_type": "stream",
          "text": [
            "<ipython-input-2-9772d4a5e8cf>:96: FutureWarning: DataFrame.fillna with 'method' is deprecated and will raise in a future version. Use obj.ffill() or obj.bfill() instead.\n",
            "  df_engineered = df_engineered.fillna(method='ffill').fillna(method='bfill')\n"
          ]
        },
        {
          "name": "stdout",
          "output_type": "stream",
          "text": [
            "Successfully engineered and saved data for: vadodara_hourly_weather_scaled.csv to Engineered_Data_Output/vadodara_hourly_weather_engineered.csv\n"
          ]
        },
        {
          "data": {
            "application/javascript": "\n    async function download(id, filename, size) {\n      if (!google.colab.kernel.accessAllowed) {\n        return;\n      }\n      const div = document.createElement('div');\n      const label = document.createElement('label');\n      label.textContent = `Downloading \"${filename}\": `;\n      div.appendChild(label);\n      const progress = document.createElement('progress');\n      progress.max = size;\n      div.appendChild(progress);\n      document.body.appendChild(div);\n\n      const buffers = [];\n      let downloaded = 0;\n\n      const channel = await google.colab.kernel.comms.open(id);\n      // Send a message to notify the kernel that we're ready.\n      channel.send({})\n\n      for await (const message of channel.messages) {\n        // Send a message to notify the kernel that we're ready.\n        channel.send({})\n        if (message.buffers) {\n          for (const buffer of message.buffers) {\n            buffers.push(buffer);\n            downloaded += buffer.byteLength;\n            progress.value = downloaded;\n          }\n        }\n      }\n      const blob = new Blob(buffers, {type: 'application/binary'});\n      const a = document.createElement('a');\n      a.href = window.URL.createObjectURL(blob);\n      a.download = filename;\n      div.appendChild(a);\n      a.click();\n      div.remove();\n    }\n  ",
            "text/plain": [
              "<IPython.core.display.Javascript object>"
            ]
          },
          "metadata": {},
          "output_type": "display_data"
        },
        {
          "data": {
            "application/javascript": "download(\"download_cf324c67-c74f-4aa4-a02f-64dcfc9f52ba\", \"vadodara_hourly_weather_engineered.csv\", 7915184)",
            "text/plain": [
              "<IPython.core.display.Javascript object>"
            ]
          },
          "metadata": {},
          "output_type": "display_data"
        },
        {
          "name": "stdout",
          "output_type": "stream",
          "text": [
            "\n",
            "--- Processing visakhapatnam_hourly_weather_scaled.csv for Feature Engineering ---\n",
            "Loaded scaled data for visakhapatnam_hourly_weather_scaled.csv. Head:\n",
            "                               temp      dwpt  rhum  prcp      wspd      pres\n",
            "time                                                                         \n",
            "2021-01-01 05:30:00+05:30  0.357488  0.490683  0.88   0.0  0.020000  0.819444\n",
            "2021-01-01 06:30:00+05:30  0.362319  0.496894  0.88   0.0  0.020000  0.833333\n",
            "2021-01-01 07:30:00+05:30  0.410628  0.527950  0.83   0.0  0.020000  0.861111\n",
            "2021-01-01 08:30:00+05:30  0.468599  0.559006  0.76   0.0  0.020000  0.905556\n",
            "2021-01-01 09:30:00+05:30  0.531401  0.546584  0.61   0.0  0.062222  0.888889\n",
            "Engineered Data Sample for visakhapatnam_hourly_weather_scaled.csv:\n",
            "                               temp      dwpt  rhum  prcp      wspd      pres  \\\n",
            "time                                                                            \n",
            "2021-01-01 05:30:00+05:30  0.357488  0.490683  0.88   0.0  0.020000  0.819444   \n",
            "2021-01-01 06:30:00+05:30  0.362319  0.496894  0.88   0.0  0.020000  0.833333   \n",
            "2021-01-01 07:30:00+05:30  0.410628  0.527950  0.83   0.0  0.020000  0.861111   \n",
            "2021-01-01 08:30:00+05:30  0.468599  0.559006  0.76   0.0  0.020000  0.905556   \n",
            "2021-01-01 09:30:00+05:30  0.531401  0.546584  0.61   0.0  0.062222  0.888889   \n",
            "\n",
            "                           temp_lag1  rhum_lag1  wspd_lag1  wspd_lag2  \\\n",
            "time                                                                    \n",
            "2021-01-01 05:30:00+05:30   0.357488       0.88       0.02       0.02   \n",
            "2021-01-01 06:30:00+05:30   0.357488       0.88       0.02       0.02   \n",
            "2021-01-01 07:30:00+05:30   0.362319       0.88       0.02       0.02   \n",
            "2021-01-01 08:30:00+05:30   0.410628       0.83       0.02       0.02   \n",
            "2021-01-01 09:30:00+05:30   0.468599       0.76       0.02       0.02   \n",
            "\n",
            "                           wspd_lag3  temp_roll_mean_3h  prcp_roll_sum_6h  \\\n",
            "time                                                                        \n",
            "2021-01-01 05:30:00+05:30       0.02           0.357488               0.0   \n",
            "2021-01-01 06:30:00+05:30       0.02           0.359903               0.0   \n",
            "2021-01-01 07:30:00+05:30       0.02           0.376812               0.0   \n",
            "2021-01-01 08:30:00+05:30       0.02           0.413849               0.0   \n",
            "2021-01-01 09:30:00+05:30       0.02           0.470209               0.0   \n",
            "\n",
            "                           hour  month  weekday  \n",
            "time                                             \n",
            "2021-01-01 05:30:00+05:30     5      1        4  \n",
            "2021-01-01 06:30:00+05:30     6      1        4  \n",
            "2021-01-01 07:30:00+05:30     7      1        4  \n",
            "2021-01-01 08:30:00+05:30     8      1        4  \n",
            "2021-01-01 09:30:00+05:30     9      1        4  \n",
            "Engineered Data Columns: ['temp', 'dwpt', 'rhum', 'prcp', 'wspd', 'pres', 'temp_lag1', 'rhum_lag1', 'wspd_lag1', 'wspd_lag2', 'wspd_lag3', 'temp_roll_mean_3h', 'prcp_roll_sum_6h', 'hour', 'month', 'weekday']\n",
            "Engineered Data Shape: (35041, 16)\n"
          ]
        },
        {
          "name": "stderr",
          "output_type": "stream",
          "text": [
            "<ipython-input-2-9772d4a5e8cf>:96: FutureWarning: DataFrame.fillna with 'method' is deprecated and will raise in a future version. Use obj.ffill() or obj.bfill() instead.\n",
            "  df_engineered = df_engineered.fillna(method='ffill').fillna(method='bfill')\n"
          ]
        },
        {
          "name": "stdout",
          "output_type": "stream",
          "text": [
            "Successfully engineered and saved data for: visakhapatnam_hourly_weather_scaled.csv to Engineered_Data_Output/visakhapatnam_hourly_weather_engineered.csv\n"
          ]
        },
        {
          "data": {
            "application/javascript": "\n    async function download(id, filename, size) {\n      if (!google.colab.kernel.accessAllowed) {\n        return;\n      }\n      const div = document.createElement('div');\n      const label = document.createElement('label');\n      label.textContent = `Downloading \"${filename}\": `;\n      div.appendChild(label);\n      const progress = document.createElement('progress');\n      progress.max = size;\n      div.appendChild(progress);\n      document.body.appendChild(div);\n\n      const buffers = [];\n      let downloaded = 0;\n\n      const channel = await google.colab.kernel.comms.open(id);\n      // Send a message to notify the kernel that we're ready.\n      channel.send({})\n\n      for await (const message of channel.messages) {\n        // Send a message to notify the kernel that we're ready.\n        channel.send({})\n        if (message.buffers) {\n          for (const buffer of message.buffers) {\n            buffers.push(buffer);\n            downloaded += buffer.byteLength;\n            progress.value = downloaded;\n          }\n        }\n      }\n      const blob = new Blob(buffers, {type: 'application/binary'});\n      const a = document.createElement('a');\n      a.href = window.URL.createObjectURL(blob);\n      a.download = filename;\n      div.appendChild(a);\n      a.click();\n      div.remove();\n    }\n  ",
            "text/plain": [
              "<IPython.core.display.Javascript object>"
            ]
          },
          "metadata": {},
          "output_type": "display_data"
        },
        {
          "data": {
            "application/javascript": "download(\"download_3d30e488-aaa4-4bec-91a1-3f453900869d\", \"visakhapatnam_hourly_weather_engineered.csv\", 7260403)",
            "text/plain": [
              "<IPython.core.display.Javascript object>"
            ]
          },
          "metadata": {},
          "output_type": "display_data"
        },
        {
          "name": "stdout",
          "output_type": "stream",
          "text": [
            "\n",
            "--- All specified scaled files processed for feature engineering. ---\n"
          ]
        }
      ],
      "source": [
        "\"\"\"Feature Engineering for Scaled Weather Data (Direct Upload).ipynb\n",
        "\n",
        "Automatically generated by Colab.\n",
        "\"\"\"\n",
        "\n",
        "import pandas as pd\n",
        "import numpy as np\n",
        "import os\n",
        "# No need to import google.colab.drive as we are not mounting Drive\n",
        "from google.colab import files # For downloading files\n",
        "\n",
        "# IMPORTANT: If you are directly uploading your files to the Colab session,\n",
        "# no need to mount Google Drive. The files will be accessible directly.\n",
        "\n",
        "# 📁 Input Directory: Set to empty string \"\" or \".\" if files are uploaded directly\n",
        "# to the root of your Colab session.\n",
        "input_data_dir = \"\" # <--- MODIFIED: Assumes files are in the current working directory\n",
        "\n",
        "# 📂 Output Directory: Where the new _engineered.csv files will be saved\n",
        "# This directory will be created within your temporary Colab session storage.\n",
        "output_data_dir = \"Engineered_Data_Output/\"\n",
        "\n",
        "# Create the output directory if it doesn't exist\n",
        "if not os.path.exists(output_data_dir):\n",
        "    os.makedirs(output_data_dir)\n",
        "    print(f\"Created output directory: {output_data_dir}\")\n",
        "\n",
        "# 📄 List of scaled city filenames to be engineered\n",
        "# Corrected list based on your input, assuming underscores for 'hourly_weather'\n",
        "# and correct extensions/formatting.\n",
        "scaled_filenames = [\n",
        "    \"ahmedabad_hourly_weather_scaled.csv\",\n",
        "    \"bengaluru_hourly_weather_scaled.csv\",\n",
        "    \"bhopal_hourly_weather_scaled.csv\",\n",
        "    \"bhubaneswar_hourly_weather_scaled.csv\",\n",
        "    \"bikaner_hourly_weather_scaled.csv\",\n",
        "    \"chandigarh_hourly_weather_scaled.csv\",\n",
        "    \"chennai_hourly_weather_scaled.csv\",\n",
        "    \"coimbatore_hourly_weather_scaled.csv\",\n",
        "    \"dehradun_hourly_weather_scaled.csv\",\n",
        "    \"guwahati_hourly_weather_scaled.csv\",\n",
        "    \"hyderabad_hourly_weather_scaled.csv\",\n",
        "    \"imphal_hourly_weather_scaled.csv\",\n",
        "    \"jaipur_hourly_weather_scaled.csv\",\n",
        "    \"jaisalmer_hourly_weather_scaled.csv\",\n",
        "    \"kochi_hourly_weather_scaled.csv\",\n",
        "    \"kolkata_hourly_weather_scaled.csv\",\n",
        "    \"lucknow_hourly_weather_scaled.csv\", # Corrected from |\n",
        "    \"mumbai_hourly_weather_scaled.csv\",\n",
        "    \"mysuru_hourly_weather_scaled.csv\",\n",
        "    \"nagpur_hourly_weather_scaled.csv\",\n",
        "    \"nashik_hourly_weather_scaled.csv\",\n",
        "    \"new_delhi_hourly_weather_scaled.csv\",\n",
        "    \"ooty_hourly_weather_scaled.csv\",\n",
        "    \"patna_hourly_weather_scaled.csv\",\n",
        "    \"port_blair_hourly_weather_scaled.csv\",\n",
        "    \"pune_hourly_weather_scaled.csv\",\n",
        "    \"ranchi_hourly_weather_scaled.csv\",\n",
        "    \"shillong_hourly_weather_scaled.csv\",\n",
        "    \"shimla_hourly_weather_scaled.csv\", # Corrected: space replaced with underscore\n",
        "    \"siliguri_hourly_weather_scaled.csv\", # Corrected: removed 'x'\n",
        "    \"surat_hourly_weather_scaled.csv\",\n",
        "    \"thiruvananthapuram_hourly_weather_scaled.csv\", # Corrected: .cvs to .csv\n",
        "    \"vadodara_hourly_weather_scaled.csv\",\n",
        "    \"amini_island_hourly_weather_scaled.csv\",\n",
        "    \"visakhapatnam_hourly_weather_scaled.csv\"\n",
        "]\n",
        "\n",
        "# --- Feature Engineering Function ---\n",
        "def engineer_features(df):\n",
        "    \"\"\"\n",
        "    Applies feature engineering steps to a scaled DataFrame.\n",
        "    Assumes df has 'time' as index and columns like 'temp', 'rhum', 'wspd', 'prcp', 'pres'.\n",
        "    \"\"\"\n",
        "    # Create a copy to avoid SettingWithCopyWarning\n",
        "    df_engineered = df.copy()\n",
        "\n",
        "    # 1. Lagged Features (Previous time steps)\n",
        "    df_engineered['temp_lag1'] = df_engineered['temp'].shift(1)\n",
        "    df_engineered['rhum_lag1'] = df_engineered['rhum'].shift(1)\n",
        "    df_engineered['wspd_lag1'] = df_engineered['wspd'].shift(1)\n",
        "    df_engineered['wspd_lag2'] = df_engineered['wspd'].shift(2)\n",
        "    df_engineered['wspd_lag3'] = df_engineered['wspd'].shift(3)\n",
        "\n",
        "    # 2. Rolling Window Features (Aggregations over a period)\n",
        "    # Ensure min_periods is 1 to get values even at the beginning of the series\n",
        "    df_engineered['temp_roll_mean_3h'] = df_engineered['temp'].rolling(window=3, min_periods=1).mean()\n",
        "    df_engineered['prcp_roll_sum_6h'] = df_engineered['prcp'].rolling(window=6, min_periods=1).sum()\n",
        "\n",
        "    # 3. Time-based Features (from the datetime index)\n",
        "    df_engineered['hour'] = df_engineered.index.hour\n",
        "    df_engineered['month'] = df_engineered.index.month\n",
        "    df_engineered['weekday'] = df_engineered.index.weekday # Monday=0, Sunday=6\n",
        "\n",
        "    # Handle NaNs created by lagging and rolling features at the beginning of the series\n",
        "    # Using linear interpolation first, then ffill/bfill for any remaining at edges\n",
        "    df_engineered = df_engineered.interpolate(method='linear')\n",
        "    df_engineered = df_engineered.fillna(method='ffill').fillna(method='bfill')\n",
        "\n",
        "    # Drop any rows that still have NaNs (should be minimal after fills)\n",
        "    df_engineered.dropna(inplace=True)\n",
        "\n",
        "    return df_engineered\n",
        "\n",
        "# --- Process each scaled file ---\n",
        "for filename in scaled_filenames:\n",
        "    print(f\"\\n--- Processing {filename} for Feature Engineering ---\")\n",
        "    try:\n",
        "        # Construct full path to input scaled CSV file\n",
        "        # Since data_dir is \"\", this will simply be the filename\n",
        "        input_path = os.path.join(input_data_dir, filename)\n",
        "        df_scaled = pd.read_csv(input_path, parse_dates=['time'], index_col='time')\n",
        "\n",
        "        # Ensure index is timezone-aware if it lost it during saving/loading\n",
        "        # (It should be from previous step, but re-confirming here for robustness)\n",
        "        if df_scaled.index.tz is None:\n",
        "            # Assuming your scaled data was converted to Asia/Kolkata timezone\n",
        "            df_scaled.index = df_scaled.index.tz_localize('Asia/Kolkata')\n",
        "\n",
        "        print(f\"Loaded scaled data for {filename}. Head:\")\n",
        "        print(df_scaled.head())\n",
        "\n",
        "        # Perform feature engineering\n",
        "        df_engineered = engineer_features(df_scaled)\n",
        "\n",
        "        print(f\"Engineered Data Sample for {filename}:\")\n",
        "        print(df_engineered.head())\n",
        "        print(f\"Engineered Data Columns: {df_engineered.columns.tolist()}\")\n",
        "        print(f\"Engineered Data Shape: {df_engineered.shape}\")\n",
        "\n",
        "        # Construct output filename and path for engineered data\n",
        "        output_name = filename.replace('_scaled.csv', '_engineered.csv')\n",
        "        output_path = os.path.join(output_data_dir, output_name)\n",
        "\n",
        "        # Save the engineered DataFrame to the temporary Colab environment\n",
        "        df_engineered.to_csv(output_path)\n",
        "        print(f\"Successfully engineered and saved data for: {filename} to {output_path}\")\n",
        "\n",
        "        # Download the engineered file to your local machine (this will trigger a download in your browser)\n",
        "        files.download(output_path)\n",
        "\n",
        "    except FileNotFoundError:\n",
        "        print(f\"Error: Input file not found - {filename}. Please ensure this file is uploaded directly to your Colab session.\")\n",
        "    except KeyError as e:\n",
        "        print(f\"Error: Missing expected column in {filename} during engineering - {e}.\")\n",
        "        print(\"Ensure the scaled CSVs have the required columns for engineering (e.g., 'temp', 'rhum', 'wspd', 'prcp', 'pres').\")\n",
        "    except Exception as e:\n",
        "        print(f\"An unexpected error occurred while processing {filename}: {e}\")\n",
        "\n",
        "print(\"\\n--- All specified scaled files processed for feature engineering. ---\")"
      ]
    }
  ],
  "metadata": {
    "colab": {
      "provenance": []
    },
    "kernelspec": {
      "display_name": "Python 3",
      "name": "python3"
    },
    "language_info": {
      "name": "python"
    }
  },
  "nbformat": 4,
  "nbformat_minor": 0
}
