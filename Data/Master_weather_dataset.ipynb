{
  "nbformat": 4,
  "nbformat_minor": 0,
  "metadata": {
    "colab": {
      "provenance": []
    },
    "kernelspec": {
      "name": "python3",
      "display_name": "Python 3"
    },
    "language_info": {
      "name": "python"
    }
  },
  "cells": [
    {
      "cell_type": "code",
      "execution_count": 8,
      "metadata": {
        "id": "wxAfiu9liNmA"
      },
      "outputs": [],
      "source": [
        "import pandas as pd\n",
        "import numpy as np"
      ]
    },
    {
      "cell_type": "code",
      "source": [
        "# City-wise file paths (update if needed)\n",
        "file_map = {\n",
        "    \"New_Delhi\": \"new_delhi_hourly_weather_engineered.csv\",\n",
        "    \"Pune\": \"pune_hourly_weather_engineered.csv\",\n",
        "    \"Mumbai\": \"mumbai_hourly_weather_engineered.csv\",\n",
        "    \"Kolkata\": \"kolkata_hourly_weather_engineered.csv\",\n",
        "    \"Chennai\": \"chennai_hourly_weather_engineered.csv\",\n",
        "    \"Nagpur\": \"nagpur_hourly_weather_engineered.csv\",\n",
        "    \"Guwahati\": \"guwahati_hourly_weather_engineered.csv\",\n",
        "    \"Ahmedabad\": \"ahmedabad_hourly_weather_engineered.csv\",\n",
        "    \"Hyderabad\": \"hyderabad_hourly_weather_engineered.csv\",\n",
        "    \"Bengaluru\": \"bengaluru_hourly_weather_engineered.csv\",\n",
        "    \"Thiruvananthapuram\": \"thiruvananthapuram_hourly_weather_engineered.csv\",\n",
        "    \"Kochi\": \"kochi_hourly_weather_engineered.csv\",\n",
        "    \"Bhopal\": \"bhopal_hourly_weather_engineered.csv\",\n",
        "    \"Jaipur\": \"jaipur_hourly_weather_engineered.csv\",\n",
        "    \"Lucknow\": \"lucknow_hourly_weather_engineered.csv\",\n",
        "    \"Dehradun\": \"dehradun_hourly_weather_engineered.csv\",\n",
        "    \"Chandigarh\": \"chandigarh_hourly_weather_engineered.csv\",\n",
        "    \"Coimbatore\": \"coimbatore_hourly_weather_engineered.csv\",\n",
        "    \"Mysuru\": \"mysuru_hourly_weather_engineered.csv\",\n",
        "    \"Visakhapatnam\": \"visakhapatnam_hourly_weather_engineered.csv\",\n",
        "    \"Patna\": \"patna_hourly_weather_engineered.csv\",\n",
        "    \"Bhubaneswar\": \"bhubaneswar_hourly_weather_engineered.csv\",\n",
        "    \"Ranchi\": \"ranchi_hourly_weather_engineered.csv\",\n",
        "    \"Vadodara\": \"vadodara_hourly_weather_engineered.csv\",\n",
        "    \"Nashik\": \"nashik_hourly_weather_engineered.csv\",\n",
        "    \"Siliguri\": \"siliguri_hourly_weather_engineered.csv\",\n",
        "    \"Imphal\": \"imphal_hourly_weather_engineered.csv\",\n",
        "    \"Jaisalmer\": \"jaisalmer_hourly_weather_engineered.csv\",\n",
        "    \"Bikaner\": \"bikaner_hourly_weather_engineered.csv\",\n",
        "    \"Shimla\": \"shimla_hourly_weather_engineered.csv\",\n",
        "    \"Shillong\": \"shillong_hourly_weather_engineered.csv\",\n",
        "    \"Surat\": \"surat_hourly_weather_engineered.csv\",\n",
        "    \"Ooty\": \"ooty_hourly_weather_engineered.csv\",\n",
        "    \"Port_Blair\": \"port_blair_hourly_weather_engineered.csv\",\n",
        "    \"Amini_Island\": \"amini_island_hourly_weather_engineered.csv\"\n",
        "}"
      ],
      "metadata": {
        "id": "oA1tAbPnif3S"
      },
      "execution_count": 9,
      "outputs": []
    },
    {
      "cell_type": "code",
      "source": [
        "# Add location metadata\n",
        "city_metadata = {\n",
        "    \"New Delhi\": {\"lat\": 28.6139, \"lon\": 77.2090, \"elev\": 216},\n",
        "    \"Pune\": {\"lat\": 18.5204, \"lon\": 73.8567, \"elev\": 560},\n",
        "    \"Mumbai\": {\"lat\": 19.0760, \"lon\": 72.8777, \"elev\": 14},\n",
        "    \"Kolkata\": {\"lat\": 22.5726, \"lon\": 88.3639, \"elev\": 9},\n",
        "    \"Chennai\": {\"lat\": 13.0827, \"lon\": 80.2707, \"elev\": 6},\n",
        "    \"Nagpur\": {\"lat\": 21.1458, \"lon\": 79.0882, \"elev\": 310},\n",
        "    \"Guwahati\": {\"lat\": 26.1445, \"lon\": 91.7362, \"elev\": 55},\n",
        "\n",
        "    \"Ahmedabad\": {\"lat\": 23.0225, \"lon\": 72.5714, \"elev\": 59},\n",
        "    \"Hyderabad\": {\"lat\": 17.3850, \"lon\": 78.4867, \"elev\": 542},\n",
        "    \"Bengaluru\": {\"lat\": 12.9716, \"lon\": 77.5946, \"elev\": 920},\n",
        "    \"Thiruvananthapuram\": {\"lat\": 8.5241, \"lon\": 76.9366, \"elev\": 16},\n",
        "    \"Kochi\": {\"lat\": 9.9312, \"lon\": 76.2673, \"elev\": 2},\n",
        "\n",
        "    \"Bhopal\": {\"lat\": 23.2599, \"lon\": 77.4126, \"elev\": 427},\n",
        "    \"Jaipur\": {\"lat\": 26.9124, \"lon\": 75.7873, \"elev\": 431},\n",
        "    \"Lucknow\": {\"lat\": 26.8467, \"lon\": 80.9462, \"elev\": 123},\n",
        "    \"Dehradun\": {\"lat\": 30.3165, \"lon\": 78.0322, \"elev\": 640},\n",
        "    \"Chandigarh\": {\"lat\": 30.7333, \"lon\": 76.7794, \"elev\": 321},\n",
        "\n",
        "    \"Coimbatore\": {\"lat\": 11.0168, \"lon\": 76.9558, \"elev\": 411},\n",
        "    \"Mysuru\": {\"lat\": 12.2958, \"lon\": 76.6394, \"elev\": 770},\n",
        "    \"Visakhapatnam\": {\"lat\": 17.6868, \"lon\": 83.2185, \"elev\": 10},\n",
        "    \"Patna\": {\"lat\": 25.5941, \"lon\": 85.1376, \"elev\": 53},\n",
        "    \"Bhubaneswar\": {\"lat\": 20.2961, \"lon\": 85.8245, \"elev\": 45},\n",
        "\n",
        "    \"Ranchi\": {\"lat\": 23.3441, \"lon\": 85.3096, \"elev\": 622},\n",
        "    \"Vadodara\": {\"lat\": 22.3072, \"lon\": 73.1812, \"elev\": 39},\n",
        "    \"Nashik\": {\"lat\": 19.9975, \"lon\": 73.7898, \"elev\": 560},\n",
        "    \"Siliguri\": {\"lat\": 26.7271, \"lon\": 88.3953, \"elev\": 125},\n",
        "    \"Imphal\": {\"lat\": 24.8170, \"lon\": 93.9368, \"elev\": 786},\n",
        "\n",
        "    \"Jaisalmer\": {\"lat\": 26.9157, \"lon\": 70.9083, \"elev\": 227},\n",
        "    \"Bikaner\": {\"lat\": 28.0229, \"lon\": 73.3119, \"elev\": 231},\n",
        "    \"Shimla\": {\"lat\": 31.1048, \"lon\": 77.1734, \"elev\": 2205},\n",
        "    \"Shillong\": {\"lat\": 25.5788, \"lon\": 91.8933, \"elev\": 1496},\n",
        "    \"Surat\": {\"lat\": 21.1702, \"lon\": 72.8311, \"elev\": 13},\n",
        "    \"Ooty\": {\"lat\": 11.4064, \"lon\": 76.6932, \"elev\": 2240},\n",
        "    \"Port Blair\": {\"lat\": 11.6234, \"lon\": 92.7265, \"elev\": 30},\n",
        "    \"Amini Island\": {\"lat\": 11.123, \"lon\": 72.724, \"elev\": 2}\n",
        "}"
      ],
      "metadata": {
        "id": "vMqyoCOpijDQ"
      },
      "execution_count": 10,
      "outputs": []
    },
    {
      "cell_type": "code",
      "source": [
        "city_key_mapping = {key: key.replace('_', ' ') for key in file_map.keys()}\n",
        "\n",
        "for city_file_key, filename in file_map.items():\n",
        "    df = pd.read_csv(filename)\n",
        "    df['city'] = city_key_mapping[city_file_key] # Use the city name with spaces for the 'city' column\n",
        "    city_metadata_key = city_key_mapping[city_file_key] # Get the corresponding key for city_metadata\n",
        "    df['latitude'] = city_metadata[city_metadata_key][\"lat\"]\n",
        "    df['longitude'] = city_metadata[city_metadata_key][\"lon\"]\n",
        "    df['elevation'] = city_metadata[city_metadata_key][\"elev\"]\n",
        "    dfs.append(df)"
      ],
      "metadata": {
        "id": "1Femmqpy5PDc"
      },
      "execution_count": 12,
      "outputs": []
    },
    {
      "cell_type": "code",
      "source": [
        "# Merge all cities into one master dataset\n",
        "master_df = pd.concat(dfs, ignore_index=True)\n",
        "master_df.to_csv(\"master_weather_dataset.csv\", index=False)\n",
        "\n",
        "print(\" master_weather_dataset.csv created successfully!\")"
      ],
      "metadata": {
        "colab": {
          "base_uri": "https://localhost:8080/"
        },
        "id": "CubRa4gWiyUa",
        "outputId": "78e8528a-2dc2-4a31-b360-99e398d8f942"
      },
      "execution_count": 14,
      "outputs": [
        {
          "output_type": "stream",
          "name": "stdout",
          "text": [
            " master_weather_dataset.csv created successfully!\n"
          ]
        }
      ]
    },
    {
      "cell_type": "code",
      "source": [
        "from google.colab import files\n",
        "files.download(\"master_weather_dataset.csv\")"
      ],
      "metadata": {
        "colab": {
          "base_uri": "https://localhost:8080/",
          "height": 17
        },
        "id": "UKGgh5hEi0ix",
        "outputId": "b96186da-cd7b-4e40-951a-2daa54c4713b"
      },
      "execution_count": 15,
      "outputs": [
        {
          "output_type": "display_data",
          "data": {
            "text/plain": [
              "<IPython.core.display.Javascript object>"
            ],
            "application/javascript": [
              "\n",
              "    async function download(id, filename, size) {\n",
              "      if (!google.colab.kernel.accessAllowed) {\n",
              "        return;\n",
              "      }\n",
              "      const div = document.createElement('div');\n",
              "      const label = document.createElement('label');\n",
              "      label.textContent = `Downloading \"${filename}\": `;\n",
              "      div.appendChild(label);\n",
              "      const progress = document.createElement('progress');\n",
              "      progress.max = size;\n",
              "      div.appendChild(progress);\n",
              "      document.body.appendChild(div);\n",
              "\n",
              "      const buffers = [];\n",
              "      let downloaded = 0;\n",
              "\n",
              "      const channel = await google.colab.kernel.comms.open(id);\n",
              "      // Send a message to notify the kernel that we're ready.\n",
              "      channel.send({})\n",
              "\n",
              "      for await (const message of channel.messages) {\n",
              "        // Send a message to notify the kernel that we're ready.\n",
              "        channel.send({})\n",
              "        if (message.buffers) {\n",
              "          for (const buffer of message.buffers) {\n",
              "            buffers.push(buffer);\n",
              "            downloaded += buffer.byteLength;\n",
              "            progress.value = downloaded;\n",
              "          }\n",
              "        }\n",
              "      }\n",
              "      const blob = new Blob(buffers, {type: 'application/binary'});\n",
              "      const a = document.createElement('a');\n",
              "      a.href = window.URL.createObjectURL(blob);\n",
              "      a.download = filename;\n",
              "      div.appendChild(a);\n",
              "      a.click();\n",
              "      div.remove();\n",
              "    }\n",
              "  "
            ]
          },
          "metadata": {}
        },
        {
          "output_type": "display_data",
          "data": {
            "text/plain": [
              "<IPython.core.display.Javascript object>"
            ],
            "application/javascript": [
              "download(\"download_ee241a98-fe03-4ed1-bc79-211b176f004b\", \"master_weather_dataset.csv\", 325781998)"
            ]
          },
          "metadata": {}
        }
      ]
    }
  ]
}