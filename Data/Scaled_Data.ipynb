{
  "cells": [
    {
      "cell_type": "code",
      "execution_count": null,
      "metadata": {
        "colab": {
          "base_uri": "https://localhost:8080/",
          "height": 1000
        },
        "id": "9dsBSOWw9_Db",
        "outputId": "5488522b-7922-49d6-9d04-128e06123021"
      },
      "outputs": [
        {
          "name": "stdout",
          "output_type": "stream",
          "text": [
            "Created output directory: Scaled_Data_Output/\n",
            "\n",
            "--- Processing ahmedabad_hourly_weather.csv ---\n"
          ]
        },
        {
          "name": "stderr",
          "output_type": "stream",
          "text": [
            "<ipython-input-18-3a2421fc9df1>:90: FutureWarning: DataFrame.fillna with 'method' is deprecated and will raise in a future version. Use obj.ffill() or obj.bfill() instead.\n",
            "  df = df.fillna(method='ffill').fillna(method='bfill')\n"
          ]
        },
        {
          "name": "stdout",
          "output_type": "stream",
          "text": [
            "Cleaned Data Sample for ahmedabad_hourly_weather.csv:\n",
            "                           temp  dwpt  rhum  prcp  wspd    pres\n",
            "time                                                           \n",
            "2021-01-01 05:30:00+05:30  16.6   7.4  54.0   0.0   7.6  1012.7\n",
            "2021-01-01 06:30:00+05:30  15.0   5.2  51.0   0.0   9.4  1013.0\n",
            "2021-01-01 07:30:00+05:30  15.0   5.2  51.0   0.0   9.4  1013.0\n",
            "2021-01-01 08:30:00+05:30  16.4   7.6  56.0   0.0   7.6  1014.5\n",
            "2021-01-01 09:30:00+05:30  18.0   7.0  45.0   0.0  11.2  1015.0\n",
            "Scaled Data Sample for ahmedabad_hourly_weather.csv:\n",
            "                            temp      dwpt  rhum  prcp      wspd      pres\n",
            "time                                                                      \n",
            "2021-01-01 05:30:00+05:30  0.215  0.244582  0.54   0.0  0.045509  0.748649\n",
            "2021-01-01 06:30:00+05:30  0.175  0.176471  0.51   0.0  0.056287  0.756757\n",
            "2021-01-01 07:30:00+05:30  0.175  0.176471  0.51   0.0  0.056287  0.756757\n",
            "2021-01-01 08:30:00+05:30  0.210  0.250774  0.56   0.0  0.045509  0.797297\n",
            "2021-01-01 09:30:00+05:30  0.250  0.232198  0.45   0.0  0.067066  0.810811\n",
            "Successfully processed and saved scaled data for: ahmedabad_hourly_weather.csv to Scaled_Data_Output/ahmedabad_hourly_weather_scaled.csv\n"
          ]
        },
        {
          "data": {
            "application/javascript": "\n    async function download(id, filename, size) {\n      if (!google.colab.kernel.accessAllowed) {\n        return;\n      }\n      const div = document.createElement('div');\n      const label = document.createElement('label');\n      label.textContent = `Downloading \"${filename}\": `;\n      div.appendChild(label);\n      const progress = document.createElement('progress');\n      progress.max = size;\n      div.appendChild(progress);\n      document.body.appendChild(div);\n\n      const buffers = [];\n      let downloaded = 0;\n\n      const channel = await google.colab.kernel.comms.open(id);\n      // Send a message to notify the kernel that we're ready.\n      channel.send({})\n\n      for await (const message of channel.messages) {\n        // Send a message to notify the kernel that we're ready.\n        channel.send({})\n        if (message.buffers) {\n          for (const buffer of message.buffers) {\n            buffers.push(buffer);\n            downloaded += buffer.byteLength;\n            progress.value = downloaded;\n          }\n        }\n      }\n      const blob = new Blob(buffers, {type: 'application/binary'});\n      const a = document.createElement('a');\n      a.href = window.URL.createObjectURL(blob);\n      a.download = filename;\n      div.appendChild(a);\n      a.click();\n      div.remove();\n    }\n  ",
            "text/plain": [
              "<IPython.core.display.Javascript object>"
            ]
          },
          "metadata": {},
          "output_type": "display_data"
        },
        {
          "data": {
            "application/javascript": "download(\"download_c51924c5-ed04-44ea-bdfd-322c1ab98163\", \"ahmedabad_hourly_weather_scaled.csv\", 3741477)",
            "text/plain": [
              "<IPython.core.display.Javascript object>"
            ]
          },
          "metadata": {},
          "output_type": "display_data"
        },
        {
          "name": "stdout",
          "output_type": "stream",
          "text": [
            "\n",
            "--- Processing bengaluru_hourly_weather.csv ---\n",
            "Cleaned Data Sample for bengaluru_hourly_weather.csv:\n",
            "                           temp  dwpt   rhum  prcp  wspd    pres\n",
            "time                                                            \n",
            "2021-01-01 05:30:00+05:30  17.6  15.6   90.0   0.0   3.6  1015.0\n",
            "2021-01-01 06:30:00+05:30  17.8  17.8  100.0   0.0   7.6  1016.0\n",
            "2021-01-01 07:30:00+05:30  17.8  17.8  100.0   0.0   7.6  1017.0\n",
            "2021-01-01 08:30:00+05:30  18.8  14.8   80.0   0.0   5.4  1018.0\n",
            "2021-01-01 09:30:00+05:30  20.8  15.4   73.0   0.0  14.8  1018.0\n",
            "Scaled Data Sample for bengaluru_hourly_weather.csv:\n",
            "                               temp      dwpt      rhum  prcp      wspd  \\\n",
            "time                                                                      \n",
            "2021-01-01 05:30:00+05:30  0.228873  0.539823  0.888889   0.0  0.024275   \n",
            "2021-01-01 06:30:00+05:30  0.235915  0.637168  1.000000   0.0  0.051247   \n",
            "2021-01-01 07:30:00+05:30  0.235915  0.637168  1.000000   0.0  0.051247   \n",
            "2021-01-01 08:30:00+05:30  0.271127  0.504425  0.777778   0.0  0.036413   \n",
            "2021-01-01 09:30:00+05:30  0.341549  0.530973  0.700000   0.0  0.099798   \n",
            "\n",
            "                               pres  \n",
            "time                                 \n",
            "2021-01-01 05:30:00+05:30  0.616080  \n",
            "2021-01-01 06:30:00+05:30  0.626131  \n",
            "2021-01-01 07:30:00+05:30  0.636181  \n",
            "2021-01-01 08:30:00+05:30  0.646231  \n",
            "2021-01-01 09:30:00+05:30  0.646231  \n"
          ]
        },
        {
          "name": "stderr",
          "output_type": "stream",
          "text": [
            "<ipython-input-18-3a2421fc9df1>:90: FutureWarning: DataFrame.fillna with 'method' is deprecated and will raise in a future version. Use obj.ffill() or obj.bfill() instead.\n",
            "  df = df.fillna(method='ffill').fillna(method='bfill')\n"
          ]
        },
        {
          "name": "stdout",
          "output_type": "stream",
          "text": [
            "Successfully processed and saved scaled data for: bengaluru_hourly_weather.csv to Scaled_Data_Output/bengaluru_hourly_weather_scaled.csv\n"
          ]
        },
        {
          "data": {
            "application/javascript": "\n    async function download(id, filename, size) {\n      if (!google.colab.kernel.accessAllowed) {\n        return;\n      }\n      const div = document.createElement('div');\n      const label = document.createElement('label');\n      label.textContent = `Downloading \"${filename}\": `;\n      div.appendChild(label);\n      const progress = document.createElement('progress');\n      progress.max = size;\n      div.appendChild(progress);\n      document.body.appendChild(div);\n\n      const buffers = [];\n      let downloaded = 0;\n\n      const channel = await google.colab.kernel.comms.open(id);\n      // Send a message to notify the kernel that we're ready.\n      channel.send({})\n\n      for await (const message of channel.messages) {\n        // Send a message to notify the kernel that we're ready.\n        channel.send({})\n        if (message.buffers) {\n          for (const buffer of message.buffers) {\n            buffers.push(buffer);\n            downloaded += buffer.byteLength;\n            progress.value = downloaded;\n          }\n        }\n      }\n      const blob = new Blob(buffers, {type: 'application/binary'});\n      const a = document.createElement('a');\n      a.href = window.URL.createObjectURL(blob);\n      a.download = filename;\n      div.appendChild(a);\n      a.click();\n      div.remove();\n    }\n  ",
            "text/plain": [
              "<IPython.core.display.Javascript object>"
            ]
          },
          "metadata": {},
          "output_type": "display_data"
        },
        {
          "data": {
            "application/javascript": "download(\"download_9dff5968-d8c9-4f4c-b19d-b1a019cbf8bd\", \"bengaluru_hourly_weather_scaled.csv\", 4462081)",
            "text/plain": [
              "<IPython.core.display.Javascript object>"
            ]
          },
          "metadata": {},
          "output_type": "display_data"
        },
        {
          "name": "stdout",
          "output_type": "stream",
          "text": [
            "\n",
            "--- Processing bhopal_hourly_weather.csv ---\n",
            "Cleaned Data Sample for bhopal_hourly_weather.csv:\n",
            "                           temp  dwpt  rhum  prcp  wspd    pres\n",
            "time                                                           \n",
            "2021-01-01 05:30:00+05:30  11.2   9.8  93.0   0.0   3.6  1016.7\n",
            "2021-01-01 06:30:00+05:30  11.6  10.4  94.0   0.0   7.6  1017.0\n",
            "2021-01-01 07:30:00+05:30  10.6   9.4  94.0   0.0   6.0  1018.0\n",
            "2021-01-01 08:30:00+05:30  11.6   9.2  88.0   0.0   7.6  1018.9\n",
            "2021-01-01 09:30:00+05:30  19.6  10.8  56.0   0.0   7.0  1020.0\n",
            "Scaled Data Sample for bhopal_hourly_weather.csv:\n",
            "                               temp   dwpt      rhum  prcp   wspd      pres\n",
            "time                                                                       \n",
            "2021-01-01 05:30:00+05:30  0.116732  0.290  0.926316   0.0  0.018  0.759420\n",
            "2021-01-01 06:30:00+05:30  0.124514  0.305  0.936842   0.0  0.038  0.768116\n",
            "2021-01-01 07:30:00+05:30  0.105058  0.280  0.936842   0.0  0.030  0.797101\n",
            "2021-01-01 08:30:00+05:30  0.124514  0.275  0.873684   0.0  0.038  0.823188\n",
            "2021-01-01 09:30:00+05:30  0.280156  0.315  0.536842   0.0  0.035  0.855072\n"
          ]
        },
        {
          "name": "stderr",
          "output_type": "stream",
          "text": [
            "<ipython-input-18-3a2421fc9df1>:90: FutureWarning: DataFrame.fillna with 'method' is deprecated and will raise in a future version. Use obj.ffill() or obj.bfill() instead.\n",
            "  df = df.fillna(method='ffill').fillna(method='bfill')\n"
          ]
        },
        {
          "name": "stdout",
          "output_type": "stream",
          "text": [
            "Successfully processed and saved scaled data for: bhopal_hourly_weather.csv to Scaled_Data_Output/bhopal_hourly_weather_scaled.csv\n"
          ]
        },
        {
          "data": {
            "application/javascript": "\n    async function download(id, filename, size) {\n      if (!google.colab.kernel.accessAllowed) {\n        return;\n      }\n      const div = document.createElement('div');\n      const label = document.createElement('label');\n      label.textContent = `Downloading \"${filename}\": `;\n      div.appendChild(label);\n      const progress = document.createElement('progress');\n      progress.max = size;\n      div.appendChild(progress);\n      document.body.appendChild(div);\n\n      const buffers = [];\n      let downloaded = 0;\n\n      const channel = await google.colab.kernel.comms.open(id);\n      // Send a message to notify the kernel that we're ready.\n      channel.send({})\n\n      for await (const message of channel.messages) {\n        // Send a message to notify the kernel that we're ready.\n        channel.send({})\n        if (message.buffers) {\n          for (const buffer of message.buffers) {\n            buffers.push(buffer);\n            downloaded += buffer.byteLength;\n            progress.value = downloaded;\n          }\n        }\n      }\n      const blob = new Blob(buffers, {type: 'application/binary'});\n      const a = document.createElement('a');\n      a.href = window.URL.createObjectURL(blob);\n      a.download = filename;\n      div.appendChild(a);\n      a.click();\n      div.remove();\n    }\n  ",
            "text/plain": [
              "<IPython.core.display.Javascript object>"
            ]
          },
          "metadata": {},
          "output_type": "display_data"
        },
        {
          "data": {
            "application/javascript": "download(\"download_0458e4a6-624d-4cea-9ae2-2b4a0e386d98\", \"bhopal_hourly_weather_scaled.csv\", 3955737)",
            "text/plain": [
              "<IPython.core.display.Javascript object>"
            ]
          },
          "metadata": {},
          "output_type": "display_data"
        },
        {
          "name": "stdout",
          "output_type": "stream",
          "text": [
            "\n",
            "--- Processing bhubaneswar_hourly_weather.csv ---\n",
            "Cleaned Data Sample for bhubaneswar_hourly_weather.csv:\n",
            "                           temp  dwpt  rhum  prcp  wspd    pres\n",
            "time                                                           \n",
            "2021-01-01 05:30:00+05:30  15.4  13.2  89.0   0.0   3.6  1015.3\n",
            "2021-01-01 06:30:00+05:30  15.0  13.8  94.0   0.0   3.6  1016.0\n",
            "2021-01-01 07:30:00+05:30  17.0  13.4  82.0   0.0   3.6  1017.0\n",
            "2021-01-01 08:30:00+05:30  19.2  11.8  63.0   0.0   3.6  1018.2\n",
            "2021-01-01 09:30:00+05:30  21.0  11.6  53.0   0.0  16.6  1018.0\n",
            "Scaled Data Sample for bhubaneswar_hourly_weather.csv:\n",
            "                               temp      dwpt      rhum  prcp      wspd  \\\n",
            "time                                                                      \n",
            "2021-01-01 05:30:00+05:30  0.156977  0.220472  0.879121   0.0  0.034615   \n",
            "2021-01-01 06:30:00+05:30  0.145349  0.244094  0.934066   0.0  0.034615   \n",
            "2021-01-01 07:30:00+05:30  0.203488  0.228346  0.802198   0.0  0.034615   \n",
            "2021-01-01 08:30:00+05:30  0.267442  0.165354  0.593407   0.0  0.034615   \n",
            "2021-01-01 09:30:00+05:30  0.319767  0.157480  0.483516   0.0  0.159615   \n",
            "\n",
            "                               pres  \n",
            "time                                 \n",
            "2021-01-01 05:30:00+05:30  0.777457  \n",
            "2021-01-01 06:30:00+05:30  0.797688  \n",
            "2021-01-01 07:30:00+05:30  0.826590  \n",
            "2021-01-01 08:30:00+05:30  0.861272  \n",
            "2021-01-01 09:30:00+05:30  0.855491  \n"
          ]
        },
        {
          "name": "stderr",
          "output_type": "stream",
          "text": [
            "<ipython-input-18-3a2421fc9df1>:90: FutureWarning: DataFrame.fillna with 'method' is deprecated and will raise in a future version. Use obj.ffill() or obj.bfill() instead.\n",
            "  df = df.fillna(method='ffill').fillna(method='bfill')\n"
          ]
        },
        {
          "name": "stdout",
          "output_type": "stream",
          "text": [
            "Successfully processed and saved scaled data for: bhubaneswar_hourly_weather.csv to Scaled_Data_Output/bhubaneswar_hourly_weather_scaled.csv\n"
          ]
        },
        {
          "data": {
            "application/javascript": "\n    async function download(id, filename, size) {\n      if (!google.colab.kernel.accessAllowed) {\n        return;\n      }\n      const div = document.createElement('div');\n      const label = document.createElement('label');\n      label.textContent = `Downloading \"${filename}\": `;\n      div.appendChild(label);\n      const progress = document.createElement('progress');\n      progress.max = size;\n      div.appendChild(progress);\n      document.body.appendChild(div);\n\n      const buffers = [];\n      let downloaded = 0;\n\n      const channel = await google.colab.kernel.comms.open(id);\n      // Send a message to notify the kernel that we're ready.\n      channel.send({})\n\n      for await (const message of channel.messages) {\n        // Send a message to notify the kernel that we're ready.\n        channel.send({})\n        if (message.buffers) {\n          for (const buffer of message.buffers) {\n            buffers.push(buffer);\n            downloaded += buffer.byteLength;\n            progress.value = downloaded;\n          }\n        }\n      }\n      const blob = new Blob(buffers, {type: 'application/binary'});\n      const a = document.createElement('a');\n      a.href = window.URL.createObjectURL(blob);\n      a.download = filename;\n      div.appendChild(a);\n      a.click();\n      div.remove();\n    }\n  ",
            "text/plain": [
              "<IPython.core.display.Javascript object>"
            ]
          },
          "metadata": {},
          "output_type": "display_data"
        },
        {
          "data": {
            "application/javascript": "download(\"download_3630d4cb-20e1-4d53-bbc9-e59e678d0bd9\", \"bhubaneswar_hourly_weather_scaled.csv\", 4401994)",
            "text/plain": [
              "<IPython.core.display.Javascript object>"
            ]
          },
          "metadata": {},
          "output_type": "display_data"
        },
        {
          "name": "stdout",
          "output_type": "stream",
          "text": [
            "\n",
            "--- Processing bikaner_hourly_weather.csv ---\n",
            "Cleaned Data Sample for bikaner_hourly_weather.csv:\n",
            "                            temp  dwpt  rhum  prcp  wspd     pres\n",
            "time                                                             \n",
            "2021-01-01 11:30:00+05:30  16.80  5.00  41.0   0.0  3.60  1016.90\n",
            "2021-01-01 12:30:00+05:30  16.64  4.82  40.9   0.0  5.04  1016.79\n",
            "2021-01-01 13:30:00+05:30  16.48  4.64  40.8   0.0  6.48  1016.68\n",
            "2021-01-01 14:30:00+05:30  16.32  4.46  40.7   0.0  7.92  1016.57\n",
            "2021-01-01 15:30:00+05:30  16.16  4.28  40.6   0.0  9.36  1016.46\n",
            "Scaled Data Sample for bikaner_hourly_weather.csv:\n",
            "                               temp      dwpt      rhum  prcp      wspd  \\\n",
            "time                                                                      \n",
            "2021-01-01 11:30:00+05:30  0.318872  0.336683  0.397959   0.0  0.060606   \n",
            "2021-01-01 12:30:00+05:30  0.315401  0.332161  0.396939   0.0  0.084848   \n",
            "2021-01-01 13:30:00+05:30  0.311931  0.327638  0.395918   0.0  0.109091   \n",
            "2021-01-01 14:30:00+05:30  0.308460  0.323116  0.394898   0.0  0.133333   \n",
            "2021-01-01 15:30:00+05:30  0.304989  0.318593  0.393878   0.0  0.157576   \n",
            "\n",
            "                               pres  \n",
            "time                                 \n",
            "2021-01-01 11:30:00+05:30  0.717445  \n",
            "2021-01-01 12:30:00+05:30  0.714742  \n",
            "2021-01-01 13:30:00+05:30  0.712039  \n",
            "2021-01-01 14:30:00+05:30  0.709337  \n",
            "2021-01-01 15:30:00+05:30  0.706634  \n"
          ]
        },
        {
          "name": "stderr",
          "output_type": "stream",
          "text": [
            "<ipython-input-18-3a2421fc9df1>:90: FutureWarning: DataFrame.fillna with 'method' is deprecated and will raise in a future version. Use obj.ffill() or obj.bfill() instead.\n",
            "  df = df.fillna(method='ffill').fillna(method='bfill')\n"
          ]
        },
        {
          "name": "stdout",
          "output_type": "stream",
          "text": [
            "Successfully processed and saved scaled data for: bikaner_hourly_weather.csv to Scaled_Data_Output/bikaner_hourly_weather_scaled.csv\n"
          ]
        },
        {
          "data": {
            "application/javascript": "\n    async function download(id, filename, size) {\n      if (!google.colab.kernel.accessAllowed) {\n        return;\n      }\n      const div = document.createElement('div');\n      const label = document.createElement('label');\n      label.textContent = `Downloading \"${filename}\": `;\n      div.appendChild(label);\n      const progress = document.createElement('progress');\n      progress.max = size;\n      div.appendChild(progress);\n      document.body.appendChild(div);\n\n      const buffers = [];\n      let downloaded = 0;\n\n      const channel = await google.colab.kernel.comms.open(id);\n      // Send a message to notify the kernel that we're ready.\n      channel.send({})\n\n      for await (const message of channel.messages) {\n        // Send a message to notify the kernel that we're ready.\n        channel.send({})\n        if (message.buffers) {\n          for (const buffer of message.buffers) {\n            buffers.push(buffer);\n            downloaded += buffer.byteLength;\n            progress.value = downloaded;\n          }\n        }\n      }\n      const blob = new Blob(buffers, {type: 'application/binary'});\n      const a = document.createElement('a');\n      a.href = window.URL.createObjectURL(blob);\n      a.download = filename;\n      div.appendChild(a);\n      a.click();\n      div.remove();\n    }\n  ",
            "text/plain": [
              "<IPython.core.display.Javascript object>"
            ]
          },
          "metadata": {},
          "output_type": "display_data"
        },
        {
          "data": {
            "application/javascript": "download(\"download_a58ad303-b194-4337-8683-5fe32cfa5c45\", \"bikaner_hourly_weather_scaled.csv\", 4360112)",
            "text/plain": [
              "<IPython.core.display.Javascript object>"
            ]
          },
          "metadata": {},
          "output_type": "display_data"
        },
        {
          "name": "stdout",
          "output_type": "stream",
          "text": [
            "\n",
            "--- Processing chandigarh_hourly_weather.csv ---\n",
            "Cleaned Data Sample for chandigarh_hourly_weather.csv:\n",
            "                           temp  dwpt  rhum  prcp  wspd    pres\n",
            "time                                                           \n",
            "2021-01-01 21:30:00+05:30   8.7   4.7  80.0   0.0   6.5  1018.4\n",
            "2021-01-01 22:30:00+05:30   9.1   3.9  74.0   0.0   6.5  1018.3\n",
            "2021-01-01 23:30:00+05:30   8.9   3.1  71.0   0.0   5.8  1018.6\n",
            "2021-01-02 00:30:00+05:30   8.9   1.5  63.0   0.0   6.1  1018.1\n",
            "2021-01-02 01:30:00+05:30   9.2   0.2  55.0   0.0   4.7  1017.7\n",
            "Scaled Data Sample for chandigarh_hourly_weather.csv:\n",
            "                               temp      dwpt      rhum  prcp      wspd  \\\n",
            "time                                                                      \n",
            "2021-01-01 21:30:00+05:30  0.127907  0.260234  0.787234   0.0  0.141304   \n",
            "2021-01-01 22:30:00+05:30  0.137209  0.236842  0.723404   0.0  0.141304   \n",
            "2021-01-01 23:30:00+05:30  0.132558  0.213450  0.691489   0.0  0.126087   \n",
            "2021-01-02 00:30:00+05:30  0.132558  0.166667  0.606383   0.0  0.132609   \n",
            "2021-01-02 01:30:00+05:30  0.139535  0.128655  0.521277   0.0  0.102174   \n",
            "\n",
            "                               pres  \n",
            "time                                 \n",
            "2021-01-01 21:30:00+05:30  0.773109  \n",
            "2021-01-01 22:30:00+05:30  0.770308  \n",
            "2021-01-01 23:30:00+05:30  0.778711  \n",
            "2021-01-02 00:30:00+05:30  0.764706  \n",
            "2021-01-02 01:30:00+05:30  0.753501  \n"
          ]
        },
        {
          "name": "stderr",
          "output_type": "stream",
          "text": [
            "<ipython-input-18-3a2421fc9df1>:90: FutureWarning: DataFrame.fillna with 'method' is deprecated and will raise in a future version. Use obj.ffill() or obj.bfill() instead.\n",
            "  df = df.fillna(method='ffill').fillna(method='bfill')\n"
          ]
        },
        {
          "name": "stdout",
          "output_type": "stream",
          "text": [
            "Successfully processed and saved scaled data for: chandigarh_hourly_weather.csv to Scaled_Data_Output/chandigarh_hourly_weather_scaled.csv\n"
          ]
        },
        {
          "data": {
            "application/javascript": "\n    async function download(id, filename, size) {\n      if (!google.colab.kernel.accessAllowed) {\n        return;\n      }\n      const div = document.createElement('div');\n      const label = document.createElement('label');\n      label.textContent = `Downloading \"${filename}\": `;\n      div.appendChild(label);\n      const progress = document.createElement('progress');\n      progress.max = size;\n      div.appendChild(progress);\n      document.body.appendChild(div);\n\n      const buffers = [];\n      let downloaded = 0;\n\n      const channel = await google.colab.kernel.comms.open(id);\n      // Send a message to notify the kernel that we're ready.\n      channel.send({})\n\n      for await (const message of channel.messages) {\n        // Send a message to notify the kernel that we're ready.\n        channel.send({})\n        if (message.buffers) {\n          for (const buffer of message.buffers) {\n            buffers.push(buffer);\n            downloaded += buffer.byteLength;\n            progress.value = downloaded;\n          }\n        }\n      }\n      const blob = new Blob(buffers, {type: 'application/binary'});\n      const a = document.createElement('a');\n      a.href = window.URL.createObjectURL(blob);\n      a.download = filename;\n      div.appendChild(a);\n      a.click();\n      div.remove();\n    }\n  ",
            "text/plain": [
              "<IPython.core.display.Javascript object>"
            ]
          },
          "metadata": {},
          "output_type": "display_data"
        },
        {
          "data": {
            "application/javascript": "download(\"download_6711b444-0bc1-4ba3-8a35-1e711a734498\", \"chandigarh_hourly_weather_scaled.csv\", 4433186)",
            "text/plain": [
              "<IPython.core.display.Javascript object>"
            ]
          },
          "metadata": {},
          "output_type": "display_data"
        },
        {
          "name": "stdout",
          "output_type": "stream",
          "text": [
            "\n",
            "--- Processing chennai_hourly_weather.csv ---\n",
            "Cleaned Data Sample for chennai_hourly_weather.csv:\n",
            "                           temp  dwpt  rhum  prcp  wspd    pres\n",
            "time                                                           \n",
            "2021-01-01 05:30:00+05:30  23.4  21.0  88.0   0.0   5.4  1012.2\n",
            "2021-01-01 06:30:00+05:30  24.0  21.8  89.0   0.0   3.6  1013.0\n",
            "2021-01-01 07:30:00+05:30  24.0  21.8  89.0   0.0   3.6  1013.0\n",
            "2021-01-01 08:30:00+05:30  26.0  20.6  73.0   0.0   5.4  1013.6\n",
            "2021-01-01 09:30:00+05:30  26.0  21.8  79.0   0.0   5.4  1015.0\n",
            "Scaled Data Sample for chennai_hourly_weather.csv:\n",
            "                               temp      dwpt      rhum  prcp      wspd  \\\n",
            "time                                                                      \n",
            "2021-01-01 05:30:00+05:30  0.251029  0.317972  0.842105   0.0  0.041667   \n",
            "2021-01-01 06:30:00+05:30  0.275720  0.354839  0.855263   0.0  0.027778   \n",
            "2021-01-01 07:30:00+05:30  0.275720  0.354839  0.855263   0.0  0.027778   \n",
            "2021-01-01 08:30:00+05:30  0.358025  0.299539  0.644737   0.0  0.041667   \n",
            "2021-01-01 09:30:00+05:30  0.358025  0.354839  0.723684   0.0  0.041667   \n",
            "\n",
            "                               pres  \n",
            "time                                 \n",
            "2021-01-01 05:30:00+05:30  0.710938  \n",
            "2021-01-01 06:30:00+05:30  0.742188  \n",
            "2021-01-01 07:30:00+05:30  0.742188  \n",
            "2021-01-01 08:30:00+05:30  0.765625  \n",
            "2021-01-01 09:30:00+05:30  0.820312  \n"
          ]
        },
        {
          "name": "stderr",
          "output_type": "stream",
          "text": [
            "<ipython-input-18-3a2421fc9df1>:90: FutureWarning: DataFrame.fillna with 'method' is deprecated and will raise in a future version. Use obj.ffill() or obj.bfill() instead.\n",
            "  df = df.fillna(method='ffill').fillna(method='bfill')\n"
          ]
        },
        {
          "name": "stdout",
          "output_type": "stream",
          "text": [
            "Successfully processed and saved scaled data for: chennai_hourly_weather.csv to Scaled_Data_Output/chennai_hourly_weather_scaled.csv\n"
          ]
        },
        {
          "data": {
            "application/javascript": "\n    async function download(id, filename, size) {\n      if (!google.colab.kernel.accessAllowed) {\n        return;\n      }\n      const div = document.createElement('div');\n      const label = document.createElement('label');\n      label.textContent = `Downloading \"${filename}\": `;\n      div.appendChild(label);\n      const progress = document.createElement('progress');\n      progress.max = size;\n      div.appendChild(progress);\n      document.body.appendChild(div);\n\n      const buffers = [];\n      let downloaded = 0;\n\n      const channel = await google.colab.kernel.comms.open(id);\n      // Send a message to notify the kernel that we're ready.\n      channel.send({})\n\n      for await (const message of channel.messages) {\n        // Send a message to notify the kernel that we're ready.\n        channel.send({})\n        if (message.buffers) {\n          for (const buffer of message.buffers) {\n            buffers.push(buffer);\n            downloaded += buffer.byteLength;\n            progress.value = downloaded;\n          }\n        }\n      }\n      const blob = new Blob(buffers, {type: 'application/binary'});\n      const a = document.createElement('a');\n      a.href = window.URL.createObjectURL(blob);\n      a.download = filename;\n      div.appendChild(a);\n      a.click();\n      div.remove();\n    }\n  ",
            "text/plain": [
              "<IPython.core.display.Javascript object>"
            ]
          },
          "metadata": {},
          "output_type": "display_data"
        },
        {
          "data": {
            "application/javascript": "download(\"download_6a691a2e-ab7d-4935-bdaa-a0df67d252c2\", \"chennai_hourly_weather_scaled.csv\", 4179710)",
            "text/plain": [
              "<IPython.core.display.Javascript object>"
            ]
          },
          "metadata": {},
          "output_type": "display_data"
        },
        {
          "name": "stdout",
          "output_type": "stream",
          "text": [
            "\n",
            "--- Processing coimbatore_hourly_weather.csv ---\n",
            "Cleaned Data Sample for coimbatore_hourly_weather.csv:\n",
            "                           temp  dwpt  rhum  prcp  wspd    pres\n",
            "time                                                           \n",
            "2021-01-01 05:30:00+05:30  20.9  20.5  98.0   0.0   9.4  1012.4\n",
            "2021-01-01 06:30:00+05:30  20.9  19.7  94.0   0.0   7.6  1014.0\n",
            "2021-01-01 07:30:00+05:30  20.9  19.7  94.0   0.0   7.6  1015.0\n",
            "2021-01-01 08:30:00+05:30  21.3  20.3  95.0   0.0   9.4  1014.9\n",
            "2021-01-01 09:30:00+05:30  22.9  18.5  78.0   0.0  24.1  1017.0\n",
            "Scaled Data Sample for coimbatore_hourly_weather.csv:\n",
            "                               temp    dwpt      rhum  prcp      wspd  \\\n",
            "time                                                                    \n",
            "2021-01-01 05:30:00+05:30  0.150943  0.6125  0.978022   0.0  0.092157   \n",
            "2021-01-01 06:30:00+05:30  0.150943  0.5625  0.934066   0.0  0.074510   \n",
            "2021-01-01 07:30:00+05:30  0.150943  0.5625  0.934066   0.0  0.074510   \n",
            "2021-01-01 08:30:00+05:30  0.169811  0.6000  0.945055   0.0  0.092157   \n",
            "2021-01-01 09:30:00+05:30  0.245283  0.4875  0.758242   0.0  0.236275   \n",
            "\n",
            "                               pres  \n",
            "time                                 \n",
            "2021-01-01 05:30:00+05:30  0.575221  \n",
            "2021-01-01 06:30:00+05:30  0.646018  \n",
            "2021-01-01 07:30:00+05:30  0.690265  \n",
            "2021-01-01 08:30:00+05:30  0.685841  \n",
            "2021-01-01 09:30:00+05:30  0.778761  \n"
          ]
        },
        {
          "name": "stderr",
          "output_type": "stream",
          "text": [
            "<ipython-input-18-3a2421fc9df1>:90: FutureWarning: DataFrame.fillna with 'method' is deprecated and will raise in a future version. Use obj.ffill() or obj.bfill() instead.\n",
            "  df = df.fillna(method='ffill').fillna(method='bfill')\n"
          ]
        },
        {
          "name": "stdout",
          "output_type": "stream",
          "text": [
            "Successfully processed and saved scaled data for: coimbatore_hourly_weather.csv to Scaled_Data_Output/coimbatore_hourly_weather_scaled.csv\n"
          ]
        },
        {
          "data": {
            "application/javascript": "\n    async function download(id, filename, size) {\n      if (!google.colab.kernel.accessAllowed) {\n        return;\n      }\n      const div = document.createElement('div');\n      const label = document.createElement('label');\n      label.textContent = `Downloading \"${filename}\": `;\n      div.appendChild(label);\n      const progress = document.createElement('progress');\n      progress.max = size;\n      div.appendChild(progress);\n      document.body.appendChild(div);\n\n      const buffers = [];\n      let downloaded = 0;\n\n      const channel = await google.colab.kernel.comms.open(id);\n      // Send a message to notify the kernel that we're ready.\n      channel.send({})\n\n      for await (const message of channel.messages) {\n        // Send a message to notify the kernel that we're ready.\n        channel.send({})\n        if (message.buffers) {\n          for (const buffer of message.buffers) {\n            buffers.push(buffer);\n            downloaded += buffer.byteLength;\n            progress.value = downloaded;\n          }\n        }\n      }\n      const blob = new Blob(buffers, {type: 'application/binary'});\n      const a = document.createElement('a');\n      a.href = window.URL.createObjectURL(blob);\n      a.download = filename;\n      div.appendChild(a);\n      a.click();\n      div.remove();\n    }\n  ",
            "text/plain": [
              "<IPython.core.display.Javascript object>"
            ]
          },
          "metadata": {},
          "output_type": "display_data"
        },
        {
          "data": {
            "application/javascript": "download(\"download_239688d2-5f5a-4cc2-bb57-58abeece9346\", \"coimbatore_hourly_weather_scaled.csv\", 4188327)",
            "text/plain": [
              "<IPython.core.display.Javascript object>"
            ]
          },
          "metadata": {},
          "output_type": "display_data"
        },
        {
          "name": "stdout",
          "output_type": "stream",
          "text": [
            "\n",
            "--- Processing dehradun_hourly_weather.csv ---\n",
            "Cleaned Data Sample for dehradun_hourly_weather.csv:\n",
            "                                temp      dwpt        rhum  prcp  wspd  \\\n",
            "time                                                                     \n",
            "2021-01-01 05:30:00+05:30   5.300000  5.300000  100.000000   0.0   0.0   \n",
            "2021-01-01 06:30:00+05:30   5.633333  5.233333   98.000000   0.0   0.0   \n",
            "2021-01-01 07:30:00+05:30   5.966667  5.166667   96.000000   0.0   0.0   \n",
            "2021-01-01 08:30:00+05:30   6.300000  5.100000   94.000000   0.0   0.0   \n",
            "2021-01-01 09:30:00+05:30  10.100000  6.033333   79.666667   0.0   0.0   \n",
            "\n",
            "                                  pres  \n",
            "time                                    \n",
            "2021-01-01 05:30:00+05:30  1018.400000  \n",
            "2021-01-01 06:30:00+05:30  1018.733333  \n",
            "2021-01-01 07:30:00+05:30  1019.066667  \n",
            "2021-01-01 08:30:00+05:30  1019.400000  \n",
            "2021-01-01 09:30:00+05:30  1018.833333  \n",
            "Scaled Data Sample for dehradun_hourly_weather.csv:\n",
            "                               temp      dwpt      rhum  prcp  wspd      pres\n",
            "time                                                                         \n",
            "2021-01-01 05:30:00+05:30  0.062035  0.291667  1.000000   0.0   0.0  0.831135\n",
            "2021-01-01 06:30:00+05:30  0.070306  0.289683  0.977273   0.0   0.0  0.839930\n",
            "2021-01-01 07:30:00+05:30  0.078577  0.287698  0.954545   0.0   0.0  0.848725\n",
            "2021-01-01 08:30:00+05:30  0.086849  0.285714  0.931818   0.0   0.0  0.857520\n",
            "2021-01-01 09:30:00+05:30  0.181141  0.313492  0.768939   0.0   0.0  0.842568\n"
          ]
        },
        {
          "name": "stderr",
          "output_type": "stream",
          "text": [
            "<ipython-input-18-3a2421fc9df1>:90: FutureWarning: DataFrame.fillna with 'method' is deprecated and will raise in a future version. Use obj.ffill() or obj.bfill() instead.\n",
            "  df = df.fillna(method='ffill').fillna(method='bfill')\n"
          ]
        },
        {
          "name": "stdout",
          "output_type": "stream",
          "text": [
            "Successfully processed and saved scaled data for: dehradun_hourly_weather.csv to Scaled_Data_Output/dehradun_hourly_weather_scaled.csv\n"
          ]
        },
        {
          "data": {
            "application/javascript": "\n    async function download(id, filename, size) {\n      if (!google.colab.kernel.accessAllowed) {\n        return;\n      }\n      const div = document.createElement('div');\n      const label = document.createElement('label');\n      label.textContent = `Downloading \"${filename}\": `;\n      div.appendChild(label);\n      const progress = document.createElement('progress');\n      progress.max = size;\n      div.appendChild(progress);\n      document.body.appendChild(div);\n\n      const buffers = [];\n      let downloaded = 0;\n\n      const channel = await google.colab.kernel.comms.open(id);\n      // Send a message to notify the kernel that we're ready.\n      channel.send({})\n\n      for await (const message of channel.messages) {\n        // Send a message to notify the kernel that we're ready.\n        channel.send({})\n        if (message.buffers) {\n          for (const buffer of message.buffers) {\n            buffers.push(buffer);\n            downloaded += buffer.byteLength;\n            progress.value = downloaded;\n          }\n        }\n      }\n      const blob = new Blob(buffers, {type: 'application/binary'});\n      const a = document.createElement('a');\n      a.href = window.URL.createObjectURL(blob);\n      a.download = filename;\n      div.appendChild(a);\n      a.click();\n      div.remove();\n    }\n  ",
            "text/plain": [
              "<IPython.core.display.Javascript object>"
            ]
          },
          "metadata": {},
          "output_type": "display_data"
        },
        {
          "data": {
            "application/javascript": "download(\"download_6e5d7413-4082-413f-b8b9-e87b49b539a1\", \"dehradun_hourly_weather_scaled.csv\", 4389979)",
            "text/plain": [
              "<IPython.core.display.Javascript object>"
            ]
          },
          "metadata": {},
          "output_type": "display_data"
        },
        {
          "name": "stdout",
          "output_type": "stream",
          "text": [
            "\n",
            "--- Processing guwahati_hourly_weather.csv ---\n",
            "Cleaned Data Sample for guwahati_hourly_weather.csv:\n",
            "                           temp  dwpt  rhum  prcp  wspd    pres\n",
            "time                                                           \n",
            "2021-01-01 05:30:00+05:30  10.8   9.8  95.0   0.0   0.0  1016.7\n",
            "2021-01-01 06:30:00+05:30   9.0   7.8  94.0   0.0   0.0  1017.0\n",
            "2021-01-01 07:30:00+05:30  10.0   8.8  94.0   0.0   0.0  1018.0\n",
            "2021-01-01 08:30:00+05:30  15.6  13.0  87.0   0.0   0.0  1018.8\n",
            "2021-01-01 09:30:00+05:30  16.0  11.4  77.0   0.0   5.4  1018.0\n",
            "Scaled Data Sample for guwahati_hourly_weather.csv:\n",
            "                               temp      dwpt      rhum  prcp      wspd  \\\n",
            "time                                                                      \n",
            "2021-01-01 05:30:00+05:30  0.062112  0.176056  0.943820   0.0  0.000000   \n",
            "2021-01-01 06:30:00+05:30  0.006211  0.105634  0.932584   0.0  0.000000   \n",
            "2021-01-01 07:30:00+05:30  0.037267  0.140845  0.932584   0.0  0.000000   \n",
            "2021-01-01 08:30:00+05:30  0.211180  0.288732  0.853933   0.0  0.000000   \n",
            "2021-01-01 09:30:00+05:30  0.223602  0.232394  0.741573   0.0  0.081081   \n",
            "\n",
            "                               pres  \n",
            "time                                 \n",
            "2021-01-01 05:30:00+05:30  0.799401  \n",
            "2021-01-01 06:30:00+05:30  0.808383  \n",
            "2021-01-01 07:30:00+05:30  0.838323  \n",
            "2021-01-01 08:30:00+05:30  0.862275  \n",
            "2021-01-01 09:30:00+05:30  0.838323  \n"
          ]
        },
        {
          "name": "stderr",
          "output_type": "stream",
          "text": [
            "<ipython-input-18-3a2421fc9df1>:90: FutureWarning: DataFrame.fillna with 'method' is deprecated and will raise in a future version. Use obj.ffill() or obj.bfill() instead.\n",
            "  df = df.fillna(method='ffill').fillna(method='bfill')\n"
          ]
        },
        {
          "name": "stdout",
          "output_type": "stream",
          "text": [
            "Successfully processed and saved scaled data for: guwahati_hourly_weather.csv to Scaled_Data_Output/guwahati_hourly_weather_scaled.csv\n"
          ]
        },
        {
          "data": {
            "application/javascript": "\n    async function download(id, filename, size) {\n      if (!google.colab.kernel.accessAllowed) {\n        return;\n      }\n      const div = document.createElement('div');\n      const label = document.createElement('label');\n      label.textContent = `Downloading \"${filename}\": `;\n      div.appendChild(label);\n      const progress = document.createElement('progress');\n      progress.max = size;\n      div.appendChild(progress);\n      document.body.appendChild(div);\n\n      const buffers = [];\n      let downloaded = 0;\n\n      const channel = await google.colab.kernel.comms.open(id);\n      // Send a message to notify the kernel that we're ready.\n      channel.send({})\n\n      for await (const message of channel.messages) {\n        // Send a message to notify the kernel that we're ready.\n        channel.send({})\n        if (message.buffers) {\n          for (const buffer of message.buffers) {\n            buffers.push(buffer);\n            downloaded += buffer.byteLength;\n            progress.value = downloaded;\n          }\n        }\n      }\n      const blob = new Blob(buffers, {type: 'application/binary'});\n      const a = document.createElement('a');\n      a.href = window.URL.createObjectURL(blob);\n      a.download = filename;\n      div.appendChild(a);\n      a.click();\n      div.remove();\n    }\n  ",
            "text/plain": [
              "<IPython.core.display.Javascript object>"
            ]
          },
          "metadata": {},
          "output_type": "display_data"
        },
        {
          "data": {
            "application/javascript": "download(\"download_262f8c07-f757-400b-9027-619960a3b2be\", \"guwahati_hourly_weather_scaled.csv\", 4259890)",
            "text/plain": [
              "<IPython.core.display.Javascript object>"
            ]
          },
          "metadata": {},
          "output_type": "display_data"
        },
        {
          "name": "stdout",
          "output_type": "stream",
          "text": [
            "\n",
            "--- Processing hyderabad_hourly_weather.csv ---\n",
            "Cleaned Data Sample for hyderabad_hourly_weather.csv:\n",
            "                           temp  dwpt   rhum  prcp  wspd    pres\n",
            "time                                                            \n",
            "2021-01-01 05:30:00+05:30  17.4  15.2   89.0   0.0   1.8  1014.2\n",
            "2021-01-01 06:30:00+05:30  17.9  17.9  100.0   0.0   0.0  1018.0\n",
            "2021-01-01 07:30:00+05:30  17.9  17.9  100.0   0.0   0.0  1018.0\n",
            "2021-01-01 08:30:00+05:30  19.9  16.9   85.0   0.0   3.6  1016.6\n",
            "2021-01-01 09:30:00+05:30  19.9  17.5   88.0   0.0   0.0  1020.0\n",
            "Scaled Data Sample for hyderabad_hourly_weather.csv:\n",
            "                               temp      dwpt      rhum  prcp      wspd  \\\n",
            "time                                                                      \n",
            "2021-01-01 05:30:00+05:30  0.224551  0.468182  0.879121   0.0  0.008824   \n",
            "2021-01-01 06:30:00+05:30  0.239521  0.590909  1.000000   0.0  0.000000   \n",
            "2021-01-01 07:30:00+05:30  0.239521  0.590909  1.000000   0.0  0.000000   \n",
            "2021-01-01 08:30:00+05:30  0.299401  0.545455  0.835165   0.0  0.017647   \n",
            "2021-01-01 09:30:00+05:30  0.299401  0.572727  0.868132   0.0  0.000000   \n",
            "\n",
            "                               pres  \n",
            "time                                 \n",
            "2021-01-01 05:30:00+05:30  0.871053  \n",
            "2021-01-01 06:30:00+05:30  0.921053  \n",
            "2021-01-01 07:30:00+05:30  0.921053  \n",
            "2021-01-01 08:30:00+05:30  0.902632  \n",
            "2021-01-01 09:30:00+05:30  0.947368  \n"
          ]
        },
        {
          "name": "stderr",
          "output_type": "stream",
          "text": [
            "<ipython-input-18-3a2421fc9df1>:90: FutureWarning: DataFrame.fillna with 'method' is deprecated and will raise in a future version. Use obj.ffill() or obj.bfill() instead.\n",
            "  df = df.fillna(method='ffill').fillna(method='bfill')\n"
          ]
        },
        {
          "name": "stdout",
          "output_type": "stream",
          "text": [
            "Successfully processed and saved scaled data for: hyderabad_hourly_weather.csv to Scaled_Data_Output/hyderabad_hourly_weather_scaled.csv\n"
          ]
        },
        {
          "data": {
            "application/javascript": "\n    async function download(id, filename, size) {\n      if (!google.colab.kernel.accessAllowed) {\n        return;\n      }\n      const div = document.createElement('div');\n      const label = document.createElement('label');\n      label.textContent = `Downloading \"${filename}\": `;\n      div.appendChild(label);\n      const progress = document.createElement('progress');\n      progress.max = size;\n      div.appendChild(progress);\n      document.body.appendChild(div);\n\n      const buffers = [];\n      let downloaded = 0;\n\n      const channel = await google.colab.kernel.comms.open(id);\n      // Send a message to notify the kernel that we're ready.\n      channel.send({})\n\n      for await (const message of channel.messages) {\n        // Send a message to notify the kernel that we're ready.\n        channel.send({})\n        if (message.buffers) {\n          for (const buffer of message.buffers) {\n            buffers.push(buffer);\n            downloaded += buffer.byteLength;\n            progress.value = downloaded;\n          }\n        }\n      }\n      const blob = new Blob(buffers, {type: 'application/binary'});\n      const a = document.createElement('a');\n      a.href = window.URL.createObjectURL(blob);\n      a.download = filename;\n      div.appendChild(a);\n      a.click();\n      div.remove();\n    }\n  ",
            "text/plain": [
              "<IPython.core.display.Javascript object>"
            ]
          },
          "metadata": {},
          "output_type": "display_data"
        },
        {
          "data": {
            "application/javascript": "download(\"download_38df590a-4f00-4328-a9d3-55d7bd1cdf20\", \"hyderabad_hourly_weather_scaled.csv\", 4386120)",
            "text/plain": [
              "<IPython.core.display.Javascript object>"
            ]
          },
          "metadata": {},
          "output_type": "display_data"
        },
        {
          "name": "stdout",
          "output_type": "stream",
          "text": [
            "\n",
            "--- Processing imphal_hourly_weather.csv ---\n",
            "Cleaned Data Sample for imphal_hourly_weather.csv:\n",
            "                           temp  dwpt  rhum  prcp  wspd    pres\n",
            "time                                                           \n",
            "2021-01-01 05:30:00+05:30   7.6   7.0  97.0   0.0   0.0  1019.7\n",
            "2021-01-01 06:30:00+05:30   5.0   3.6  93.0   0.0   5.4  1021.0\n",
            "2021-01-01 07:30:00+05:30   6.0   4.6  93.0   0.0   0.0  1021.0\n",
            "2021-01-01 08:30:00+05:30  10.6   7.2  83.0   0.0   1.8  1021.6\n",
            "2021-01-01 09:30:00+05:30  10.0   4.2  71.0   0.0   7.6  1022.0\n",
            "Scaled Data Sample for imphal_hourly_weather.csv:\n",
            "                               temp      dwpt      rhum  prcp      wspd  \\\n",
            "time                                                                      \n",
            "2021-01-01 05:30:00+05:30  0.155556  0.283951  0.965909   0.0  0.000000   \n",
            "2021-01-01 06:30:00+05:30  0.083333  0.200000  0.920455   0.0  0.027551   \n",
            "2021-01-01 07:30:00+05:30  0.111111  0.224691  0.920455   0.0  0.000000   \n",
            "2021-01-01 08:30:00+05:30  0.238889  0.288889  0.806818   0.0  0.009184   \n",
            "2021-01-01 09:30:00+05:30  0.222222  0.214815  0.670455   0.0  0.038776   \n",
            "\n",
            "                               pres  \n",
            "time                                 \n",
            "2021-01-01 05:30:00+05:30  0.825658  \n",
            "2021-01-01 06:30:00+05:30  0.868421  \n",
            "2021-01-01 07:30:00+05:30  0.868421  \n",
            "2021-01-01 08:30:00+05:30  0.888158  \n",
            "2021-01-01 09:30:00+05:30  0.901316  \n"
          ]
        },
        {
          "name": "stderr",
          "output_type": "stream",
          "text": [
            "<ipython-input-18-3a2421fc9df1>:90: FutureWarning: DataFrame.fillna with 'method' is deprecated and will raise in a future version. Use obj.ffill() or obj.bfill() instead.\n",
            "  df = df.fillna(method='ffill').fillna(method='bfill')\n"
          ]
        },
        {
          "name": "stdout",
          "output_type": "stream",
          "text": [
            "Successfully processed and saved scaled data for: imphal_hourly_weather.csv to Scaled_Data_Output/imphal_hourly_weather_scaled.csv\n"
          ]
        },
        {
          "data": {
            "application/javascript": "\n    async function download(id, filename, size) {\n      if (!google.colab.kernel.accessAllowed) {\n        return;\n      }\n      const div = document.createElement('div');\n      const label = document.createElement('label');\n      label.textContent = `Downloading \"${filename}\": `;\n      div.appendChild(label);\n      const progress = document.createElement('progress');\n      progress.max = size;\n      div.appendChild(progress);\n      document.body.appendChild(div);\n\n      const buffers = [];\n      let downloaded = 0;\n\n      const channel = await google.colab.kernel.comms.open(id);\n      // Send a message to notify the kernel that we're ready.\n      channel.send({})\n\n      for await (const message of channel.messages) {\n        // Send a message to notify the kernel that we're ready.\n        channel.send({})\n        if (message.buffers) {\n          for (const buffer of message.buffers) {\n            buffers.push(buffer);\n            downloaded += buffer.byteLength;\n            progress.value = downloaded;\n          }\n        }\n      }\n      const blob = new Blob(buffers, {type: 'application/binary'});\n      const a = document.createElement('a');\n      a.href = window.URL.createObjectURL(blob);\n      a.download = filename;\n      div.appendChild(a);\n      a.click();\n      div.remove();\n    }\n  ",
            "text/plain": [
              "<IPython.core.display.Javascript object>"
            ]
          },
          "metadata": {},
          "output_type": "display_data"
        },
        {
          "data": {
            "application/javascript": "download(\"download_f7641844-478d-4e18-a6de-9b714ba42447\", \"imphal_hourly_weather_scaled.csv\", 4396195)",
            "text/plain": [
              "<IPython.core.display.Javascript object>"
            ]
          },
          "metadata": {},
          "output_type": "display_data"
        },
        {
          "name": "stdout",
          "output_type": "stream",
          "text": [
            "\n",
            "--- Processing jaipur_hourly_weather.csv ---\n",
            "Cleaned Data Sample for jaipur_hourly_weather.csv:\n",
            "                           temp  dwpt  rhum  prcp  wspd    pres\n",
            "time                                                           \n",
            "2021-01-01 05:30:00+05:30   9.5   4.3  74.0   0.0   3.6  1017.8\n",
            "2021-01-01 06:30:00+05:30   9.7   2.9  66.0   0.0   5.4  1016.0\n",
            "2021-01-01 07:30:00+05:30   9.7   2.1  62.0   0.0   5.4  1017.0\n",
            "2021-01-01 08:30:00+05:30  11.1   3.1  60.0   0.0   5.4  1019.2\n",
            "2021-01-01 09:30:00+05:30  12.7   1.5  44.0   0.0   9.4  1019.0\n",
            "Scaled Data Sample for jaipur_hourly_weather.csv:\n",
            "                               temp      dwpt  rhum  prcp      wspd      pres\n",
            "time                                                                         \n",
            "2021-01-01 05:30:00+05:30  0.177273  0.335135  0.74   0.0  0.033645  0.747945\n",
            "2021-01-01 06:30:00+05:30  0.181818  0.297297  0.66   0.0  0.050467  0.698630\n",
            "2021-01-01 07:30:00+05:30  0.181818  0.275676  0.62   0.0  0.050467  0.726027\n",
            "2021-01-01 08:30:00+05:30  0.213636  0.302703  0.60   0.0  0.050467  0.786301\n",
            "2021-01-01 09:30:00+05:30  0.250000  0.259459  0.44   0.0  0.087850  0.780822\n"
          ]
        },
        {
          "name": "stderr",
          "output_type": "stream",
          "text": [
            "<ipython-input-18-3a2421fc9df1>:90: FutureWarning: DataFrame.fillna with 'method' is deprecated and will raise in a future version. Use obj.ffill() or obj.bfill() instead.\n",
            "  df = df.fillna(method='ffill').fillna(method='bfill')\n"
          ]
        },
        {
          "name": "stdout",
          "output_type": "stream",
          "text": [
            "Successfully processed and saved scaled data for: jaipur_hourly_weather.csv to Scaled_Data_Output/jaipur_hourly_weather_scaled.csv\n"
          ]
        },
        {
          "data": {
            "application/javascript": "\n    async function download(id, filename, size) {\n      if (!google.colab.kernel.accessAllowed) {\n        return;\n      }\n      const div = document.createElement('div');\n      const label = document.createElement('label');\n      label.textContent = `Downloading \"${filename}\": `;\n      div.appendChild(label);\n      const progress = document.createElement('progress');\n      progress.max = size;\n      div.appendChild(progress);\n      document.body.appendChild(div);\n\n      const buffers = [];\n      let downloaded = 0;\n\n      const channel = await google.colab.kernel.comms.open(id);\n      // Send a message to notify the kernel that we're ready.\n      channel.send({})\n\n      for await (const message of channel.messages) {\n        // Send a message to notify the kernel that we're ready.\n        channel.send({})\n        if (message.buffers) {\n          for (const buffer of message.buffers) {\n            buffers.push(buffer);\n            downloaded += buffer.byteLength;\n            progress.value = downloaded;\n          }\n        }\n      }\n      const blob = new Blob(buffers, {type: 'application/binary'});\n      const a = document.createElement('a');\n      a.href = window.URL.createObjectURL(blob);\n      a.download = filename;\n      div.appendChild(a);\n      a.click();\n      div.remove();\n    }\n  ",
            "text/plain": [
              "<IPython.core.display.Javascript object>"
            ]
          },
          "metadata": {},
          "output_type": "display_data"
        },
        {
          "data": {
            "application/javascript": "download(\"download_b6a40e9d-a75f-44c9-a070-e6377b31b70d\", \"jaipur_hourly_weather_scaled.csv\", 3928558)",
            "text/plain": [
              "<IPython.core.display.Javascript object>"
            ]
          },
          "metadata": {},
          "output_type": "display_data"
        },
        {
          "name": "stdout",
          "output_type": "stream",
          "text": [
            "\n",
            "--- Processing jaisalmer_hourly_weather.csv ---\n",
            "Cleaned Data Sample for jaisalmer_hourly_weather.csv:\n",
            "                           temp      dwpt       rhum  prcp      wspd  \\\n",
            "time                                                                   \n",
            "2021-01-01 05:30:00+05:30   6.4 -0.600000  65.000000   0.0  1.800000   \n",
            "2021-01-01 06:30:00+05:30   6.6 -0.533333  64.333333   0.0  2.400000   \n",
            "2021-01-01 07:30:00+05:30   6.8 -0.466667  63.666667   0.0  3.000000   \n",
            "2021-01-01 08:30:00+05:30   7.0 -0.400000  63.000000   0.0  3.600000   \n",
            "2021-01-01 09:30:00+05:30  10.0  0.533333  52.666667   0.0  4.933333   \n",
            "\n",
            "                                  pres  \n",
            "time                                    \n",
            "2021-01-01 05:30:00+05:30  1014.700000  \n",
            "2021-01-01 06:30:00+05:30  1015.100000  \n",
            "2021-01-01 07:30:00+05:30  1015.500000  \n",
            "2021-01-01 08:30:00+05:30  1015.900000  \n",
            "2021-01-01 09:30:00+05:30  1015.733333  \n",
            "Scaled Data Sample for jaisalmer_hourly_weather.csv:\n",
            "                               temp      dwpt      rhum  prcp      wspd  \\\n",
            "time                                                                      \n",
            "2021-01-01 05:30:00+05:30  0.065022  0.155844  0.639175   0.0  0.032491   \n",
            "2021-01-01 06:30:00+05:30  0.069507  0.157576  0.632302   0.0  0.043321   \n",
            "2021-01-01 07:30:00+05:30  0.073991  0.159307  0.625430   0.0  0.054152   \n",
            "2021-01-01 08:30:00+05:30  0.078475  0.161039  0.618557   0.0  0.064982   \n",
            "2021-01-01 09:30:00+05:30  0.145740  0.185281  0.512027   0.0  0.089049   \n",
            "\n",
            "                               pres  \n",
            "time                                 \n",
            "2021-01-01 05:30:00+05:30  0.725888  \n",
            "2021-01-01 06:30:00+05:30  0.736041  \n",
            "2021-01-01 07:30:00+05:30  0.746193  \n",
            "2021-01-01 08:30:00+05:30  0.756345  \n",
            "2021-01-01 09:30:00+05:30  0.752115  \n"
          ]
        },
        {
          "name": "stderr",
          "output_type": "stream",
          "text": [
            "<ipython-input-18-3a2421fc9df1>:90: FutureWarning: DataFrame.fillna with 'method' is deprecated and will raise in a future version. Use obj.ffill() or obj.bfill() instead.\n",
            "  df = df.fillna(method='ffill').fillna(method='bfill')\n"
          ]
        },
        {
          "name": "stdout",
          "output_type": "stream",
          "text": [
            "Successfully processed and saved scaled data for: jaisalmer_hourly_weather.csv to Scaled_Data_Output/jaisalmer_hourly_weather_scaled.csv\n"
          ]
        },
        {
          "data": {
            "application/javascript": "\n    async function download(id, filename, size) {\n      if (!google.colab.kernel.accessAllowed) {\n        return;\n      }\n      const div = document.createElement('div');\n      const label = document.createElement('label');\n      label.textContent = `Downloading \"${filename}\": `;\n      div.appendChild(label);\n      const progress = document.createElement('progress');\n      progress.max = size;\n      div.appendChild(progress);\n      document.body.appendChild(div);\n\n      const buffers = [];\n      let downloaded = 0;\n\n      const channel = await google.colab.kernel.comms.open(id);\n      // Send a message to notify the kernel that we're ready.\n      channel.send({})\n\n      for await (const message of channel.messages) {\n        // Send a message to notify the kernel that we're ready.\n        channel.send({})\n        if (message.buffers) {\n          for (const buffer of message.buffers) {\n            buffers.push(buffer);\n            downloaded += buffer.byteLength;\n            progress.value = downloaded;\n          }\n        }\n      }\n      const blob = new Blob(buffers, {type: 'application/binary'});\n      const a = document.createElement('a');\n      a.href = window.URL.createObjectURL(blob);\n      a.download = filename;\n      div.appendChild(a);\n      a.click();\n      div.remove();\n    }\n  ",
            "text/plain": [
              "<IPython.core.display.Javascript object>"
            ]
          },
          "metadata": {},
          "output_type": "display_data"
        },
        {
          "data": {
            "application/javascript": "download(\"download_6f3e21d4-2a38-4116-9e4b-507f888a0459\", \"jaisalmer_hourly_weather_scaled.csv\", 4414866)",
            "text/plain": [
              "<IPython.core.display.Javascript object>"
            ]
          },
          "metadata": {},
          "output_type": "display_data"
        },
        {
          "name": "stdout",
          "output_type": "stream",
          "text": [
            "\n",
            "--- Processing kochi_hourly_weather.csv ---\n",
            "Cleaned Data Sample for kochi_hourly_weather.csv:\n",
            "                           temp  dwpt  rhum  prcp  wspd    pres\n",
            "time                                                           \n",
            "2021-01-01 05:30:00+05:30  24.0  23.0  95.0   0.0   0.0  1009.0\n",
            "2021-01-01 06:30:00+05:30  23.0  21.8  94.0   0.0   0.0  1009.0\n",
            "2021-01-01 07:30:00+05:30  24.0  22.8  94.0   0.0   0.0  1010.0\n",
            "2021-01-01 08:30:00+05:30  26.6  21.4  74.0   0.0   9.4  1011.4\n",
            "2021-01-01 09:30:00+05:30  27.0  21.0  70.0   0.0  13.0  1011.0\n",
            "Scaled Data Sample for kochi_hourly_weather.csv:\n",
            "                               temp      dwpt      rhum  prcp      wspd  \\\n",
            "time                                                                      \n",
            "2021-01-01 05:30:00+05:30  0.263158  0.615385  0.927536   0.0  0.000000   \n",
            "2021-01-01 06:30:00+05:30  0.204678  0.538462  0.913043   0.0  0.000000   \n",
            "2021-01-01 07:30:00+05:30  0.263158  0.602564  0.913043   0.0  0.000000   \n",
            "2021-01-01 08:30:00+05:30  0.415205  0.512821  0.623188   0.0  0.055100   \n",
            "2021-01-01 09:30:00+05:30  0.438596  0.487179  0.565217   0.0  0.076202   \n",
            "\n",
            "                               pres  \n",
            "time                                 \n",
            "2021-01-01 05:30:00+05:30  0.449735  \n",
            "2021-01-01 06:30:00+05:30  0.449735  \n",
            "2021-01-01 07:30:00+05:30  0.502646  \n",
            "2021-01-01 08:30:00+05:30  0.576720  \n",
            "2021-01-01 09:30:00+05:30  0.555556  \n"
          ]
        },
        {
          "name": "stderr",
          "output_type": "stream",
          "text": [
            "<ipython-input-18-3a2421fc9df1>:90: FutureWarning: DataFrame.fillna with 'method' is deprecated and will raise in a future version. Use obj.ffill() or obj.bfill() instead.\n",
            "  df = df.fillna(method='ffill').fillna(method='bfill')\n"
          ]
        },
        {
          "name": "stdout",
          "output_type": "stream",
          "text": [
            "Successfully processed and saved scaled data for: kochi_hourly_weather.csv to Scaled_Data_Output/kochi_hourly_weather_scaled.csv\n"
          ]
        },
        {
          "data": {
            "application/javascript": "\n    async function download(id, filename, size) {\n      if (!google.colab.kernel.accessAllowed) {\n        return;\n      }\n      const div = document.createElement('div');\n      const label = document.createElement('label');\n      label.textContent = `Downloading \"${filename}\": `;\n      div.appendChild(label);\n      const progress = document.createElement('progress');\n      progress.max = size;\n      div.appendChild(progress);\n      document.body.appendChild(div);\n\n      const buffers = [];\n      let downloaded = 0;\n\n      const channel = await google.colab.kernel.comms.open(id);\n      // Send a message to notify the kernel that we're ready.\n      channel.send({})\n\n      for await (const message of channel.messages) {\n        // Send a message to notify the kernel that we're ready.\n        channel.send({})\n        if (message.buffers) {\n          for (const buffer of message.buffers) {\n            buffers.push(buffer);\n            downloaded += buffer.byteLength;\n            progress.value = downloaded;\n          }\n        }\n      }\n      const blob = new Blob(buffers, {type: 'application/binary'});\n      const a = document.createElement('a');\n      a.href = window.URL.createObjectURL(blob);\n      a.download = filename;\n      div.appendChild(a);\n      a.click();\n      div.remove();\n    }\n  ",
            "text/plain": [
              "<IPython.core.display.Javascript object>"
            ]
          },
          "metadata": {},
          "output_type": "display_data"
        },
        {
          "data": {
            "application/javascript": "download(\"download_0045608c-b063-4665-a429-203c056889fc\", \"kochi_hourly_weather_scaled.csv\", 4648298)",
            "text/plain": [
              "<IPython.core.display.Javascript object>"
            ]
          },
          "metadata": {},
          "output_type": "display_data"
        },
        {
          "name": "stdout",
          "output_type": "stream",
          "text": [
            "\n",
            "--- Processing kolkata_hourly_weather.csv ---\n",
            "Cleaned Data Sample for kolkata_hourly_weather.csv:\n",
            "                           temp  dwpt  rhum  prcp  wspd    pres\n",
            "time                                                           \n",
            "2021-01-01 05:30:00+05:30  15.4   9.0  68.0   0.0   3.6  1016.2\n",
            "2021-01-01 06:30:00+05:30  13.0   9.4  82.0   0.0   7.6  1015.0\n",
            "2021-01-01 07:30:00+05:30  13.0   9.4  82.0   0.0   5.4  1017.0\n",
            "2021-01-01 08:30:00+05:30  16.4   9.6  66.0   0.0   3.6  1018.3\n",
            "2021-01-01 09:30:00+05:30  18.0  10.0  60.0   0.0   5.4  1018.0\n",
            "Scaled Data Sample for kolkata_hourly_weather.csv:\n",
            "                               temp      dwpt      rhum  prcp      wspd  \\\n",
            "time                                                                      \n",
            "2021-01-01 05:30:00+05:30  0.164671  0.169231  0.640449   0.0  0.048518   \n",
            "2021-01-01 06:30:00+05:30  0.092814  0.184615  0.797753   0.0  0.102426   \n",
            "2021-01-01 07:30:00+05:30  0.092814  0.184615  0.797753   0.0  0.072776   \n",
            "2021-01-01 08:30:00+05:30  0.194611  0.192308  0.617978   0.0  0.048518   \n",
            "2021-01-01 09:30:00+05:30  0.242515  0.207692  0.550562   0.0  0.072776   \n",
            "\n",
            "                               pres  \n",
            "time                                 \n",
            "2021-01-01 05:30:00+05:30  0.868201  \n",
            "2021-01-01 06:30:00+05:30  0.843096  \n",
            "2021-01-01 07:30:00+05:30  0.884937  \n",
            "2021-01-01 08:30:00+05:30  0.912134  \n",
            "2021-01-01 09:30:00+05:30  0.905858  \n"
          ]
        },
        {
          "name": "stderr",
          "output_type": "stream",
          "text": [
            "<ipython-input-18-3a2421fc9df1>:90: FutureWarning: DataFrame.fillna with 'method' is deprecated and will raise in a future version. Use obj.ffill() or obj.bfill() instead.\n",
            "  df = df.fillna(method='ffill').fillna(method='bfill')\n"
          ]
        },
        {
          "name": "stdout",
          "output_type": "stream",
          "text": [
            "Successfully processed and saved scaled data for: kolkata_hourly_weather.csv to Scaled_Data_Output/kolkata_hourly_weather_scaled.csv\n"
          ]
        },
        {
          "data": {
            "application/javascript": "\n    async function download(id, filename, size) {\n      if (!google.colab.kernel.accessAllowed) {\n        return;\n      }\n      const div = document.createElement('div');\n      const label = document.createElement('label');\n      label.textContent = `Downloading \"${filename}\": `;\n      div.appendChild(label);\n      const progress = document.createElement('progress');\n      progress.max = size;\n      div.appendChild(progress);\n      document.body.appendChild(div);\n\n      const buffers = [];\n      let downloaded = 0;\n\n      const channel = await google.colab.kernel.comms.open(id);\n      // Send a message to notify the kernel that we're ready.\n      channel.send({})\n\n      for await (const message of channel.messages) {\n        // Send a message to notify the kernel that we're ready.\n        channel.send({})\n        if (message.buffers) {\n          for (const buffer of message.buffers) {\n            buffers.push(buffer);\n            downloaded += buffer.byteLength;\n            progress.value = downloaded;\n          }\n        }\n      }\n      const blob = new Blob(buffers, {type: 'application/binary'});\n      const a = document.createElement('a');\n      a.href = window.URL.createObjectURL(blob);\n      a.download = filename;\n      div.appendChild(a);\n      a.click();\n      div.remove();\n    }\n  ",
            "text/plain": [
              "<IPython.core.display.Javascript object>"
            ]
          },
          "metadata": {},
          "output_type": "display_data"
        },
        {
          "data": {
            "application/javascript": "download(\"download_e50448b5-d5ed-43ec-81fc-699b5d208dbc\", \"kolkata_hourly_weather_scaled.csv\", 4425463)",
            "text/plain": [
              "<IPython.core.display.Javascript object>"
            ]
          },
          "metadata": {},
          "output_type": "display_data"
        },
        {
          "name": "stdout",
          "output_type": "stream",
          "text": [
            "\n",
            "--- Processing lucknow_hourly_weather.csv ---\n",
            "Cleaned Data Sample for lucknow_hourly_weather.csv:\n",
            "                           temp  dwpt  rhum  prcp  wspd    pres\n",
            "time                                                           \n",
            "2021-01-01 05:30:00+05:30   3.6   2.2  93.0   0.0   0.0  1018.4\n",
            "2021-01-01 06:30:00+05:30   2.0  -0.6  87.0   0.0   0.0  1017.0\n",
            "2021-01-01 07:30:00+05:30   1.0  -0.4  93.0   0.0   0.0  1018.0\n",
            "2021-01-01 08:30:00+05:30   3.0   1.0  90.0   0.0   0.0  1021.1\n",
            "2021-01-01 09:30:00+05:30   7.0   2.2  76.0   0.0   0.0  1021.0\n",
            "Scaled Data Sample for lucknow_hourly_weather.csv:\n",
            "                               temp      dwpt      rhum  prcp  wspd      pres\n",
            "time                                                                         \n",
            "2021-01-01 05:30:00+05:30  0.058036  0.084337  0.923913   0.0   0.0  0.776567\n",
            "2021-01-01 06:30:00+05:30  0.022321  0.000000  0.858696   0.0   0.0  0.738420\n",
            "2021-01-01 07:30:00+05:30  0.000000  0.006024  0.923913   0.0   0.0  0.765668\n",
            "2021-01-01 08:30:00+05:30  0.044643  0.048193  0.891304   0.0   0.0  0.850136\n",
            "2021-01-01 09:30:00+05:30  0.133929  0.084337  0.739130   0.0   0.0  0.847411\n"
          ]
        },
        {
          "name": "stderr",
          "output_type": "stream",
          "text": [
            "<ipython-input-18-3a2421fc9df1>:90: FutureWarning: DataFrame.fillna with 'method' is deprecated and will raise in a future version. Use obj.ffill() or obj.bfill() instead.\n",
            "  df = df.fillna(method='ffill').fillna(method='bfill')\n"
          ]
        },
        {
          "name": "stdout",
          "output_type": "stream",
          "text": [
            "Successfully processed and saved scaled data for: lucknow_hourly_weather.csv to Scaled_Data_Output/lucknow_hourly_weather_scaled.csv\n"
          ]
        },
        {
          "data": {
            "application/javascript": "\n    async function download(id, filename, size) {\n      if (!google.colab.kernel.accessAllowed) {\n        return;\n      }\n      const div = document.createElement('div');\n      const label = document.createElement('label');\n      label.textContent = `Downloading \"${filename}\": `;\n      div.appendChild(label);\n      const progress = document.createElement('progress');\n      progress.max = size;\n      div.appendChild(progress);\n      document.body.appendChild(div);\n\n      const buffers = [];\n      let downloaded = 0;\n\n      const channel = await google.colab.kernel.comms.open(id);\n      // Send a message to notify the kernel that we're ready.\n      channel.send({})\n\n      for await (const message of channel.messages) {\n        // Send a message to notify the kernel that we're ready.\n        channel.send({})\n        if (message.buffers) {\n          for (const buffer of message.buffers) {\n            buffers.push(buffer);\n            downloaded += buffer.byteLength;\n            progress.value = downloaded;\n          }\n        }\n      }\n      const blob = new Blob(buffers, {type: 'application/binary'});\n      const a = document.createElement('a');\n      a.href = window.URL.createObjectURL(blob);\n      a.download = filename;\n      div.appendChild(a);\n      a.click();\n      div.remove();\n    }\n  ",
            "text/plain": [
              "<IPython.core.display.Javascript object>"
            ]
          },
          "metadata": {},
          "output_type": "display_data"
        },
        {
          "data": {
            "application/javascript": "download(\"download_03793719-85cc-4425-83e7-6961fc5dfbe1\", \"lucknow_hourly_weather_scaled.csv\", 4235154)",
            "text/plain": [
              "<IPython.core.display.Javascript object>"
            ]
          },
          "metadata": {},
          "output_type": "display_data"
        },
        {
          "name": "stdout",
          "output_type": "stream",
          "text": [
            "\n",
            "--- Processing mumbai_hourly_weather.csv ---\n",
            "Cleaned Data Sample for mumbai_hourly_weather.csv:\n",
            "                           temp  dwpt  rhum  prcp  wspd    pres\n",
            "time                                                           \n",
            "2021-01-01 05:30:00+05:30  22.0  18.8  84.0   0.0   0.0  1010.4\n",
            "2021-01-01 06:30:00+05:30  24.0  18.8  74.0   0.0   7.6  1011.0\n",
            "2021-01-01 07:30:00+05:30  24.0  18.8  74.0   0.0   7.6  1012.0\n",
            "2021-01-01 08:30:00+05:30  22.0  19.2  86.0   0.0   0.0  1012.4\n",
            "2021-01-01 09:30:00+05:30  28.0  19.6  58.0   0.0   0.0  1013.0\n",
            "Scaled Data Sample for mumbai_hourly_weather.csv:\n",
            "                               temp      dwpt      rhum  prcp      wspd  \\\n",
            "time                                                                      \n",
            "2021-01-01 05:30:00+05:30  0.291045  0.564103  0.824176   0.0  0.000000   \n",
            "2021-01-01 06:30:00+05:30  0.365672  0.564103  0.714286   0.0  0.063866   \n",
            "2021-01-01 07:30:00+05:30  0.365672  0.564103  0.714286   0.0  0.063866   \n",
            "2021-01-01 08:30:00+05:30  0.291045  0.581197  0.846154   0.0  0.000000   \n",
            "2021-01-01 09:30:00+05:30  0.514925  0.598291  0.538462   0.0  0.000000   \n",
            "\n",
            "                               pres  \n",
            "time                                 \n",
            "2021-01-01 05:30:00+05:30  0.669231  \n",
            "2021-01-01 06:30:00+05:30  0.692308  \n",
            "2021-01-01 07:30:00+05:30  0.730769  \n",
            "2021-01-01 08:30:00+05:30  0.746154  \n",
            "2021-01-01 09:30:00+05:30  0.769231  \n"
          ]
        },
        {
          "name": "stderr",
          "output_type": "stream",
          "text": [
            "<ipython-input-18-3a2421fc9df1>:90: FutureWarning: DataFrame.fillna with 'method' is deprecated and will raise in a future version. Use obj.ffill() or obj.bfill() instead.\n",
            "  df = df.fillna(method='ffill').fillna(method='bfill')\n"
          ]
        },
        {
          "name": "stdout",
          "output_type": "stream",
          "text": [
            "Successfully processed and saved scaled data for: mumbai_hourly_weather.csv to Scaled_Data_Output/mumbai_hourly_weather_scaled.csv\n"
          ]
        },
        {
          "data": {
            "application/javascript": "\n    async function download(id, filename, size) {\n      if (!google.colab.kernel.accessAllowed) {\n        return;\n      }\n      const div = document.createElement('div');\n      const label = document.createElement('label');\n      label.textContent = `Downloading \"${filename}\": `;\n      div.appendChild(label);\n      const progress = document.createElement('progress');\n      progress.max = size;\n      div.appendChild(progress);\n      document.body.appendChild(div);\n\n      const buffers = [];\n      let downloaded = 0;\n\n      const channel = await google.colab.kernel.comms.open(id);\n      // Send a message to notify the kernel that we're ready.\n      channel.send({})\n\n      for await (const message of channel.messages) {\n        // Send a message to notify the kernel that we're ready.\n        channel.send({})\n        if (message.buffers) {\n          for (const buffer of message.buffers) {\n            buffers.push(buffer);\n            downloaded += buffer.byteLength;\n            progress.value = downloaded;\n          }\n        }\n      }\n      const blob = new Blob(buffers, {type: 'application/binary'});\n      const a = document.createElement('a');\n      a.href = window.URL.createObjectURL(blob);\n      a.download = filename;\n      div.appendChild(a);\n      a.click();\n      div.remove();\n    }\n  ",
            "text/plain": [
              "<IPython.core.display.Javascript object>"
            ]
          },
          "metadata": {},
          "output_type": "display_data"
        },
        {
          "data": {
            "application/javascript": "download(\"download_1e705991-12b7-467f-a841-33672ba5b5b9\", \"mumbai_hourly_weather_scaled.csv\", 4454574)",
            "text/plain": [
              "<IPython.core.display.Javascript object>"
            ]
          },
          "metadata": {},
          "output_type": "display_data"
        },
        {
          "name": "stdout",
          "output_type": "stream",
          "text": [
            "\n",
            "--- Processing mysuru_hourly_weather.csv ---\n",
            "Cleaned Data Sample for mysuru_hourly_weather.csv:\n",
            "                           temp  dwpt  rhum  prcp  wspd    pres\n",
            "time                                                           \n",
            "2021-01-01 06:30:00+05:30  17.0  15.8  94.0   0.0   9.0  1016.0\n",
            "2021-01-01 07:30:00+05:30  19.0  16.6  88.0   0.0  13.0  1016.0\n",
            "2021-01-01 08:30:00+05:30  19.0  16.6  88.0   0.0  15.0  1017.0\n",
            "2021-01-01 09:30:00+05:30  22.0  16.6  73.0   0.0  19.0  1017.0\n",
            "2021-01-01 10:30:00+05:30  22.0  16.6  73.0   0.0  15.0  1018.0\n",
            "Scaled Data Sample for mysuru_hourly_weather.csv:\n",
            "                               temp      dwpt  rhum  prcp      wspd      pres\n",
            "time                                                                         \n",
            "2021-01-01 06:30:00+05:30  0.403226  0.631579  0.94   0.0  0.059250  0.201282\n",
            "2021-01-01 07:30:00+05:30  0.456989  0.654971  0.88   0.0  0.085583  0.201282\n",
            "2021-01-01 08:30:00+05:30  0.456989  0.654971  0.88   0.0  0.098749  0.214103\n",
            "2021-01-01 09:30:00+05:30  0.537634  0.654971  0.73   0.0  0.125082  0.214103\n",
            "2021-01-01 10:30:00+05:30  0.537634  0.654971  0.73   0.0  0.098749  0.226923\n"
          ]
        },
        {
          "name": "stderr",
          "output_type": "stream",
          "text": [
            "<ipython-input-18-3a2421fc9df1>:90: FutureWarning: DataFrame.fillna with 'method' is deprecated and will raise in a future version. Use obj.ffill() or obj.bfill() instead.\n",
            "  df = df.fillna(method='ffill').fillna(method='bfill')\n"
          ]
        },
        {
          "name": "stdout",
          "output_type": "stream",
          "text": [
            "Successfully processed and saved scaled data for: mysuru_hourly_weather.csv to Scaled_Data_Output/mysuru_hourly_weather_scaled.csv\n"
          ]
        },
        {
          "data": {
            "application/javascript": "\n    async function download(id, filename, size) {\n      if (!google.colab.kernel.accessAllowed) {\n        return;\n      }\n      const div = document.createElement('div');\n      const label = document.createElement('label');\n      label.textContent = `Downloading \"${filename}\": `;\n      div.appendChild(label);\n      const progress = document.createElement('progress');\n      progress.max = size;\n      div.appendChild(progress);\n      document.body.appendChild(div);\n\n      const buffers = [];\n      let downloaded = 0;\n\n      const channel = await google.colab.kernel.comms.open(id);\n      // Send a message to notify the kernel that we're ready.\n      channel.send({})\n\n      for await (const message of channel.messages) {\n        // Send a message to notify the kernel that we're ready.\n        channel.send({})\n        if (message.buffers) {\n          for (const buffer of message.buffers) {\n            buffers.push(buffer);\n            downloaded += buffer.byteLength;\n            progress.value = downloaded;\n          }\n        }\n      }\n      const blob = new Blob(buffers, {type: 'application/binary'});\n      const a = document.createElement('a');\n      a.href = window.URL.createObjectURL(blob);\n      a.download = filename;\n      div.appendChild(a);\n      a.click();\n      div.remove();\n    }\n  ",
            "text/plain": [
              "<IPython.core.display.Javascript object>"
            ]
          },
          "metadata": {},
          "output_type": "display_data"
        },
        {
          "data": {
            "application/javascript": "download(\"download_f169b4e9-75fb-40eb-9b87-c628247c01f9\", \"mysuru_hourly_weather_scaled.csv\", 4125765)",
            "text/plain": [
              "<IPython.core.display.Javascript object>"
            ]
          },
          "metadata": {},
          "output_type": "display_data"
        },
        {
          "name": "stdout",
          "output_type": "stream",
          "text": [
            "\n",
            "--- Processing nagpur_hourly_weather.csv ---\n",
            "Cleaned Data Sample for nagpur_hourly_weather.csv:\n",
            "                           temp  dwpt  rhum  prcp  wspd    pres\n",
            "time                                                           \n",
            "2021-01-01 05:30:00+05:30  13.0  10.6  88.0   0.0   0.0  1016.0\n",
            "2021-01-01 06:30:00+05:30  14.0  10.4  82.0   0.0   0.0  1017.0\n",
            "2021-01-01 07:30:00+05:30  15.0  11.4  82.0   0.0   5.4  1018.0\n",
            "2021-01-01 08:30:00+05:30  17.0  12.4  77.0   0.0   0.0  1019.0\n",
            "2021-01-01 09:30:00+05:30  21.0  13.0  60.0   0.0   7.6  1019.0\n",
            "Scaled Data Sample for nagpur_hourly_weather.csv:\n",
            "                               temp     dwpt  rhum  prcp      wspd      pres\n",
            "time                                                                        \n",
            "2021-01-01 05:30:00+05:30  0.254630  0.30625  0.88   0.0  0.000000  0.843137\n",
            "2021-01-01 06:30:00+05:30  0.277778  0.30000  0.82   0.0  0.000000  0.862745\n",
            "2021-01-01 07:30:00+05:30  0.300926  0.33125  0.82   0.0  0.063306  0.882353\n",
            "2021-01-01 08:30:00+05:30  0.347222  0.36250  0.77   0.0  0.000000  0.901961\n",
            "2021-01-01 09:30:00+05:30  0.439815  0.38125  0.60   0.0  0.089097  0.901961\n"
          ]
        },
        {
          "name": "stderr",
          "output_type": "stream",
          "text": [
            "<ipython-input-18-3a2421fc9df1>:90: FutureWarning: DataFrame.fillna with 'method' is deprecated and will raise in a future version. Use obj.ffill() or obj.bfill() instead.\n",
            "  df = df.fillna(method='ffill').fillna(method='bfill')\n"
          ]
        },
        {
          "name": "stdout",
          "output_type": "stream",
          "text": [
            "Successfully processed and saved scaled data for: nagpur_hourly_weather.csv to Scaled_Data_Output/nagpur_hourly_weather_scaled.csv\n"
          ]
        },
        {
          "data": {
            "application/javascript": "\n    async function download(id, filename, size) {\n      if (!google.colab.kernel.accessAllowed) {\n        return;\n      }\n      const div = document.createElement('div');\n      const label = document.createElement('label');\n      label.textContent = `Downloading \"${filename}\": `;\n      div.appendChild(label);\n      const progress = document.createElement('progress');\n      progress.max = size;\n      div.appendChild(progress);\n      document.body.appendChild(div);\n\n      const buffers = [];\n      let downloaded = 0;\n\n      const channel = await google.colab.kernel.comms.open(id);\n      // Send a message to notify the kernel that we're ready.\n      channel.send({})\n\n      for await (const message of channel.messages) {\n        // Send a message to notify the kernel that we're ready.\n        channel.send({})\n        if (message.buffers) {\n          for (const buffer of message.buffers) {\n            buffers.push(buffer);\n            downloaded += buffer.byteLength;\n            progress.value = downloaded;\n          }\n        }\n      }\n      const blob = new Blob(buffers, {type: 'application/binary'});\n      const a = document.createElement('a');\n      a.href = window.URL.createObjectURL(blob);\n      a.download = filename;\n      div.appendChild(a);\n      a.click();\n      div.remove();\n    }\n  ",
            "text/plain": [
              "<IPython.core.display.Javascript object>"
            ]
          },
          "metadata": {},
          "output_type": "display_data"
        },
        {
          "data": {
            "application/javascript": "download(\"download_65f4e78c-df91-46b8-ad5a-a042ff340c7c\", \"nagpur_hourly_weather_scaled.csv\", 3929231)",
            "text/plain": [
              "<IPython.core.display.Javascript object>"
            ]
          },
          "metadata": {},
          "output_type": "display_data"
        },
        {
          "name": "stdout",
          "output_type": "stream",
          "text": [
            "\n",
            "--- Processing nashik_hourly_weather.csv ---\n",
            "Cleaned Data Sample for nashik_hourly_weather.csv:\n",
            "                                temp       dwpt       rhum  prcp      wspd  \\\n",
            "time                                                                         \n",
            "2021-01-01 05:30:00+05:30  18.200000  13.800000  78.000000   0.0  7.600000   \n",
            "2021-01-01 06:30:00+05:30  18.366667  13.900000  77.666667   0.0  6.266667   \n",
            "2021-01-01 07:30:00+05:30  18.533333  14.000000  77.333333   0.0  4.933333   \n",
            "2021-01-01 08:30:00+05:30  18.700000  14.100000  77.000000   0.0  3.600000   \n",
            "2021-01-01 09:30:00+05:30  20.766667  15.033333  71.333333   0.0  3.600000   \n",
            "\n",
            "                             pres  \n",
            "time                               \n",
            "2021-01-01 05:30:00+05:30  1013.6  \n",
            "2021-01-01 06:30:00+05:30  1014.3  \n",
            "2021-01-01 07:30:00+05:30  1015.0  \n",
            "2021-01-01 08:30:00+05:30  1015.7  \n",
            "2021-01-01 09:30:00+05:30  1015.6  \n",
            "Scaled Data Sample for nashik_hourly_weather.csv:\n",
            "                               temp      dwpt      rhum  prcp      wspd  \\\n",
            "time                                                                      \n",
            "2021-01-01 05:30:00+05:30  0.308824  0.458333  0.763441   0.0  0.093366   \n",
            "2021-01-01 06:30:00+05:30  0.313725  0.461806  0.759857   0.0  0.076986   \n",
            "2021-01-01 07:30:00+05:30  0.318627  0.465278  0.756272   0.0  0.060606   \n",
            "2021-01-01 08:30:00+05:30  0.323529  0.468750  0.752688   0.0  0.044226   \n",
            "2021-01-01 09:30:00+05:30  0.384314  0.501157  0.691756   0.0  0.044226   \n",
            "\n",
            "                               pres  \n",
            "time                                 \n",
            "2021-01-01 05:30:00+05:30  0.706714  \n",
            "2021-01-01 06:30:00+05:30  0.731449  \n",
            "2021-01-01 07:30:00+05:30  0.756184  \n",
            "2021-01-01 08:30:00+05:30  0.780919  \n",
            "2021-01-01 09:30:00+05:30  0.777385  \n"
          ]
        },
        {
          "name": "stderr",
          "output_type": "stream",
          "text": [
            "<ipython-input-18-3a2421fc9df1>:90: FutureWarning: DataFrame.fillna with 'method' is deprecated and will raise in a future version. Use obj.ffill() or obj.bfill() instead.\n",
            "  df = df.fillna(method='ffill').fillna(method='bfill')\n"
          ]
        },
        {
          "name": "stdout",
          "output_type": "stream",
          "text": [
            "Successfully processed and saved scaled data for: nashik_hourly_weather.csv to Scaled_Data_Output/nashik_hourly_weather_scaled.csv\n"
          ]
        },
        {
          "data": {
            "application/javascript": "\n    async function download(id, filename, size) {\n      if (!google.colab.kernel.accessAllowed) {\n        return;\n      }\n      const div = document.createElement('div');\n      const label = document.createElement('label');\n      label.textContent = `Downloading \"${filename}\": `;\n      div.appendChild(label);\n      const progress = document.createElement('progress');\n      progress.max = size;\n      div.appendChild(progress);\n      document.body.appendChild(div);\n\n      const buffers = [];\n      let downloaded = 0;\n\n      const channel = await google.colab.kernel.comms.open(id);\n      // Send a message to notify the kernel that we're ready.\n      channel.send({})\n\n      for await (const message of channel.messages) {\n        // Send a message to notify the kernel that we're ready.\n        channel.send({})\n        if (message.buffers) {\n          for (const buffer of message.buffers) {\n            buffers.push(buffer);\n            downloaded += buffer.byteLength;\n            progress.value = downloaded;\n          }\n        }\n      }\n      const blob = new Blob(buffers, {type: 'application/binary'});\n      const a = document.createElement('a');\n      a.href = window.URL.createObjectURL(blob);\n      a.download = filename;\n      div.appendChild(a);\n      a.click();\n      div.remove();\n    }\n  ",
            "text/plain": [
              "<IPython.core.display.Javascript object>"
            ]
          },
          "metadata": {},
          "output_type": "display_data"
        },
        {
          "data": {
            "application/javascript": "download(\"download_06befb47-cc17-4ff7-9a54-d4cf0ad012cd\", \"nashik_hourly_weather_scaled.csv\", 4410545)",
            "text/plain": [
              "<IPython.core.display.Javascript object>"
            ]
          },
          "metadata": {},
          "output_type": "display_data"
        },
        {
          "name": "stdout",
          "output_type": "stream",
          "text": [
            "\n",
            "--- Processing new_delhi_hourly_weather.csv ---\n",
            "Cleaned Data Sample for new_delhi_hourly_weather.csv:\n",
            "                           temp  dwpt   rhum  prcp  wspd    pres\n",
            "time                                                            \n",
            "2021-01-01 05:30:00+05:30   3.0   3.0  100.0   0.0   0.0  1018.8\n",
            "2021-01-01 06:30:00+05:30   4.9   4.7   99.0   0.0   0.0  1018.9\n",
            "2021-01-01 07:30:00+05:30   5.2   4.8   98.0   0.0   0.0  1019.6\n",
            "2021-01-01 08:30:00+05:30   3.2   2.4   96.0   0.0   0.0  1020.7\n",
            "2021-01-01 09:30:00+05:30   7.5   4.5   85.0   0.0   0.0  1020.4\n",
            "Scaled Data Sample for new_delhi_hourly_weather.csv:\n",
            "                               temp      dwpt      rhum  prcp  wspd      pres\n",
            "time                                                                         \n",
            "2021-01-01 05:30:00+05:30  0.000000  0.179191  1.000000   0.0   0.0  0.793651\n",
            "2021-01-01 06:30:00+05:30  0.044393  0.228324  0.988764   0.0   0.0  0.796296\n",
            "2021-01-01 07:30:00+05:30  0.051402  0.231214  0.977528   0.0   0.0  0.814815\n",
            "2021-01-01 08:30:00+05:30  0.004673  0.161850  0.955056   0.0   0.0  0.843915\n",
            "2021-01-01 09:30:00+05:30  0.105140  0.222543  0.831461   0.0   0.0  0.835979\n"
          ]
        },
        {
          "name": "stderr",
          "output_type": "stream",
          "text": [
            "<ipython-input-18-3a2421fc9df1>:90: FutureWarning: DataFrame.fillna with 'method' is deprecated and will raise in a future version. Use obj.ffill() or obj.bfill() instead.\n",
            "  df = df.fillna(method='ffill').fillna(method='bfill')\n"
          ]
        },
        {
          "name": "stdout",
          "output_type": "stream",
          "text": [
            "Successfully processed and saved scaled data for: new_delhi_hourly_weather.csv to Scaled_Data_Output/new_delhi_hourly_weather_scaled.csv\n"
          ]
        },
        {
          "data": {
            "application/javascript": "\n    async function download(id, filename, size) {\n      if (!google.colab.kernel.accessAllowed) {\n        return;\n      }\n      const div = document.createElement('div');\n      const label = document.createElement('label');\n      label.textContent = `Downloading \"${filename}\": `;\n      div.appendChild(label);\n      const progress = document.createElement('progress');\n      progress.max = size;\n      div.appendChild(progress);\n      document.body.appendChild(div);\n\n      const buffers = [];\n      let downloaded = 0;\n\n      const channel = await google.colab.kernel.comms.open(id);\n      // Send a message to notify the kernel that we're ready.\n      channel.send({})\n\n      for await (const message of channel.messages) {\n        // Send a message to notify the kernel that we're ready.\n        channel.send({})\n        if (message.buffers) {\n          for (const buffer of message.buffers) {\n            buffers.push(buffer);\n            downloaded += buffer.byteLength;\n            progress.value = downloaded;\n          }\n        }\n      }\n      const blob = new Blob(buffers, {type: 'application/binary'});\n      const a = document.createElement('a');\n      a.href = window.URL.createObjectURL(blob);\n      a.download = filename;\n      div.appendChild(a);\n      a.click();\n      div.remove();\n    }\n  ",
            "text/plain": [
              "<IPython.core.display.Javascript object>"
            ]
          },
          "metadata": {},
          "output_type": "display_data"
        },
        {
          "data": {
            "application/javascript": "download(\"download_8babc4de-0f77-4a86-b948-c5252eb1701f\", \"new_delhi_hourly_weather_scaled.csv\", 4284839)",
            "text/plain": [
              "<IPython.core.display.Javascript object>"
            ]
          },
          "metadata": {},
          "output_type": "display_data"
        },
        {
          "name": "stdout",
          "output_type": "stream",
          "text": [
            "\n",
            "--- Processing ooty_hourly_weather.csv ---\n",
            "Cleaned Data Sample for ooty_hourly_weather.csv:\n",
            "                                temp      dwpt       rhum  prcp      wspd  \\\n",
            "time                                                                        \n",
            "2021-01-01 08:30:00+05:30  13.400000  2.800000  47.000000   0.0  0.000000   \n",
            "2021-01-01 09:30:00+05:30  13.069231  3.238462  50.846154   0.0  0.192308   \n",
            "2021-01-01 10:30:00+05:30  12.738462  3.676923  54.692308   0.0  0.384615   \n",
            "2021-01-01 11:30:00+05:30  12.407692  4.115385  58.538462   0.0  0.576923   \n",
            "2021-01-01 12:30:00+05:30  12.076923  4.553846  62.384615   0.0  0.769231   \n",
            "\n",
            "                             pres  \n",
            "time                               \n",
            "2021-01-01 08:30:00+05:30  1019.1  \n",
            "2021-01-01 09:30:00+05:30  1019.1  \n",
            "2021-01-01 10:30:00+05:30  1019.1  \n",
            "2021-01-01 11:30:00+05:30  1019.1  \n",
            "2021-01-01 12:30:00+05:30  1019.1  \n",
            "Scaled Data Sample for ooty_hourly_weather.csv:\n",
            "                               temp      dwpt      rhum  prcp      wspd  \\\n",
            "time                                                                      \n",
            "2021-01-01 08:30:00+05:30  0.311111  0.314985  0.376471   0.0  0.000000   \n",
            "2021-01-01 09:30:00+05:30  0.298860  0.328393  0.421719   0.0  0.001141   \n",
            "2021-01-01 10:30:00+05:30  0.286610  0.341802  0.466968   0.0  0.002283   \n",
            "2021-01-01 11:30:00+05:30  0.274359  0.355211  0.512217   0.0  0.003424   \n",
            "2021-01-01 12:30:00+05:30  0.262108  0.368619  0.557466   0.0  0.004565   \n",
            "\n",
            "                               pres  \n",
            "time                                 \n",
            "2021-01-01 08:30:00+05:30  0.700565  \n",
            "2021-01-01 09:30:00+05:30  0.700565  \n",
            "2021-01-01 10:30:00+05:30  0.700565  \n",
            "2021-01-01 11:30:00+05:30  0.700565  \n",
            "2021-01-01 12:30:00+05:30  0.700565  \n"
          ]
        },
        {
          "name": "stderr",
          "output_type": "stream",
          "text": [
            "<ipython-input-18-3a2421fc9df1>:90: FutureWarning: DataFrame.fillna with 'method' is deprecated and will raise in a future version. Use obj.ffill() or obj.bfill() instead.\n",
            "  df = df.fillna(method='ffill').fillna(method='bfill')\n"
          ]
        },
        {
          "name": "stdout",
          "output_type": "stream",
          "text": [
            "Successfully processed and saved scaled data for: ooty_hourly_weather.csv to Scaled_Data_Output/ooty_hourly_weather_scaled.csv\n"
          ]
        },
        {
          "data": {
            "application/javascript": "\n    async function download(id, filename, size) {\n      if (!google.colab.kernel.accessAllowed) {\n        return;\n      }\n      const div = document.createElement('div');\n      const label = document.createElement('label');\n      label.textContent = `Downloading \"${filename}\": `;\n      div.appendChild(label);\n      const progress = document.createElement('progress');\n      progress.max = size;\n      div.appendChild(progress);\n      document.body.appendChild(div);\n\n      const buffers = [];\n      let downloaded = 0;\n\n      const channel = await google.colab.kernel.comms.open(id);\n      // Send a message to notify the kernel that we're ready.\n      channel.send({})\n\n      for await (const message of channel.messages) {\n        // Send a message to notify the kernel that we're ready.\n        channel.send({})\n        if (message.buffers) {\n          for (const buffer of message.buffers) {\n            buffers.push(buffer);\n            downloaded += buffer.byteLength;\n            progress.value = downloaded;\n          }\n        }\n      }\n      const blob = new Blob(buffers, {type: 'application/binary'});\n      const a = document.createElement('a');\n      a.href = window.URL.createObjectURL(blob);\n      a.download = filename;\n      div.appendChild(a);\n      a.click();\n      div.remove();\n    }\n  ",
            "text/plain": [
              "<IPython.core.display.Javascript object>"
            ]
          },
          "metadata": {},
          "output_type": "display_data"
        },
        {
          "data": {
            "application/javascript": "download(\"download_74d5d66e-0efc-47c7-9615-72ebcb456505\", \"ooty_hourly_weather_scaled.csv\", 4550026)",
            "text/plain": [
              "<IPython.core.display.Javascript object>"
            ]
          },
          "metadata": {},
          "output_type": "display_data"
        },
        {
          "name": "stdout",
          "output_type": "stream",
          "text": [
            "\n",
            "--- Processing patna_hourly_weather.csv ---\n",
            "Cleaned Data Sample for patna_hourly_weather.csv:\n",
            "                           temp  dwpt  rhum  prcp  wspd    pres\n",
            "time                                                           \n",
            "2021-01-01 05:30:00+05:30   9.8   8.8  95.0   0.0   0.0  1016.2\n",
            "2021-01-01 06:30:00+05:30   5.0   3.6  93.0   0.0   0.0  1017.0\n",
            "2021-01-01 07:30:00+05:30   6.0   4.6  93.0   0.0   5.4  1018.0\n",
            "2021-01-01 08:30:00+05:30  11.6   9.2  88.0   0.0   3.6  1019.5\n",
            "2021-01-01 09:30:00+05:30  14.0   7.4  67.0   0.0   0.0  1020.0\n",
            "Scaled Data Sample for patna_hourly_weather.csv:\n",
            "                               temp      dwpt      rhum  prcp      wspd  \\\n",
            "time                                                                      \n",
            "2021-01-01 05:30:00+05:30  0.157635  0.250000  0.946809   0.0  0.000000   \n",
            "2021-01-01 06:30:00+05:30  0.039409  0.095238  0.925532   0.0  0.000000   \n",
            "2021-01-01 07:30:00+05:30  0.064039  0.125000  0.925532   0.0  0.051923   \n",
            "2021-01-01 08:30:00+05:30  0.201970  0.261905  0.872340   0.0  0.034615   \n",
            "2021-01-01 09:30:00+05:30  0.261084  0.208333  0.648936   0.0  0.000000   \n",
            "\n",
            "                               pres  \n",
            "time                                 \n",
            "2021-01-01 05:30:00+05:30  0.748571  \n",
            "2021-01-01 06:30:00+05:30  0.771429  \n",
            "2021-01-01 07:30:00+05:30  0.800000  \n",
            "2021-01-01 08:30:00+05:30  0.842857  \n",
            "2021-01-01 09:30:00+05:30  0.857143  \n"
          ]
        },
        {
          "name": "stderr",
          "output_type": "stream",
          "text": [
            "<ipython-input-18-3a2421fc9df1>:90: FutureWarning: DataFrame.fillna with 'method' is deprecated and will raise in a future version. Use obj.ffill() or obj.bfill() instead.\n",
            "  df = df.fillna(method='ffill').fillna(method='bfill')\n"
          ]
        },
        {
          "name": "stdout",
          "output_type": "stream",
          "text": [
            "Successfully processed and saved scaled data for: patna_hourly_weather.csv to Scaled_Data_Output/patna_hourly_weather_scaled.csv\n"
          ]
        },
        {
          "data": {
            "application/javascript": "\n    async function download(id, filename, size) {\n      if (!google.colab.kernel.accessAllowed) {\n        return;\n      }\n      const div = document.createElement('div');\n      const label = document.createElement('label');\n      label.textContent = `Downloading \"${filename}\": `;\n      div.appendChild(label);\n      const progress = document.createElement('progress');\n      progress.max = size;\n      div.appendChild(progress);\n      document.body.appendChild(div);\n\n      const buffers = [];\n      let downloaded = 0;\n\n      const channel = await google.colab.kernel.comms.open(id);\n      // Send a message to notify the kernel that we're ready.\n      channel.send({})\n\n      for await (const message of channel.messages) {\n        // Send a message to notify the kernel that we're ready.\n        channel.send({})\n        if (message.buffers) {\n          for (const buffer of message.buffers) {\n            buffers.push(buffer);\n            downloaded += buffer.byteLength;\n            progress.value = downloaded;\n          }\n        }\n      }\n      const blob = new Blob(buffers, {type: 'application/binary'});\n      const a = document.createElement('a');\n      a.href = window.URL.createObjectURL(blob);\n      a.download = filename;\n      div.appendChild(a);\n      a.click();\n      div.remove();\n    }\n  ",
            "text/plain": [
              "<IPython.core.display.Javascript object>"
            ]
          },
          "metadata": {},
          "output_type": "display_data"
        },
        {
          "data": {
            "application/javascript": "download(\"download_94b1d638-e2c7-4879-85d5-1419016d903f\", \"patna_hourly_weather_scaled.csv\", 4320838)",
            "text/plain": [
              "<IPython.core.display.Javascript object>"
            ]
          },
          "metadata": {},
          "output_type": "display_data"
        },
        {
          "name": "stdout",
          "output_type": "stream",
          "text": [
            "\n",
            "--- Processing port_blair_hourly_weather.csv ---\n",
            "Cleaned Data Sample for port_blair_hourly_weather.csv:\n",
            "                           temp  dwpt  rhum  prcp  wspd    pres\n",
            "time                                                           \n",
            "2021-01-01 05:30:00+05:30  27.3  22.9  78.0   0.0   7.6  1010.2\n",
            "2021-01-01 06:30:00+05:30  26.8  22.6  79.0   0.0   6.0  1011.0\n",
            "2021-01-01 07:30:00+05:30  26.8  22.6  79.0   0.0   6.0  1012.0\n",
            "2021-01-01 08:30:00+05:30  26.8  22.6  79.0   0.0  19.0  1013.0\n",
            "2021-01-01 09:30:00+05:30  27.3  23.1  79.0   0.0  19.0  1012.0\n",
            "Scaled Data Sample for port_blair_hourly_weather.csv:\n",
            "                               temp      dwpt  rhum  prcp      wspd      pres\n",
            "time                                                                         \n",
            "2021-01-01 05:30:00+05:30  0.697368  0.841667  0.78   0.0  0.038776  0.325077\n",
            "2021-01-01 06:30:00+05:30  0.684211  0.833333  0.79   0.0  0.030612  0.349845\n",
            "2021-01-01 07:30:00+05:30  0.684211  0.833333  0.79   0.0  0.030612  0.380805\n",
            "2021-01-01 08:30:00+05:30  0.684211  0.833333  0.79   0.0  0.096939  0.411765\n",
            "2021-01-01 09:30:00+05:30  0.697368  0.847222  0.79   0.0  0.096939  0.380805\n"
          ]
        },
        {
          "name": "stderr",
          "output_type": "stream",
          "text": [
            "<ipython-input-18-3a2421fc9df1>:90: FutureWarning: DataFrame.fillna with 'method' is deprecated and will raise in a future version. Use obj.ffill() or obj.bfill() instead.\n",
            "  df = df.fillna(method='ffill').fillna(method='bfill')\n"
          ]
        },
        {
          "name": "stdout",
          "output_type": "stream",
          "text": [
            "Successfully processed and saved scaled data for: port_blair_hourly_weather.csv to Scaled_Data_Output/port_blair_hourly_weather_scaled.csv\n"
          ]
        },
        {
          "data": {
            "application/javascript": "\n    async function download(id, filename, size) {\n      if (!google.colab.kernel.accessAllowed) {\n        return;\n      }\n      const div = document.createElement('div');\n      const label = document.createElement('label');\n      label.textContent = `Downloading \"${filename}\": `;\n      div.appendChild(label);\n      const progress = document.createElement('progress');\n      progress.max = size;\n      div.appendChild(progress);\n      document.body.appendChild(div);\n\n      const buffers = [];\n      let downloaded = 0;\n\n      const channel = await google.colab.kernel.comms.open(id);\n      // Send a message to notify the kernel that we're ready.\n      channel.send({})\n\n      for await (const message of channel.messages) {\n        // Send a message to notify the kernel that we're ready.\n        channel.send({})\n        if (message.buffers) {\n          for (const buffer of message.buffers) {\n            buffers.push(buffer);\n            downloaded += buffer.byteLength;\n            progress.value = downloaded;\n          }\n        }\n      }\n      const blob = new Blob(buffers, {type: 'application/binary'});\n      const a = document.createElement('a');\n      a.href = window.URL.createObjectURL(blob);\n      a.download = filename;\n      div.appendChild(a);\n      a.click();\n      div.remove();\n    }\n  ",
            "text/plain": [
              "<IPython.core.display.Javascript object>"
            ]
          },
          "metadata": {},
          "output_type": "display_data"
        },
        {
          "data": {
            "application/javascript": "download(\"download_39f1f61a-c6c7-43b2-a996-997af0f77a52\", \"port_blair_hourly_weather_scaled.csv\", 4234118)",
            "text/plain": [
              "<IPython.core.display.Javascript object>"
            ]
          },
          "metadata": {},
          "output_type": "display_data"
        },
        {
          "name": "stdout",
          "output_type": "stream",
          "text": [
            "\n",
            "--- Processing pune_hourly_weather.csv ---\n",
            "Cleaned Data Sample for pune_hourly_weather.csv:\n",
            "                                temp       dwpt       rhum  prcp  wspd  \\\n",
            "time                                                                     \n",
            "2021-01-01 05:30:00+05:30  16.000000  14.800000  94.000000   0.0   0.0   \n",
            "2021-01-01 06:30:00+05:30  16.466667  15.400000  94.666667   0.0   0.0   \n",
            "2021-01-01 07:30:00+05:30  16.933333  16.000000  95.333333   0.0   0.0   \n",
            "2021-01-01 08:30:00+05:30  17.400000  16.600000  96.000000   0.0   0.0   \n",
            "2021-01-01 09:30:00+05:30  20.133333  17.266667  85.666667   0.0   0.6   \n",
            "\n",
            "                                  pres  \n",
            "time                                    \n",
            "2021-01-01 05:30:00+05:30  1013.400000  \n",
            "2021-01-01 06:30:00+05:30  1013.966667  \n",
            "2021-01-01 07:30:00+05:30  1014.533333  \n",
            "2021-01-01 08:30:00+05:30  1015.100000  \n",
            "2021-01-01 09:30:00+05:30  1014.533333  \n",
            "Scaled Data Sample for pune_hourly_weather.csv:\n",
            "                               temp      dwpt      rhum  prcp      wspd  \\\n",
            "time                                                                      \n",
            "2021-01-01 05:30:00+05:30  0.225610  0.483871  0.935484   0.0  0.000000   \n",
            "2021-01-01 06:30:00+05:30  0.239837  0.508065  0.942652   0.0  0.000000   \n",
            "2021-01-01 07:30:00+05:30  0.254065  0.532258  0.949821   0.0  0.000000   \n",
            "2021-01-01 08:30:00+05:30  0.268293  0.556452  0.956989   0.0  0.000000   \n",
            "2021-01-01 09:30:00+05:30  0.351626  0.583333  0.845878   0.0  0.008499   \n",
            "\n",
            "                               pres  \n",
            "time                                 \n",
            "2021-01-01 05:30:00+05:30  0.695489  \n",
            "2021-01-01 06:30:00+05:30  0.716792  \n",
            "2021-01-01 07:30:00+05:30  0.738095  \n",
            "2021-01-01 08:30:00+05:30  0.759398  \n",
            "2021-01-01 09:30:00+05:30  0.738095  \n"
          ]
        },
        {
          "name": "stderr",
          "output_type": "stream",
          "text": [
            "<ipython-input-18-3a2421fc9df1>:90: FutureWarning: DataFrame.fillna with 'method' is deprecated and will raise in a future version. Use obj.ffill() or obj.bfill() instead.\n",
            "  df = df.fillna(method='ffill').fillna(method='bfill')\n"
          ]
        },
        {
          "name": "stdout",
          "output_type": "stream",
          "text": [
            "Successfully processed and saved scaled data for: pune_hourly_weather.csv to Scaled_Data_Output/pune_hourly_weather_scaled.csv\n"
          ]
        },
        {
          "data": {
            "application/javascript": "\n    async function download(id, filename, size) {\n      if (!google.colab.kernel.accessAllowed) {\n        return;\n      }\n      const div = document.createElement('div');\n      const label = document.createElement('label');\n      label.textContent = `Downloading \"${filename}\": `;\n      div.appendChild(label);\n      const progress = document.createElement('progress');\n      progress.max = size;\n      div.appendChild(progress);\n      document.body.appendChild(div);\n\n      const buffers = [];\n      let downloaded = 0;\n\n      const channel = await google.colab.kernel.comms.open(id);\n      // Send a message to notify the kernel that we're ready.\n      channel.send({})\n\n      for await (const message of channel.messages) {\n        // Send a message to notify the kernel that we're ready.\n        channel.send({})\n        if (message.buffers) {\n          for (const buffer of message.buffers) {\n            buffers.push(buffer);\n            downloaded += buffer.byteLength;\n            progress.value = downloaded;\n          }\n        }\n      }\n      const blob = new Blob(buffers, {type: 'application/binary'});\n      const a = document.createElement('a');\n      a.href = window.URL.createObjectURL(blob);\n      a.download = filename;\n      div.appendChild(a);\n      a.click();\n      div.remove();\n    }\n  ",
            "text/plain": [
              "<IPython.core.display.Javascript object>"
            ]
          },
          "metadata": {},
          "output_type": "display_data"
        },
        {
          "data": {
            "application/javascript": "download(\"download_d331ab53-1cc8-48dc-a389-8967918fcd47\", \"pune_hourly_weather_scaled.csv\", 4412789)",
            "text/plain": [
              "<IPython.core.display.Javascript object>"
            ]
          },
          "metadata": {},
          "output_type": "display_data"
        },
        {
          "name": "stdout",
          "output_type": "stream",
          "text": [
            "\n",
            "--- Processing ranchi_hourly_weather.csv ---\n",
            "Cleaned Data Sample for ranchi_hourly_weather.csv:\n",
            "                           temp  dwpt  rhum  prcp  wspd    pres\n",
            "time                                                           \n",
            "2021-01-01 05:30:00+05:30  10.8   6.0  76.0   0.0   0.0  1017.8\n",
            "2021-01-01 06:30:00+05:30  10.2   5.4  76.0   0.0   0.0  1018.0\n",
            "2021-01-01 07:30:00+05:30  11.2   6.4  76.0   0.0   0.0  1019.0\n",
            "2021-01-01 08:30:00+05:30  13.4   9.2  79.0   0.0   0.0  1019.7\n",
            "2021-01-01 09:30:00+05:30  15.2   9.6  72.0   0.0   0.0  1021.0\n",
            "Scaled Data Sample for ranchi_hourly_weather.csv:\n",
            "                               temp      dwpt      rhum  prcp  wspd      pres\n",
            "time                                                                         \n",
            "2021-01-01 05:30:00+05:30  0.153846  0.207865  0.736264   0.0   0.0  0.797753\n",
            "2021-01-01 06:30:00+05:30  0.137363  0.191011  0.736264   0.0   0.0  0.803371\n",
            "2021-01-01 07:30:00+05:30  0.164835  0.219101  0.736264   0.0   0.0  0.831461\n",
            "2021-01-01 08:30:00+05:30  0.225275  0.297753  0.769231   0.0   0.0  0.851124\n",
            "2021-01-01 09:30:00+05:30  0.274725  0.308989  0.692308   0.0   0.0  0.887640\n"
          ]
        },
        {
          "name": "stderr",
          "output_type": "stream",
          "text": [
            "<ipython-input-18-3a2421fc9df1>:90: FutureWarning: DataFrame.fillna with 'method' is deprecated and will raise in a future version. Use obj.ffill() or obj.bfill() instead.\n",
            "  df = df.fillna(method='ffill').fillna(method='bfill')\n"
          ]
        },
        {
          "name": "stdout",
          "output_type": "stream",
          "text": [
            "Successfully processed and saved scaled data for: ranchi_hourly_weather.csv to Scaled_Data_Output/ranchi_hourly_weather_scaled.csv\n"
          ]
        },
        {
          "data": {
            "application/javascript": "\n    async function download(id, filename, size) {\n      if (!google.colab.kernel.accessAllowed) {\n        return;\n      }\n      const div = document.createElement('div');\n      const label = document.createElement('label');\n      label.textContent = `Downloading \"${filename}\": `;\n      div.appendChild(label);\n      const progress = document.createElement('progress');\n      progress.max = size;\n      div.appendChild(progress);\n      document.body.appendChild(div);\n\n      const buffers = [];\n      let downloaded = 0;\n\n      const channel = await google.colab.kernel.comms.open(id);\n      // Send a message to notify the kernel that we're ready.\n      channel.send({})\n\n      for await (const message of channel.messages) {\n        // Send a message to notify the kernel that we're ready.\n        channel.send({})\n        if (message.buffers) {\n          for (const buffer of message.buffers) {\n            buffers.push(buffer);\n            downloaded += buffer.byteLength;\n            progress.value = downloaded;\n          }\n        }\n      }\n      const blob = new Blob(buffers, {type: 'application/binary'});\n      const a = document.createElement('a');\n      a.href = window.URL.createObjectURL(blob);\n      a.download = filename;\n      div.appendChild(a);\n      a.click();\n      div.remove();\n    }\n  ",
            "text/plain": [
              "<IPython.core.display.Javascript object>"
            ]
          },
          "metadata": {},
          "output_type": "display_data"
        },
        {
          "data": {
            "application/javascript": "download(\"download_a8733caa-119e-45f6-b176-ed1e63e177e8\", \"ranchi_hourly_weather_scaled.csv\", 4340269)",
            "text/plain": [
              "<IPython.core.display.Javascript object>"
            ]
          },
          "metadata": {},
          "output_type": "display_data"
        },
        {
          "name": "stdout",
          "output_type": "stream",
          "text": [
            "\n",
            "--- Processing shillong_hourly_weather.csv ---\n",
            "Cleaned Data Sample for shillong_hourly_weather.csv:\n",
            "                                temp  dwpt       rhum  prcp  wspd    pres\n",
            "time                                                                     \n",
            "2021-01-01 08:30:00+05:30  14.400000  -0.4  26.000000   0.0   0.0  1017.8\n",
            "2021-01-01 09:30:00+05:30  14.966667   0.6  28.166667   0.0   0.0  1017.8\n",
            "2021-01-01 10:30:00+05:30  15.533333   1.6  30.333333   0.0   0.0  1017.8\n",
            "2021-01-01 11:30:00+05:30  16.100000   2.6  32.500000   0.0   0.0  1017.8\n",
            "2021-01-01 12:30:00+05:30  16.666667   3.6  34.666667   0.0   0.0  1017.8\n",
            "Scaled Data Sample for shillong_hourly_weather.csv:\n",
            "                               temp      dwpt      rhum  prcp  wspd      pres\n",
            "time                                                                         \n",
            "2021-01-01 08:30:00+05:30  0.435374  0.301075  0.149425   0.0   0.0  0.808307\n",
            "2021-01-01 09:30:00+05:30  0.454649  0.327957  0.174330   0.0   0.0  0.808307\n",
            "2021-01-01 10:30:00+05:30  0.473923  0.354839  0.199234   0.0   0.0  0.808307\n",
            "2021-01-01 11:30:00+05:30  0.493197  0.381720  0.224138   0.0   0.0  0.808307\n",
            "2021-01-01 12:30:00+05:30  0.512472  0.408602  0.249042   0.0   0.0  0.808307\n"
          ]
        },
        {
          "name": "stderr",
          "output_type": "stream",
          "text": [
            "<ipython-input-18-3a2421fc9df1>:90: FutureWarning: DataFrame.fillna with 'method' is deprecated and will raise in a future version. Use obj.ffill() or obj.bfill() instead.\n",
            "  df = df.fillna(method='ffill').fillna(method='bfill')\n"
          ]
        },
        {
          "name": "stdout",
          "output_type": "stream",
          "text": [
            "Successfully processed and saved scaled data for: shillong_hourly_weather.csv to Scaled_Data_Output/shillong_hourly_weather_scaled.csv\n"
          ]
        },
        {
          "data": {
            "application/javascript": "\n    async function download(id, filename, size) {\n      if (!google.colab.kernel.accessAllowed) {\n        return;\n      }\n      const div = document.createElement('div');\n      const label = document.createElement('label');\n      label.textContent = `Downloading \"${filename}\": `;\n      div.appendChild(label);\n      const progress = document.createElement('progress');\n      progress.max = size;\n      div.appendChild(progress);\n      document.body.appendChild(div);\n\n      const buffers = [];\n      let downloaded = 0;\n\n      const channel = await google.colab.kernel.comms.open(id);\n      // Send a message to notify the kernel that we're ready.\n      channel.send({})\n\n      for await (const message of channel.messages) {\n        // Send a message to notify the kernel that we're ready.\n        channel.send({})\n        if (message.buffers) {\n          for (const buffer of message.buffers) {\n            buffers.push(buffer);\n            downloaded += buffer.byteLength;\n            progress.value = downloaded;\n          }\n        }\n      }\n      const blob = new Blob(buffers, {type: 'application/binary'});\n      const a = document.createElement('a');\n      a.href = window.URL.createObjectURL(blob);\n      a.download = filename;\n      div.appendChild(a);\n      a.click();\n      div.remove();\n    }\n  ",
            "text/plain": [
              "<IPython.core.display.Javascript object>"
            ]
          },
          "metadata": {},
          "output_type": "display_data"
        },
        {
          "data": {
            "application/javascript": "download(\"download_1552ab6c-2b47-4a4d-a16d-ff3eab7048d6\", \"shillong_hourly_weather_scaled.csv\", 4457589)",
            "text/plain": [
              "<IPython.core.display.Javascript object>"
            ]
          },
          "metadata": {},
          "output_type": "display_data"
        },
        {
          "name": "stdout",
          "output_type": "stream",
          "text": [
            "\n",
            "--- Processing shimla_hourly_weather.csv ---\n",
            "Cleaned Data Sample for shimla_hourly_weather.csv:\n",
            "                                temp      dwpt       rhum  prcp  wspd    pres\n",
            "time                                                                         \n",
            "2021-01-01 08:30:00+05:30   7.600000 -7.600000  24.000000   0.0   0.0  1018.2\n",
            "2021-01-01 09:30:00+05:30   9.066667 -5.733333  26.000000   0.0   0.0  1018.2\n",
            "2021-01-01 10:30:00+05:30  10.533333 -3.866667  28.000000   0.0   0.0  1018.2\n",
            "2021-01-01 11:30:00+05:30  12.000000 -2.000000  30.000000   0.0   0.0  1018.2\n",
            "2021-01-01 12:30:00+05:30  12.866667 -1.200000  29.666667   0.0   0.0  1018.2\n",
            "Scaled Data Sample for shimla_hourly_weather.csv:\n",
            "                               temp      dwpt      rhum  prcp  wspd      pres\n",
            "time                                                                         \n",
            "2021-01-01 08:30:00+05:30  0.464853  0.263158  0.173913   0.0   0.0  0.738676\n",
            "2021-01-01 09:30:00+05:30  0.498110  0.305873  0.195652   0.0   0.0  0.738676\n",
            "2021-01-01 10:30:00+05:30  0.531368  0.348589  0.217391   0.0   0.0  0.738676\n",
            "2021-01-01 11:30:00+05:30  0.564626  0.391304  0.239130   0.0   0.0  0.738676\n",
            "2021-01-01 12:30:00+05:30  0.584278  0.409611  0.235507   0.0   0.0  0.738676\n"
          ]
        },
        {
          "name": "stderr",
          "output_type": "stream",
          "text": [
            "<ipython-input-18-3a2421fc9df1>:90: FutureWarning: DataFrame.fillna with 'method' is deprecated and will raise in a future version. Use obj.ffill() or obj.bfill() instead.\n",
            "  df = df.fillna(method='ffill').fillna(method='bfill')\n"
          ]
        },
        {
          "name": "stdout",
          "output_type": "stream",
          "text": [
            "Successfully processed and saved scaled data for: shimla_hourly_weather.csv to Scaled_Data_Output/shimla_hourly_weather_scaled.csv\n"
          ]
        },
        {
          "data": {
            "application/javascript": "\n    async function download(id, filename, size) {\n      if (!google.colab.kernel.accessAllowed) {\n        return;\n      }\n      const div = document.createElement('div');\n      const label = document.createElement('label');\n      label.textContent = `Downloading \"${filename}\": `;\n      div.appendChild(label);\n      const progress = document.createElement('progress');\n      progress.max = size;\n      div.appendChild(progress);\n      document.body.appendChild(div);\n\n      const buffers = [];\n      let downloaded = 0;\n\n      const channel = await google.colab.kernel.comms.open(id);\n      // Send a message to notify the kernel that we're ready.\n      channel.send({})\n\n      for await (const message of channel.messages) {\n        // Send a message to notify the kernel that we're ready.\n        channel.send({})\n        if (message.buffers) {\n          for (const buffer of message.buffers) {\n            buffers.push(buffer);\n            downloaded += buffer.byteLength;\n            progress.value = downloaded;\n          }\n        }\n      }\n      const blob = new Blob(buffers, {type: 'application/binary'});\n      const a = document.createElement('a');\n      a.href = window.URL.createObjectURL(blob);\n      a.download = filename;\n      div.appendChild(a);\n      a.click();\n      div.remove();\n    }\n  ",
            "text/plain": [
              "<IPython.core.display.Javascript object>"
            ]
          },
          "metadata": {},
          "output_type": "display_data"
        },
        {
          "data": {
            "application/javascript": "download(\"download_626ee3f8-aefe-47aa-8d37-b2509a8a3850\", \"shimla_hourly_weather_scaled.csv\", 4440576)",
            "text/plain": [
              "<IPython.core.display.Javascript object>"
            ]
          },
          "metadata": {},
          "output_type": "display_data"
        },
        {
          "name": "stdout",
          "output_type": "stream",
          "text": [
            "\n",
            "--- Processing siliguri_hourly_weather.csv ---\n",
            "Cleaned Data Sample for siliguri_hourly_weather.csv:\n",
            "                           temp       dwpt       rhum  prcp  wspd         pres\n",
            "time                                                                          \n",
            "2021-01-01 08:30:00+05:30  17.0  10.800000  69.000000   0.0   3.6  1019.100000\n",
            "2021-01-01 09:30:00+05:30  17.0  10.755556  68.777778   0.0   3.2  1018.611111\n",
            "2021-01-01 10:30:00+05:30  17.0  10.711111  68.555556   0.0   2.8  1018.122222\n",
            "2021-01-01 11:30:00+05:30  17.0  10.666667  68.333333   0.0   2.4  1017.633333\n",
            "2021-01-01 12:30:00+05:30  17.0  10.622222  68.111111   0.0   2.0  1017.144444\n",
            "Scaled Data Sample for siliguri_hourly_weather.csv:\n",
            "                               temp      dwpt      rhum  prcp      wspd  \\\n",
            "time                                                                      \n",
            "2021-01-01 08:30:00+05:30  0.299363  0.318182  0.647727   0.0  0.021596   \n",
            "2021-01-01 09:30:00+05:30  0.299363  0.316628  0.645202   0.0  0.019196   \n",
            "2021-01-01 10:30:00+05:30  0.299363  0.315074  0.642677   0.0  0.016797   \n",
            "2021-01-01 11:30:00+05:30  0.299363  0.313520  0.640152   0.0  0.014397   \n",
            "2021-01-01 12:30:00+05:30  0.299363  0.311966  0.637626   0.0  0.011998   \n",
            "\n",
            "                               pres  \n",
            "time                                 \n",
            "2021-01-01 08:30:00+05:30  0.863924  \n",
            "2021-01-01 09:30:00+05:30  0.848453  \n",
            "2021-01-01 10:30:00+05:30  0.832982  \n",
            "2021-01-01 11:30:00+05:30  0.817511  \n",
            "2021-01-01 12:30:00+05:30  0.802039  \n"
          ]
        },
        {
          "name": "stderr",
          "output_type": "stream",
          "text": [
            "<ipython-input-18-3a2421fc9df1>:90: FutureWarning: DataFrame.fillna with 'method' is deprecated and will raise in a future version. Use obj.ffill() or obj.bfill() instead.\n",
            "  df = df.fillna(method='ffill').fillna(method='bfill')\n"
          ]
        },
        {
          "name": "stdout",
          "output_type": "stream",
          "text": [
            "Successfully processed and saved scaled data for: siliguri_hourly_weather.csv to Scaled_Data_Output/siliguri_hourly_weather_scaled.csv\n"
          ]
        },
        {
          "data": {
            "application/javascript": "\n    async function download(id, filename, size) {\n      if (!google.colab.kernel.accessAllowed) {\n        return;\n      }\n      const div = document.createElement('div');\n      const label = document.createElement('label');\n      label.textContent = `Downloading \"${filename}\": `;\n      div.appendChild(label);\n      const progress = document.createElement('progress');\n      progress.max = size;\n      div.appendChild(progress);\n      document.body.appendChild(div);\n\n      const buffers = [];\n      let downloaded = 0;\n\n      const channel = await google.colab.kernel.comms.open(id);\n      // Send a message to notify the kernel that we're ready.\n      channel.send({})\n\n      for await (const message of channel.messages) {\n        // Send a message to notify the kernel that we're ready.\n        channel.send({})\n        if (message.buffers) {\n          for (const buffer of message.buffers) {\n            buffers.push(buffer);\n            downloaded += buffer.byteLength;\n            progress.value = downloaded;\n          }\n        }\n      }\n      const blob = new Blob(buffers, {type: 'application/binary'});\n      const a = document.createElement('a');\n      a.href = window.URL.createObjectURL(blob);\n      a.download = filename;\n      div.appendChild(a);\n      a.click();\n      div.remove();\n    }\n  ",
            "text/plain": [
              "<IPython.core.display.Javascript object>"
            ]
          },
          "metadata": {},
          "output_type": "display_data"
        },
        {
          "data": {
            "application/javascript": "download(\"download_f6060bb7-f6c1-4802-a4f8-38007d0bcbd1\", \"siliguri_hourly_weather_scaled.csv\", 4547278)",
            "text/plain": [
              "<IPython.core.display.Javascript object>"
            ]
          },
          "metadata": {},
          "output_type": "display_data"
        },
        {
          "name": "stdout",
          "output_type": "stream",
          "text": [
            "\n",
            "--- Processing thiruvananthapuram_hourly_weather.csv ---\n",
            "Cleaned Data Sample for thiruvananthapuram_hourly_weather.csv:\n",
            "                           temp  dwpt  rhum  prcp  wspd    pres\n",
            "time                                                           \n",
            "2021-01-01 05:30:00+05:30  25.9  23.7  89.0   0.3   0.0  1008.0\n",
            "2021-01-01 06:30:00+05:30  25.9  23.7  89.0   0.3   3.6  1008.0\n",
            "2021-01-01 07:30:00+05:30  25.9  23.7  89.0   0.3   3.6  1009.0\n",
            "2021-01-01 08:30:00+05:30  27.3  21.9  73.0   0.3   3.6  1010.4\n",
            "2021-01-01 09:30:00+05:30  29.9  21.7  59.0   0.3   3.6  1011.0\n",
            "Scaled Data Sample for thiruvananthapuram_hourly_weather.csv:\n",
            "                               temp      dwpt  rhum      prcp   wspd      pres\n",
            "time                                                                          \n",
            "2021-01-01 05:30:00+05:30  0.300752  0.759615  0.89  0.024793  0.000  0.467836\n",
            "2021-01-01 06:30:00+05:30  0.300752  0.759615  0.89  0.024793  0.045  0.467836\n",
            "2021-01-01 07:30:00+05:30  0.300752  0.759615  0.89  0.024793  0.045  0.526316\n",
            "2021-01-01 08:30:00+05:30  0.406015  0.673077  0.73  0.024793  0.045  0.608187\n",
            "2021-01-01 09:30:00+05:30  0.601504  0.663462  0.59  0.024793  0.045  0.643275\n"
          ]
        },
        {
          "name": "stderr",
          "output_type": "stream",
          "text": [
            "<ipython-input-18-3a2421fc9df1>:90: FutureWarning: DataFrame.fillna with 'method' is deprecated and will raise in a future version. Use obj.ffill() or obj.bfill() instead.\n",
            "  df = df.fillna(method='ffill').fillna(method='bfill')\n"
          ]
        },
        {
          "name": "stdout",
          "output_type": "stream",
          "text": [
            "Successfully processed and saved scaled data for: thiruvananthapuram_hourly_weather.csv to Scaled_Data_Output/thiruvananthapuram_hourly_weather_scaled.csv\n"
          ]
        },
        {
          "data": {
            "application/javascript": "\n    async function download(id, filename, size) {\n      if (!google.colab.kernel.accessAllowed) {\n        return;\n      }\n      const div = document.createElement('div');\n      const label = document.createElement('label');\n      label.textContent = `Downloading \"${filename}\": `;\n      div.appendChild(label);\n      const progress = document.createElement('progress');\n      progress.max = size;\n      div.appendChild(progress);\n      document.body.appendChild(div);\n\n      const buffers = [];\n      let downloaded = 0;\n\n      const channel = await google.colab.kernel.comms.open(id);\n      // Send a message to notify the kernel that we're ready.\n      channel.send({})\n\n      for await (const message of channel.messages) {\n        // Send a message to notify the kernel that we're ready.\n        channel.send({})\n        if (message.buffers) {\n          for (const buffer of message.buffers) {\n            buffers.push(buffer);\n            downloaded += buffer.byteLength;\n            progress.value = downloaded;\n          }\n        }\n      }\n      const blob = new Blob(buffers, {type: 'application/binary'});\n      const a = document.createElement('a');\n      a.href = window.URL.createObjectURL(blob);\n      a.download = filename;\n      div.appendChild(a);\n      a.click();\n      div.remove();\n    }\n  ",
            "text/plain": [
              "<IPython.core.display.Javascript object>"
            ]
          },
          "metadata": {},
          "output_type": "display_data"
        },
        {
          "data": {
            "application/javascript": "download(\"download_d2a91c3e-df20-4aaa-807b-ea0fbd66bbf9\", \"thiruvananthapuram_hourly_weather_scaled.csv\", 4097241)",
            "text/plain": [
              "<IPython.core.display.Javascript object>"
            ]
          },
          "metadata": {},
          "output_type": "display_data"
        },
        {
          "name": "stdout",
          "output_type": "stream",
          "text": [
            "\n",
            "--- Processing vadodara_hourly_weather.csv ---\n",
            "Cleaned Data Sample for vadodara_hourly_weather.csv:\n",
            "                           temp  dwpt  rhum  prcp  wspd    pres\n",
            "time                                                           \n",
            "2021-01-01 05:30:00+05:30  14.0  10.0  80.0   0.0   7.6  1011.6\n",
            "2021-01-01 06:30:00+05:30  14.0  10.4  82.0   0.0  11.0  1012.0\n",
            "2021-01-01 07:30:00+05:30  15.0  10.4  77.0   0.0   9.0  1012.0\n",
            "2021-01-01 08:30:00+05:30  16.0  10.2  71.0   0.0   7.6  1013.6\n",
            "2021-01-01 09:30:00+05:30  18.0  10.8  64.0   0.0   7.0  1014.0\n",
            "Scaled Data Sample for vadodara_hourly_weather.csv:\n",
            "                               temp      dwpt  rhum  prcp      wspd      pres\n",
            "time                                                                         \n",
            "2021-01-01 05:30:00+05:30  0.285714  0.485981  0.80   0.0  0.063866  0.373770\n",
            "2021-01-01 06:30:00+05:30  0.285714  0.495327  0.82   0.0  0.092437  0.377049\n",
            "2021-01-01 07:30:00+05:30  0.309524  0.495327  0.77   0.0  0.075630  0.377049\n",
            "2021-01-01 08:30:00+05:30  0.333333  0.490654  0.71   0.0  0.063866  0.390164\n",
            "2021-01-01 09:30:00+05:30  0.380952  0.504673  0.64   0.0  0.058824  0.393443\n"
          ]
        },
        {
          "name": "stderr",
          "output_type": "stream",
          "text": [
            "<ipython-input-18-3a2421fc9df1>:90: FutureWarning: DataFrame.fillna with 'method' is deprecated and will raise in a future version. Use obj.ffill() or obj.bfill() instead.\n",
            "  df = df.fillna(method='ffill').fillna(method='bfill')\n"
          ]
        },
        {
          "name": "stdout",
          "output_type": "stream",
          "text": [
            "Successfully processed and saved scaled data for: vadodara_hourly_weather.csv to Scaled_Data_Output/vadodara_hourly_weather_scaled.csv\n"
          ]
        },
        {
          "data": {
            "application/javascript": "\n    async function download(id, filename, size) {\n      if (!google.colab.kernel.accessAllowed) {\n        return;\n      }\n      const div = document.createElement('div');\n      const label = document.createElement('label');\n      label.textContent = `Downloading \"${filename}\": `;\n      div.appendChild(label);\n      const progress = document.createElement('progress');\n      progress.max = size;\n      div.appendChild(progress);\n      document.body.appendChild(div);\n\n      const buffers = [];\n      let downloaded = 0;\n\n      const channel = await google.colab.kernel.comms.open(id);\n      // Send a message to notify the kernel that we're ready.\n      channel.send({})\n\n      for await (const message of channel.messages) {\n        // Send a message to notify the kernel that we're ready.\n        channel.send({})\n        if (message.buffers) {\n          for (const buffer of message.buffers) {\n            buffers.push(buffer);\n            downloaded += buffer.byteLength;\n            progress.value = downloaded;\n          }\n        }\n      }\n      const blob = new Blob(buffers, {type: 'application/binary'});\n      const a = document.createElement('a');\n      a.href = window.URL.createObjectURL(blob);\n      a.download = filename;\n      div.appendChild(a);\n      a.click();\n      div.remove();\n    }\n  ",
            "text/plain": [
              "<IPython.core.display.Javascript object>"
            ]
          },
          "metadata": {},
          "output_type": "display_data"
        },
        {
          "data": {
            "application/javascript": "download(\"download_25dfb79e-6655-488e-9297-d368b5c6b2f1\", \"vadodara_hourly_weather_scaled.csv\", 4054884)",
            "text/plain": [
              "<IPython.core.display.Javascript object>"
            ]
          },
          "metadata": {},
          "output_type": "display_data"
        },
        {
          "name": "stdout",
          "output_type": "stream",
          "text": [
            "\n",
            "--- Processing visakhapatnam_hourly_weather.csv ---\n",
            "Cleaned Data Sample for visakhapatnam_hourly_weather.csv:\n",
            "                           temp  dwpt  rhum  prcp  wspd    pres\n",
            "time                                                           \n",
            "2021-01-01 05:30:00+05:30  17.8  15.4  88.0   0.0   3.6  1014.5\n",
            "2021-01-01 06:30:00+05:30  18.0  15.6  88.0   0.0   3.6  1015.0\n",
            "2021-01-01 07:30:00+05:30  20.0  16.6  83.0   0.0   3.6  1016.0\n",
            "2021-01-01 08:30:00+05:30  22.4  17.6  76.0   0.0   3.6  1017.6\n",
            "2021-01-01 09:30:00+05:30  25.0  17.2  61.0   0.0  11.2  1017.0\n",
            "Scaled Data Sample for visakhapatnam_hourly_weather.csv:\n",
            "                               temp      dwpt  rhum  prcp      wspd      pres\n",
            "time                                                                         \n",
            "2021-01-01 05:30:00+05:30  0.357488  0.490683  0.88   0.0  0.020000  0.819444\n",
            "2021-01-01 06:30:00+05:30  0.362319  0.496894  0.88   0.0  0.020000  0.833333\n",
            "2021-01-01 07:30:00+05:30  0.410628  0.527950  0.83   0.0  0.020000  0.861111\n",
            "2021-01-01 08:30:00+05:30  0.468599  0.559006  0.76   0.0  0.020000  0.905556\n",
            "2021-01-01 09:30:00+05:30  0.531401  0.546584  0.61   0.0  0.062222  0.888889\n"
          ]
        },
        {
          "name": "stderr",
          "output_type": "stream",
          "text": [
            "<ipython-input-18-3a2421fc9df1>:90: FutureWarning: DataFrame.fillna with 'method' is deprecated and will raise in a future version. Use obj.ffill() or obj.bfill() instead.\n",
            "  df = df.fillna(method='ffill').fillna(method='bfill')\n"
          ]
        },
        {
          "name": "stdout",
          "output_type": "stream",
          "text": [
            "Successfully processed and saved scaled data for: visakhapatnam_hourly_weather.csv to Scaled_Data_Output/visakhapatnam_hourly_weather_scaled.csv\n"
          ]
        },
        {
          "data": {
            "application/javascript": "\n    async function download(id, filename, size) {\n      if (!google.colab.kernel.accessAllowed) {\n        return;\n      }\n      const div = document.createElement('div');\n      const label = document.createElement('label');\n      label.textContent = `Downloading \"${filename}\": `;\n      div.appendChild(label);\n      const progress = document.createElement('progress');\n      progress.max = size;\n      div.appendChild(progress);\n      document.body.appendChild(div);\n\n      const buffers = [];\n      let downloaded = 0;\n\n      const channel = await google.colab.kernel.comms.open(id);\n      // Send a message to notify the kernel that we're ready.\n      channel.send({})\n\n      for await (const message of channel.messages) {\n        // Send a message to notify the kernel that we're ready.\n        channel.send({})\n        if (message.buffers) {\n          for (const buffer of message.buffers) {\n            buffers.push(buffer);\n            downloaded += buffer.byteLength;\n            progress.value = downloaded;\n          }\n        }\n      }\n      const blob = new Blob(buffers, {type: 'application/binary'});\n      const a = document.createElement('a');\n      a.href = window.URL.createObjectURL(blob);\n      a.download = filename;\n      div.appendChild(a);\n      a.click();\n      div.remove();\n    }\n  ",
            "text/plain": [
              "<IPython.core.display.Javascript object>"
            ]
          },
          "metadata": {},
          "output_type": "display_data"
        },
        {
          "data": {
            "application/javascript": "download(\"download_4e9c30bb-7815-4578-9a36-93103421cb59\", \"visakhapatnam_hourly_weather_scaled.csv\", 3874322)",
            "text/plain": [
              "<IPython.core.display.Javascript object>"
            ]
          },
          "metadata": {},
          "output_type": "display_data"
        },
        {
          "name": "stdout",
          "output_type": "stream",
          "text": [
            "\n",
            "--- All files processed. ---\n"
          ]
        }
      ],
      "source": [
        "\"\"\"Scaled Data for Google Colab (Direct Upload).ipynb\n",
        "\n",
        "Automatically generated by Colab.\n",
        "\"\"\"\n",
        "\n",
        "import pandas as pd\n",
        "import numpy as np\n",
        "import os\n",
        "from datetime import datetime, timedelta\n",
        "import pytz\n",
        "from sklearn.preprocessing import MinMaxScaler\n",
        "# from google.colab import drive # Not needed if directly uploading files\n",
        "from google.colab import files # For downloading files\n",
        "\n",
        "# IMPORTANT: No need to mount Google Drive if you are directly uploading files\n",
        "# into the Colab session's file browser.\n",
        "\n",
        "# 📁 Directory where all your city CSVs are stored\n",
        "# Set to empty string \"\" or \".\" if files are in the current working directory\n",
        "data_dir = \"\" # <--- MODIFIED: Assuming files are uploaded directly to the Colab root\n",
        "\n",
        "# 📄 List of city filenames\n",
        "# IMPORTANT: Please ensure these filenames EXACTLY match the .csv files\n",
        "# you have on your disk. This version uses underscores for common corrections.\n",
        "city_filenames = [\n",
        "    \"ahmedabad_hourly_weather.csv\",\n",
        "    \"bengaluru_hourly_weather.csv\",\n",
        "    \"bhopal_hourly_weather.csv\",\n",
        "    \"bhubaneswar_hourly_weather.csv\",\n",
        "    \"bikaner_hourly_weather.csv\",\n",
        "    \"chandigarh_hourly_weather.csv\",\n",
        "    \"chennai_hourly_weather.csv\",\n",
        "    \"coimbatore_hourly_weather.csv\",\n",
        "    \"dehradun_hourly_weather.csv\",\n",
        "    \"guwahati_hourly_weather.csv\",\n",
        "    \"hyderabad_hourly_weather.csv\",\n",
        "    \"imphal_hourly_weather.csv\",\n",
        "    \"jaipur_hourly_weather.csv\",\n",
        "    \"jaisalmer_hourly_weather.csv\",\n",
        "    \"kochi_hourly_weather.csv\",\n",
        "    \"kolkata_hourly_weather.csv\",\n",
        "    \"lucknow_hourly_weather.csv\",\n",
        "    \"mumbai_hourly_weather.csv\",\n",
        "    \"mysuru_hourly_weather.csv\",\n",
        "    \"nagpur_hourly_weather.csv\",          # Corrected: space replaced with underscore\n",
        "    \"nashik_hourly_weather.csv\",\n",
        "    \"new_delhi_hourly_weather.csv\",\n",
        "    \"ooty_hourly_weather.csv\",            # Corrected: space replaced with underscore\n",
        "    \"patna_hourly_weather.csv\",\n",
        "    \"port_blair_hourly_weather.csv\",\n",
        "    \"pune_hourly_weather.csv\",\n",
        "    \"ranchi_hourly_weather.csv\",\n",
        "    \"shillong_hourly_weather.csv\",        # Corrected: space replaced with underscore\n",
        "    \"shimla_hourly_weather.csv\",\n",
        "    \"siliguri_hourly_weather.csv\",\n",
        "    \"surat_hourly_weather.csv\",\n",
        "    \"thiruvananthapuram_hourly_weather.csv\",\n",
        "    \"vadodara_hourly_weather.csv\",\n",
        "    \"amini_island_hourly_weather.csv\",\n",
        "    \"visakhapatnam_hourly_weather.csv\"\n",
        "]\n",
        "\n",
        "# Create an output directory within the Colab environment (it will be temporary)\n",
        "output_local_dir = \"Scaled_Data_Output/\"\n",
        "if not os.path.exists(output_local_dir):\n",
        "    os.makedirs(output_local_dir)\n",
        "    print(f\"Created output directory: {output_local_dir}\")\n",
        "\n",
        "# Process each file\n",
        "for filename in city_filenames:\n",
        "    print(f\"\\n--- Processing {filename} ---\")\n",
        "    try:\n",
        "        # Construct the full path to the input CSV file\n",
        "        # os.path.join(\"\", filename) will just be filename\n",
        "        path = os.path.join(data_dir, filename)\n",
        "        df = pd.read_csv(path)\n",
        "\n",
        "        # Convert 'time' to datetime and set as index\n",
        "        df['time'] = pd.to_datetime(df['time'], utc=True) # Convert to UTC and make timezone-aware\n",
        "        df.set_index('time', inplace=True)\n",
        "\n",
        "        # Optional: Filter out unwanted columns (keep only numeric for now)\n",
        "        required_data_cols = ['temp', 'dwpt', 'rhum', 'prcp', 'wspd', 'pres']\n",
        "        df = df[required_data_cols]\n",
        "\n",
        "        # Resample to ensure consistent hourly intervals\n",
        "        df = df.resample('1h').mean()\n",
        "\n",
        "        # Handle missing values: linear interpolation, then ffill/bfill for edges\n",
        "        df = df.interpolate(method='linear')\n",
        "        df = df.fillna(method='ffill').fillna(method='bfill')\n",
        "\n",
        "        # Convert timezone from UTC to IST (Asia/Kolkata)\n",
        "        df = df.tz_convert('Asia/Kolkata')\n",
        "\n",
        "        # Drop any remaining NaNs\n",
        "        df.dropna(inplace=True)\n",
        "\n",
        "        print(f\"Cleaned Data Sample for {filename}:\")\n",
        "        print(df.head())\n",
        "\n",
        "        # Initialize and fit MinMaxScaler for the current city's data\n",
        "        scaler = MinMaxScaler()\n",
        "        scaled_data = scaler.fit_transform(df)\n",
        "\n",
        "        # Create scaled DataFrame with original index and columns\n",
        "        df_scaled = pd.DataFrame(scaled_data, index=df.index, columns=df.columns)\n",
        "\n",
        "        print(f\"Scaled Data Sample for {filename}:\")\n",
        "        print(df_scaled.head())\n",
        "\n",
        "        # Construct output filename and path\n",
        "        output_name = filename.replace('.csv', '_scaled.csv').replace(\" \", \"_\")\n",
        "        output_path = os.path.join(output_local_dir, output_name)\n",
        "\n",
        "        # Save the scaled DataFrame to the temporary Colab environment\n",
        "        df_scaled.to_csv(output_path)\n",
        "        print(f\"Successfully processed and saved scaled data for: {filename} to {output_path}\")\n",
        "\n",
        "        # Download the file to your local machine (optional)\n",
        "        files.download(output_path) # This will trigger a download in your browser\n",
        "\n",
        "    except FileNotFoundError:\n",
        "        print(f\"Error: File not found - {filename}. Please ensure this file is uploaded directly to your Colab session.\")\n",
        "    except KeyError as e:\n",
        "        print(f\"Error: Missing expected column in {filename} - {e}. Ensure all required columns ({required_data_cols}) are present in your CSV.\")\n",
        "    except Exception as e:\n",
        "        print(f\"An unexpected error occurred while processing {filename}: {e}\")\n",
        "\n",
        "print(\"\\n--- All files processed. ---\")"
      ]
    }
  ],
  "metadata": {
    "colab": {
      "provenance": []
    },
    "kernelspec": {
      "display_name": "Python 3",
      "name": "python3"
    },
    "language_info": {
      "name": "python"
    }
  },
  "nbformat": 4,
  "nbformat_minor": 0
}
